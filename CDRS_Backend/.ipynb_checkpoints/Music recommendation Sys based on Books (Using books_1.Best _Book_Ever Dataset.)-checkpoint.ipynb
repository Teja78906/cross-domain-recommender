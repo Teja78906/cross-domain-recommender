{
 "cells": [
  {
   "cell_type": "code",
   "execution_count": 1,
   "id": "9b457488-a5dd-421a-8074-75fa31305421",
   "metadata": {},
   "outputs": [],
   "source": [
    "import pandas as pd\n",
    "import numpy as np\n",
    "import itertools\n",
    "import nltk\n",
    "from nltk.stem import PorterStemmer"
   ]
  },
  {
   "cell_type": "code",
   "execution_count": 2,
   "id": "52e6c1d3-d0aa-4b56-a7e3-920c48a1e192",
   "metadata": {},
   "outputs": [],
   "source": [
    "book_df=pd.read_csv(\"books_1.Best_Books_Ever.csv\")"
   ]
  },
  {
   "cell_type": "code",
   "execution_count": 3,
   "id": "d728b8e3-cc64-4e15-8e7e-c6577f632bec",
   "metadata": {},
   "outputs": [
    {
     "data": {
      "text/html": [
       "<div>\n",
       "<style scoped>\n",
       "    .dataframe tbody tr th:only-of-type {\n",
       "        vertical-align: middle;\n",
       "    }\n",
       "\n",
       "    .dataframe tbody tr th {\n",
       "        vertical-align: top;\n",
       "    }\n",
       "\n",
       "    .dataframe thead th {\n",
       "        text-align: right;\n",
       "    }\n",
       "</style>\n",
       "<table border=\"1\" class=\"dataframe\">\n",
       "  <thead>\n",
       "    <tr style=\"text-align: right;\">\n",
       "      <th></th>\n",
       "      <th>bookId</th>\n",
       "      <th>title</th>\n",
       "      <th>series</th>\n",
       "      <th>author</th>\n",
       "      <th>rating</th>\n",
       "      <th>description</th>\n",
       "      <th>language</th>\n",
       "      <th>isbn</th>\n",
       "      <th>genres</th>\n",
       "      <th>characters</th>\n",
       "      <th>...</th>\n",
       "      <th>firstPublishDate</th>\n",
       "      <th>awards</th>\n",
       "      <th>numRatings</th>\n",
       "      <th>ratingsByStars</th>\n",
       "      <th>likedPercent</th>\n",
       "      <th>setting</th>\n",
       "      <th>coverImg</th>\n",
       "      <th>bbeScore</th>\n",
       "      <th>bbeVotes</th>\n",
       "      <th>price</th>\n",
       "    </tr>\n",
       "  </thead>\n",
       "  <tbody>\n",
       "    <tr>\n",
       "      <th>0</th>\n",
       "      <td>2767052-the-hunger-games</td>\n",
       "      <td>The Hunger Games</td>\n",
       "      <td>The Hunger Games #1</td>\n",
       "      <td>Suzanne Collins</td>\n",
       "      <td>4.33</td>\n",
       "      <td>WINNING MEANS FAME AND FORTUNE.LOSING MEANS CE...</td>\n",
       "      <td>English</td>\n",
       "      <td>9780439023481</td>\n",
       "      <td>['Young Adult', 'Fiction', 'Dystopia', 'Fantas...</td>\n",
       "      <td>['Katniss Everdeen', 'Peeta Mellark', 'Cato (H...</td>\n",
       "      <td>...</td>\n",
       "      <td>NaN</td>\n",
       "      <td>['Locus Award Nominee for Best Young Adult Boo...</td>\n",
       "      <td>6376780</td>\n",
       "      <td>['3444695', '1921313', '745221', '171994', '93...</td>\n",
       "      <td>96.0</td>\n",
       "      <td>['District 12, Panem', 'Capitol, Panem', 'Pane...</td>\n",
       "      <td>https://i.gr-assets.com/images/S/compressed.ph...</td>\n",
       "      <td>2993816</td>\n",
       "      <td>30516</td>\n",
       "      <td>5.09</td>\n",
       "    </tr>\n",
       "    <tr>\n",
       "      <th>1</th>\n",
       "      <td>2.Harry_Potter_and_the_Order_of_the_Phoenix</td>\n",
       "      <td>Harry Potter and the Order of the Phoenix</td>\n",
       "      <td>Harry Potter #5</td>\n",
       "      <td>J.K. Rowling, Mary GrandPré (Illustrator)</td>\n",
       "      <td>4.50</td>\n",
       "      <td>There is a door at the end of a silent corrido...</td>\n",
       "      <td>English</td>\n",
       "      <td>9780439358071</td>\n",
       "      <td>['Fantasy', 'Young Adult', 'Fiction', 'Magic',...</td>\n",
       "      <td>['Sirius Black', 'Draco Malfoy', 'Ron Weasley'...</td>\n",
       "      <td>...</td>\n",
       "      <td>06/21/03</td>\n",
       "      <td>['Bram Stoker Award for Works for Young Reader...</td>\n",
       "      <td>2507623</td>\n",
       "      <td>['1593642', '637516', '222366', '39573', '14526']</td>\n",
       "      <td>98.0</td>\n",
       "      <td>['Hogwarts School of Witchcraft and Wizardry (...</td>\n",
       "      <td>https://i.gr-assets.com/images/S/compressed.ph...</td>\n",
       "      <td>2632233</td>\n",
       "      <td>26923</td>\n",
       "      <td>7.38</td>\n",
       "    </tr>\n",
       "    <tr>\n",
       "      <th>2</th>\n",
       "      <td>2657.To_Kill_a_Mockingbird</td>\n",
       "      <td>To Kill a Mockingbird</td>\n",
       "      <td>To Kill a Mockingbird</td>\n",
       "      <td>Harper Lee</td>\n",
       "      <td>4.28</td>\n",
       "      <td>The unforgettable novel of a childhood in a sl...</td>\n",
       "      <td>English</td>\n",
       "      <td>9999999999999</td>\n",
       "      <td>['Classics', 'Fiction', 'Historical Fiction', ...</td>\n",
       "      <td>['Scout Finch', 'Atticus Finch', 'Jem Finch', ...</td>\n",
       "      <td>...</td>\n",
       "      <td>07/11/60</td>\n",
       "      <td>['Pulitzer Prize for Fiction (1961)', 'Audie A...</td>\n",
       "      <td>4501075</td>\n",
       "      <td>['2363896', '1333153', '573280', '149952', '80...</td>\n",
       "      <td>95.0</td>\n",
       "      <td>['Maycomb, Alabama (United States)']</td>\n",
       "      <td>https://i.gr-assets.com/images/S/compressed.ph...</td>\n",
       "      <td>2269402</td>\n",
       "      <td>23328</td>\n",
       "      <td>NaN</td>\n",
       "    </tr>\n",
       "    <tr>\n",
       "      <th>3</th>\n",
       "      <td>1885.Pride_and_Prejudice</td>\n",
       "      <td>Pride and Prejudice</td>\n",
       "      <td>NaN</td>\n",
       "      <td>Jane Austen, Anna Quindlen (Introduction)</td>\n",
       "      <td>4.26</td>\n",
       "      <td>Alternate cover edition of ISBN 9780679783268S...</td>\n",
       "      <td>English</td>\n",
       "      <td>9999999999999</td>\n",
       "      <td>['Classics', 'Fiction', 'Romance', 'Historical...</td>\n",
       "      <td>['Mr. Bennet', 'Mrs. Bennet', 'Jane Bennet', '...</td>\n",
       "      <td>...</td>\n",
       "      <td>01/28/13</td>\n",
       "      <td>[]</td>\n",
       "      <td>2998241</td>\n",
       "      <td>['1617567', '816659', '373311', '113934', '767...</td>\n",
       "      <td>94.0</td>\n",
       "      <td>['United Kingdom', 'Derbyshire, England (Unite...</td>\n",
       "      <td>https://i.gr-assets.com/images/S/compressed.ph...</td>\n",
       "      <td>1983116</td>\n",
       "      <td>20452</td>\n",
       "      <td>NaN</td>\n",
       "    </tr>\n",
       "    <tr>\n",
       "      <th>4</th>\n",
       "      <td>41865.Twilight</td>\n",
       "      <td>Twilight</td>\n",
       "      <td>The Twilight Saga #1</td>\n",
       "      <td>Stephenie Meyer</td>\n",
       "      <td>3.60</td>\n",
       "      <td>About three things I was absolutely positive.\\...</td>\n",
       "      <td>English</td>\n",
       "      <td>9780316015844</td>\n",
       "      <td>['Young Adult', 'Fantasy', 'Romance', 'Vampire...</td>\n",
       "      <td>['Edward Cullen', 'Jacob Black', 'Laurent', 'R...</td>\n",
       "      <td>...</td>\n",
       "      <td>10/05/05</td>\n",
       "      <td>['Georgia Peach Book Award (2007)', 'Buxtehude...</td>\n",
       "      <td>4964519</td>\n",
       "      <td>['1751460', '1113682', '1008686', '542017', '5...</td>\n",
       "      <td>78.0</td>\n",
       "      <td>['Forks, Washington (United States)', 'Phoenix...</td>\n",
       "      <td>https://i.gr-assets.com/images/S/compressed.ph...</td>\n",
       "      <td>1459448</td>\n",
       "      <td>14874</td>\n",
       "      <td>2.1</td>\n",
       "    </tr>\n",
       "  </tbody>\n",
       "</table>\n",
       "<p>5 rows × 25 columns</p>\n",
       "</div>"
      ],
      "text/plain": [
       "                                        bookId  \\\n",
       "0                     2767052-the-hunger-games   \n",
       "1  2.Harry_Potter_and_the_Order_of_the_Phoenix   \n",
       "2                   2657.To_Kill_a_Mockingbird   \n",
       "3                     1885.Pride_and_Prejudice   \n",
       "4                               41865.Twilight   \n",
       "\n",
       "                                       title                 series  \\\n",
       "0                           The Hunger Games    The Hunger Games #1   \n",
       "1  Harry Potter and the Order of the Phoenix        Harry Potter #5   \n",
       "2                      To Kill a Mockingbird  To Kill a Mockingbird   \n",
       "3                        Pride and Prejudice                    NaN   \n",
       "4                                   Twilight   The Twilight Saga #1   \n",
       "\n",
       "                                      author  rating  \\\n",
       "0                            Suzanne Collins    4.33   \n",
       "1  J.K. Rowling, Mary GrandPré (Illustrator)    4.50   \n",
       "2                                 Harper Lee    4.28   \n",
       "3  Jane Austen, Anna Quindlen (Introduction)    4.26   \n",
       "4                            Stephenie Meyer    3.60   \n",
       "\n",
       "                                         description language           isbn  \\\n",
       "0  WINNING MEANS FAME AND FORTUNE.LOSING MEANS CE...  English  9780439023481   \n",
       "1  There is a door at the end of a silent corrido...  English  9780439358071   \n",
       "2  The unforgettable novel of a childhood in a sl...  English  9999999999999   \n",
       "3  Alternate cover edition of ISBN 9780679783268S...  English  9999999999999   \n",
       "4  About three things I was absolutely positive.\\...  English  9780316015844   \n",
       "\n",
       "                                              genres  \\\n",
       "0  ['Young Adult', 'Fiction', 'Dystopia', 'Fantas...   \n",
       "1  ['Fantasy', 'Young Adult', 'Fiction', 'Magic',...   \n",
       "2  ['Classics', 'Fiction', 'Historical Fiction', ...   \n",
       "3  ['Classics', 'Fiction', 'Romance', 'Historical...   \n",
       "4  ['Young Adult', 'Fantasy', 'Romance', 'Vampire...   \n",
       "\n",
       "                                          characters  ... firstPublishDate  \\\n",
       "0  ['Katniss Everdeen', 'Peeta Mellark', 'Cato (H...  ...              NaN   \n",
       "1  ['Sirius Black', 'Draco Malfoy', 'Ron Weasley'...  ...         06/21/03   \n",
       "2  ['Scout Finch', 'Atticus Finch', 'Jem Finch', ...  ...         07/11/60   \n",
       "3  ['Mr. Bennet', 'Mrs. Bennet', 'Jane Bennet', '...  ...         01/28/13   \n",
       "4  ['Edward Cullen', 'Jacob Black', 'Laurent', 'R...  ...         10/05/05   \n",
       "\n",
       "                                              awards numRatings  \\\n",
       "0  ['Locus Award Nominee for Best Young Adult Boo...    6376780   \n",
       "1  ['Bram Stoker Award for Works for Young Reader...    2507623   \n",
       "2  ['Pulitzer Prize for Fiction (1961)', 'Audie A...    4501075   \n",
       "3                                                 []    2998241   \n",
       "4  ['Georgia Peach Book Award (2007)', 'Buxtehude...    4964519   \n",
       "\n",
       "                                      ratingsByStars likedPercent  \\\n",
       "0  ['3444695', '1921313', '745221', '171994', '93...         96.0   \n",
       "1  ['1593642', '637516', '222366', '39573', '14526']         98.0   \n",
       "2  ['2363896', '1333153', '573280', '149952', '80...         95.0   \n",
       "3  ['1617567', '816659', '373311', '113934', '767...         94.0   \n",
       "4  ['1751460', '1113682', '1008686', '542017', '5...         78.0   \n",
       "\n",
       "                                             setting  \\\n",
       "0  ['District 12, Panem', 'Capitol, Panem', 'Pane...   \n",
       "1  ['Hogwarts School of Witchcraft and Wizardry (...   \n",
       "2               ['Maycomb, Alabama (United States)']   \n",
       "3  ['United Kingdom', 'Derbyshire, England (Unite...   \n",
       "4  ['Forks, Washington (United States)', 'Phoenix...   \n",
       "\n",
       "                                            coverImg  bbeScore bbeVotes  price  \n",
       "0  https://i.gr-assets.com/images/S/compressed.ph...   2993816    30516   5.09  \n",
       "1  https://i.gr-assets.com/images/S/compressed.ph...   2632233    26923   7.38  \n",
       "2  https://i.gr-assets.com/images/S/compressed.ph...   2269402    23328    NaN  \n",
       "3  https://i.gr-assets.com/images/S/compressed.ph...   1983116    20452    NaN  \n",
       "4  https://i.gr-assets.com/images/S/compressed.ph...   1459448    14874    2.1  \n",
       "\n",
       "[5 rows x 25 columns]"
      ]
     },
     "execution_count": 3,
     "metadata": {},
     "output_type": "execute_result"
    }
   ],
   "source": [
    "book_df.head()"
   ]
  },
  {
   "cell_type": "code",
   "execution_count": 4,
   "id": "70028442-ec66-4935-b915-1382797ffaea",
   "metadata": {},
   "outputs": [
    {
     "data": {
      "text/plain": [
       "50"
      ]
     },
     "execution_count": 4,
     "metadata": {},
     "output_type": "execute_result"
    }
   ],
   "source": [
    "book_df.duplicated().sum()"
   ]
  },
  {
   "cell_type": "code",
   "execution_count": 5,
   "id": "05a91a84-39fb-4526-9cbe-3c1d64c6ab40",
   "metadata": {},
   "outputs": [],
   "source": [
    "book_df.drop_duplicates(inplace=True)"
   ]
  },
  {
   "cell_type": "code",
   "execution_count": 6,
   "id": "4ce78973-df59-4fd3-8852-ef6e9a0249e1",
   "metadata": {},
   "outputs": [
    {
     "data": {
      "text/plain": [
       "4356"
      ]
     },
     "execution_count": 6,
     "metadata": {},
     "output_type": "execute_result"
    }
   ],
   "source": [
    "book_df[\"isbn\"].duplicated().sum()"
   ]
  },
  {
   "cell_type": "code",
   "execution_count": 7,
   "id": "8127e775-3d01-436e-8b07-bd6c05aa532d",
   "metadata": {},
   "outputs": [],
   "source": [
    "book=book_df[[\"bookId\",\"title\",\"author\",\"description\",\"genres\",\"characters\"]]"
   ]
  },
  {
   "cell_type": "code",
   "execution_count": 8,
   "id": "5aa533bf-d936-4f04-be8b-8d5d95c5c5af",
   "metadata": {},
   "outputs": [
    {
     "data": {
      "text/html": [
       "<div>\n",
       "<style scoped>\n",
       "    .dataframe tbody tr th:only-of-type {\n",
       "        vertical-align: middle;\n",
       "    }\n",
       "\n",
       "    .dataframe tbody tr th {\n",
       "        vertical-align: top;\n",
       "    }\n",
       "\n",
       "    .dataframe thead th {\n",
       "        text-align: right;\n",
       "    }\n",
       "</style>\n",
       "<table border=\"1\" class=\"dataframe\">\n",
       "  <thead>\n",
       "    <tr style=\"text-align: right;\">\n",
       "      <th></th>\n",
       "      <th>bookId</th>\n",
       "      <th>title</th>\n",
       "      <th>author</th>\n",
       "      <th>description</th>\n",
       "      <th>genres</th>\n",
       "      <th>characters</th>\n",
       "    </tr>\n",
       "  </thead>\n",
       "  <tbody>\n",
       "    <tr>\n",
       "      <th>0</th>\n",
       "      <td>2767052-the-hunger-games</td>\n",
       "      <td>The Hunger Games</td>\n",
       "      <td>Suzanne Collins</td>\n",
       "      <td>WINNING MEANS FAME AND FORTUNE.LOSING MEANS CE...</td>\n",
       "      <td>['Young Adult', 'Fiction', 'Dystopia', 'Fantas...</td>\n",
       "      <td>['Katniss Everdeen', 'Peeta Mellark', 'Cato (H...</td>\n",
       "    </tr>\n",
       "    <tr>\n",
       "      <th>1</th>\n",
       "      <td>2.Harry_Potter_and_the_Order_of_the_Phoenix</td>\n",
       "      <td>Harry Potter and the Order of the Phoenix</td>\n",
       "      <td>J.K. Rowling, Mary GrandPré (Illustrator)</td>\n",
       "      <td>There is a door at the end of a silent corrido...</td>\n",
       "      <td>['Fantasy', 'Young Adult', 'Fiction', 'Magic',...</td>\n",
       "      <td>['Sirius Black', 'Draco Malfoy', 'Ron Weasley'...</td>\n",
       "    </tr>\n",
       "    <tr>\n",
       "      <th>2</th>\n",
       "      <td>2657.To_Kill_a_Mockingbird</td>\n",
       "      <td>To Kill a Mockingbird</td>\n",
       "      <td>Harper Lee</td>\n",
       "      <td>The unforgettable novel of a childhood in a sl...</td>\n",
       "      <td>['Classics', 'Fiction', 'Historical Fiction', ...</td>\n",
       "      <td>['Scout Finch', 'Atticus Finch', 'Jem Finch', ...</td>\n",
       "    </tr>\n",
       "    <tr>\n",
       "      <th>3</th>\n",
       "      <td>1885.Pride_and_Prejudice</td>\n",
       "      <td>Pride and Prejudice</td>\n",
       "      <td>Jane Austen, Anna Quindlen (Introduction)</td>\n",
       "      <td>Alternate cover edition of ISBN 9780679783268S...</td>\n",
       "      <td>['Classics', 'Fiction', 'Romance', 'Historical...</td>\n",
       "      <td>['Mr. Bennet', 'Mrs. Bennet', 'Jane Bennet', '...</td>\n",
       "    </tr>\n",
       "    <tr>\n",
       "      <th>4</th>\n",
       "      <td>41865.Twilight</td>\n",
       "      <td>Twilight</td>\n",
       "      <td>Stephenie Meyer</td>\n",
       "      <td>About three things I was absolutely positive.\\...</td>\n",
       "      <td>['Young Adult', 'Fantasy', 'Romance', 'Vampire...</td>\n",
       "      <td>['Edward Cullen', 'Jacob Black', 'Laurent', 'R...</td>\n",
       "    </tr>\n",
       "  </tbody>\n",
       "</table>\n",
       "</div>"
      ],
      "text/plain": [
       "                                        bookId  \\\n",
       "0                     2767052-the-hunger-games   \n",
       "1  2.Harry_Potter_and_the_Order_of_the_Phoenix   \n",
       "2                   2657.To_Kill_a_Mockingbird   \n",
       "3                     1885.Pride_and_Prejudice   \n",
       "4                               41865.Twilight   \n",
       "\n",
       "                                       title  \\\n",
       "0                           The Hunger Games   \n",
       "1  Harry Potter and the Order of the Phoenix   \n",
       "2                      To Kill a Mockingbird   \n",
       "3                        Pride and Prejudice   \n",
       "4                                   Twilight   \n",
       "\n",
       "                                      author  \\\n",
       "0                            Suzanne Collins   \n",
       "1  J.K. Rowling, Mary GrandPré (Illustrator)   \n",
       "2                                 Harper Lee   \n",
       "3  Jane Austen, Anna Quindlen (Introduction)   \n",
       "4                            Stephenie Meyer   \n",
       "\n",
       "                                         description  \\\n",
       "0  WINNING MEANS FAME AND FORTUNE.LOSING MEANS CE...   \n",
       "1  There is a door at the end of a silent corrido...   \n",
       "2  The unforgettable novel of a childhood in a sl...   \n",
       "3  Alternate cover edition of ISBN 9780679783268S...   \n",
       "4  About three things I was absolutely positive.\\...   \n",
       "\n",
       "                                              genres  \\\n",
       "0  ['Young Adult', 'Fiction', 'Dystopia', 'Fantas...   \n",
       "1  ['Fantasy', 'Young Adult', 'Fiction', 'Magic',...   \n",
       "2  ['Classics', 'Fiction', 'Historical Fiction', ...   \n",
       "3  ['Classics', 'Fiction', 'Romance', 'Historical...   \n",
       "4  ['Young Adult', 'Fantasy', 'Romance', 'Vampire...   \n",
       "\n",
       "                                          characters  \n",
       "0  ['Katniss Everdeen', 'Peeta Mellark', 'Cato (H...  \n",
       "1  ['Sirius Black', 'Draco Malfoy', 'Ron Weasley'...  \n",
       "2  ['Scout Finch', 'Atticus Finch', 'Jem Finch', ...  \n",
       "3  ['Mr. Bennet', 'Mrs. Bennet', 'Jane Bennet', '...  \n",
       "4  ['Edward Cullen', 'Jacob Black', 'Laurent', 'R...  "
      ]
     },
     "execution_count": 8,
     "metadata": {},
     "output_type": "execute_result"
    }
   ],
   "source": [
    "book.head()"
   ]
  },
  {
   "cell_type": "code",
   "execution_count": 9,
   "id": "08ee6411-0d20-4683-afa2-b3eb01d613b5",
   "metadata": {},
   "outputs": [
    {
     "data": {
      "text/plain": [
       "\"['Young Adult', 'Fiction', 'Dystopia', 'Fantasy', 'Science Fiction', 'Romance', 'Adventure', 'Teen', 'Post Apocalyptic', 'Action']\""
      ]
     },
     "execution_count": 9,
     "metadata": {},
     "output_type": "execute_result"
    }
   ],
   "source": [
    "book.iloc[0][\"genres\"]"
   ]
  },
  {
   "cell_type": "code",
   "execution_count": 10,
   "id": "357f7f30-a628-49a7-8b87-d51cd5fccaf6",
   "metadata": {},
   "outputs": [],
   "source": [
    "book_genres=book[\"genres\"]"
   ]
  },
  {
   "cell_type": "code",
   "execution_count": 11,
   "id": "904f5705-dcd5-4052-afe5-79ee03fc5773",
   "metadata": {},
   "outputs": [
    {
     "data": {
      "text/plain": [
       "0        ['Young Adult', 'Fiction', 'Dystopia', 'Fantas...\n",
       "1        ['Fantasy', 'Young Adult', 'Fiction', 'Magic',...\n",
       "2        ['Classics', 'Fiction', 'Historical Fiction', ...\n",
       "3        ['Classics', 'Fiction', 'Romance', 'Historical...\n",
       "4        ['Young Adult', 'Fantasy', 'Romance', 'Vampire...\n",
       "                               ...                        \n",
       "52473    ['Vampires', 'Paranormal', 'Young Adult', 'Rom...\n",
       "52474                           ['Mystery', 'Young Adult']\n",
       "52475    ['Fantasy', 'Young Adult', 'Paranormal', 'Ange...\n",
       "52476    ['Fiction', 'Mystery', 'Historical Fiction', '...\n",
       "52477    ['Lds Fiction', 'Historical Fiction', 'Young A...\n",
       "Name: genres, Length: 52428, dtype: object"
      ]
     },
     "execution_count": 11,
     "metadata": {},
     "output_type": "execute_result"
    }
   ],
   "source": [
    "book_genres"
   ]
  },
  {
   "cell_type": "code",
   "execution_count": 12,
   "id": "f1ec0fd6-3730-4b30-8d52-f5e4e53dad18",
   "metadata": {},
   "outputs": [],
   "source": [
    "import ast #for converting str to list\n",
    "\n",
    "def convert(text):\n",
    "    L = []\n",
    "    for i in ast.literal_eval(text):\n",
    "        L.append(i) \n",
    "    return L"
   ]
  },
  {
   "cell_type": "code",
   "execution_count": 13,
   "id": "e1c1dbf3-39ac-481a-9ad9-0657e7df15d4",
   "metadata": {},
   "outputs": [
    {
     "name": "stderr",
     "output_type": "stream",
     "text": [
      "C:\\Users\\TEJA\\AppData\\Local\\Temp\\ipykernel_9288\\3301827617.py:1: SettingWithCopyWarning: \n",
      "A value is trying to be set on a copy of a slice from a DataFrame.\n",
      "Try using .loc[row_indexer,col_indexer] = value instead\n",
      "\n",
      "See the caveats in the documentation: https://pandas.pydata.org/pandas-docs/stable/user_guide/indexing.html#returning-a-view-versus-a-copy\n",
      "  book['genres'] = book['genres'].apply(convert)\n"
     ]
    }
   ],
   "source": [
    "book['genres'] = book['genres'].apply(convert)"
   ]
  },
  {
   "cell_type": "code",
   "execution_count": 14,
   "id": "2b336716-6cff-42e1-bb8b-86ec52250690",
   "metadata": {},
   "outputs": [
    {
     "data": {
      "text/plain": [
       "['Young Adult',\n",
       " 'Fiction',\n",
       " 'Dystopia',\n",
       " 'Fantasy',\n",
       " 'Science Fiction',\n",
       " 'Romance',\n",
       " 'Adventure',\n",
       " 'Teen',\n",
       " 'Post Apocalyptic',\n",
       " 'Action']"
      ]
     },
     "execution_count": 14,
     "metadata": {},
     "output_type": "execute_result"
    }
   ],
   "source": [
    "book.iloc[0][\"genres\"]"
   ]
  },
  {
   "cell_type": "code",
   "execution_count": 15,
   "id": "c2f550e8-b91a-4e3e-9981-c3d735a86ec5",
   "metadata": {},
   "outputs": [
    {
     "data": {
      "text/html": [
       "<div>\n",
       "<style scoped>\n",
       "    .dataframe tbody tr th:only-of-type {\n",
       "        vertical-align: middle;\n",
       "    }\n",
       "\n",
       "    .dataframe tbody tr th {\n",
       "        vertical-align: top;\n",
       "    }\n",
       "\n",
       "    .dataframe thead th {\n",
       "        text-align: right;\n",
       "    }\n",
       "</style>\n",
       "<table border=\"1\" class=\"dataframe\">\n",
       "  <thead>\n",
       "    <tr style=\"text-align: right;\">\n",
       "      <th></th>\n",
       "      <th>bookId</th>\n",
       "      <th>title</th>\n",
       "      <th>author</th>\n",
       "      <th>description</th>\n",
       "      <th>genres</th>\n",
       "      <th>characters</th>\n",
       "    </tr>\n",
       "  </thead>\n",
       "  <tbody>\n",
       "    <tr>\n",
       "      <th>0</th>\n",
       "      <td>2767052-the-hunger-games</td>\n",
       "      <td>The Hunger Games</td>\n",
       "      <td>Suzanne Collins</td>\n",
       "      <td>WINNING MEANS FAME AND FORTUNE.LOSING MEANS CE...</td>\n",
       "      <td>[Young Adult, Fiction, Dystopia, Fantasy, Scie...</td>\n",
       "      <td>['Katniss Everdeen', 'Peeta Mellark', 'Cato (H...</td>\n",
       "    </tr>\n",
       "    <tr>\n",
       "      <th>1</th>\n",
       "      <td>2.Harry_Potter_and_the_Order_of_the_Phoenix</td>\n",
       "      <td>Harry Potter and the Order of the Phoenix</td>\n",
       "      <td>J.K. Rowling, Mary GrandPré (Illustrator)</td>\n",
       "      <td>There is a door at the end of a silent corrido...</td>\n",
       "      <td>[Fantasy, Young Adult, Fiction, Magic, Childre...</td>\n",
       "      <td>['Sirius Black', 'Draco Malfoy', 'Ron Weasley'...</td>\n",
       "    </tr>\n",
       "    <tr>\n",
       "      <th>2</th>\n",
       "      <td>2657.To_Kill_a_Mockingbird</td>\n",
       "      <td>To Kill a Mockingbird</td>\n",
       "      <td>Harper Lee</td>\n",
       "      <td>The unforgettable novel of a childhood in a sl...</td>\n",
       "      <td>[Classics, Fiction, Historical Fiction, School...</td>\n",
       "      <td>['Scout Finch', 'Atticus Finch', 'Jem Finch', ...</td>\n",
       "    </tr>\n",
       "    <tr>\n",
       "      <th>3</th>\n",
       "      <td>1885.Pride_and_Prejudice</td>\n",
       "      <td>Pride and Prejudice</td>\n",
       "      <td>Jane Austen, Anna Quindlen (Introduction)</td>\n",
       "      <td>Alternate cover edition of ISBN 9780679783268S...</td>\n",
       "      <td>[Classics, Fiction, Romance, Historical Fictio...</td>\n",
       "      <td>['Mr. Bennet', 'Mrs. Bennet', 'Jane Bennet', '...</td>\n",
       "    </tr>\n",
       "    <tr>\n",
       "      <th>4</th>\n",
       "      <td>41865.Twilight</td>\n",
       "      <td>Twilight</td>\n",
       "      <td>Stephenie Meyer</td>\n",
       "      <td>About three things I was absolutely positive.\\...</td>\n",
       "      <td>[Young Adult, Fantasy, Romance, Vampires, Fict...</td>\n",
       "      <td>['Edward Cullen', 'Jacob Black', 'Laurent', 'R...</td>\n",
       "    </tr>\n",
       "  </tbody>\n",
       "</table>\n",
       "</div>"
      ],
      "text/plain": [
       "                                        bookId  \\\n",
       "0                     2767052-the-hunger-games   \n",
       "1  2.Harry_Potter_and_the_Order_of_the_Phoenix   \n",
       "2                   2657.To_Kill_a_Mockingbird   \n",
       "3                     1885.Pride_and_Prejudice   \n",
       "4                               41865.Twilight   \n",
       "\n",
       "                                       title  \\\n",
       "0                           The Hunger Games   \n",
       "1  Harry Potter and the Order of the Phoenix   \n",
       "2                      To Kill a Mockingbird   \n",
       "3                        Pride and Prejudice   \n",
       "4                                   Twilight   \n",
       "\n",
       "                                      author  \\\n",
       "0                            Suzanne Collins   \n",
       "1  J.K. Rowling, Mary GrandPré (Illustrator)   \n",
       "2                                 Harper Lee   \n",
       "3  Jane Austen, Anna Quindlen (Introduction)   \n",
       "4                            Stephenie Meyer   \n",
       "\n",
       "                                         description  \\\n",
       "0  WINNING MEANS FAME AND FORTUNE.LOSING MEANS CE...   \n",
       "1  There is a door at the end of a silent corrido...   \n",
       "2  The unforgettable novel of a childhood in a sl...   \n",
       "3  Alternate cover edition of ISBN 9780679783268S...   \n",
       "4  About three things I was absolutely positive.\\...   \n",
       "\n",
       "                                              genres  \\\n",
       "0  [Young Adult, Fiction, Dystopia, Fantasy, Scie...   \n",
       "1  [Fantasy, Young Adult, Fiction, Magic, Childre...   \n",
       "2  [Classics, Fiction, Historical Fiction, School...   \n",
       "3  [Classics, Fiction, Romance, Historical Fictio...   \n",
       "4  [Young Adult, Fantasy, Romance, Vampires, Fict...   \n",
       "\n",
       "                                          characters  \n",
       "0  ['Katniss Everdeen', 'Peeta Mellark', 'Cato (H...  \n",
       "1  ['Sirius Black', 'Draco Malfoy', 'Ron Weasley'...  \n",
       "2  ['Scout Finch', 'Atticus Finch', 'Jem Finch', ...  \n",
       "3  ['Mr. Bennet', 'Mrs. Bennet', 'Jane Bennet', '...  \n",
       "4  ['Edward Cullen', 'Jacob Black', 'Laurent', 'R...  "
      ]
     },
     "execution_count": 15,
     "metadata": {},
     "output_type": "execute_result"
    }
   ],
   "source": [
    "book.head()"
   ]
  },
  {
   "cell_type": "code",
   "execution_count": 16,
   "id": "88a47b84-8340-4f8f-8173-a49596a0b42e",
   "metadata": {},
   "outputs": [],
   "source": [
    "book_titles=book.title.unique().tolist()"
   ]
  },
  {
   "cell_type": "code",
   "execution_count": 17,
   "id": "71d99e1a-a1b4-4f91-b627-7cc3074da49c",
   "metadata": {},
   "outputs": [],
   "source": [
    "book_titles=pd.DataFrame(book_titles)\n",
    "book_titles.columns=[\"titles\"]\n",
    "book_titles.to_json(\"book_titles.json\")"
   ]
  },
  {
   "cell_type": "code",
   "execution_count": 18,
   "id": "06fc9cf3-888f-41d7-93e5-42b0aeda2f63",
   "metadata": {},
   "outputs": [],
   "source": [
    "def remove_space(L):\n",
    "    L1 = []\n",
    "    for i in L:\n",
    "        L1.append(i.replace(\" \",\"\"))\n",
    "    return L1"
   ]
  },
  {
   "cell_type": "code",
   "execution_count": 19,
   "id": "62604650-43f0-468d-80c7-12f9c2ceed23",
   "metadata": {},
   "outputs": [
    {
     "name": "stderr",
     "output_type": "stream",
     "text": [
      "C:\\Users\\TEJA\\AppData\\Local\\Temp\\ipykernel_9288\\1458159455.py:1: SettingWithCopyWarning: \n",
      "A value is trying to be set on a copy of a slice from a DataFrame.\n",
      "Try using .loc[row_indexer,col_indexer] = value instead\n",
      "\n",
      "See the caveats in the documentation: https://pandas.pydata.org/pandas-docs/stable/user_guide/indexing.html#returning-a-view-versus-a-copy\n",
      "  book['genres'] = book['genres'].apply(remove_space)\n"
     ]
    }
   ],
   "source": [
    "book['genres'] = book['genres'].apply(remove_space)"
   ]
  },
  {
   "cell_type": "code",
   "execution_count": 20,
   "id": "7ae0a87f-9aa1-4bee-9fda-36d649988cf8",
   "metadata": {},
   "outputs": [
    {
     "data": {
      "text/html": [
       "<div>\n",
       "<style scoped>\n",
       "    .dataframe tbody tr th:only-of-type {\n",
       "        vertical-align: middle;\n",
       "    }\n",
       "\n",
       "    .dataframe tbody tr th {\n",
       "        vertical-align: top;\n",
       "    }\n",
       "\n",
       "    .dataframe thead th {\n",
       "        text-align: right;\n",
       "    }\n",
       "</style>\n",
       "<table border=\"1\" class=\"dataframe\">\n",
       "  <thead>\n",
       "    <tr style=\"text-align: right;\">\n",
       "      <th></th>\n",
       "      <th>bookId</th>\n",
       "      <th>title</th>\n",
       "      <th>author</th>\n",
       "      <th>description</th>\n",
       "      <th>genres</th>\n",
       "      <th>characters</th>\n",
       "    </tr>\n",
       "  </thead>\n",
       "  <tbody>\n",
       "    <tr>\n",
       "      <th>0</th>\n",
       "      <td>2767052-the-hunger-games</td>\n",
       "      <td>The Hunger Games</td>\n",
       "      <td>Suzanne Collins</td>\n",
       "      <td>WINNING MEANS FAME AND FORTUNE.LOSING MEANS CE...</td>\n",
       "      <td>[YoungAdult, Fiction, Dystopia, Fantasy, Scien...</td>\n",
       "      <td>['Katniss Everdeen', 'Peeta Mellark', 'Cato (H...</td>\n",
       "    </tr>\n",
       "    <tr>\n",
       "      <th>1</th>\n",
       "      <td>2.Harry_Potter_and_the_Order_of_the_Phoenix</td>\n",
       "      <td>Harry Potter and the Order of the Phoenix</td>\n",
       "      <td>J.K. Rowling, Mary GrandPré (Illustrator)</td>\n",
       "      <td>There is a door at the end of a silent corrido...</td>\n",
       "      <td>[Fantasy, YoungAdult, Fiction, Magic, Children...</td>\n",
       "      <td>['Sirius Black', 'Draco Malfoy', 'Ron Weasley'...</td>\n",
       "    </tr>\n",
       "    <tr>\n",
       "      <th>2</th>\n",
       "      <td>2657.To_Kill_a_Mockingbird</td>\n",
       "      <td>To Kill a Mockingbird</td>\n",
       "      <td>Harper Lee</td>\n",
       "      <td>The unforgettable novel of a childhood in a sl...</td>\n",
       "      <td>[Classics, Fiction, HistoricalFiction, School,...</td>\n",
       "      <td>['Scout Finch', 'Atticus Finch', 'Jem Finch', ...</td>\n",
       "    </tr>\n",
       "    <tr>\n",
       "      <th>3</th>\n",
       "      <td>1885.Pride_and_Prejudice</td>\n",
       "      <td>Pride and Prejudice</td>\n",
       "      <td>Jane Austen, Anna Quindlen (Introduction)</td>\n",
       "      <td>Alternate cover edition of ISBN 9780679783268S...</td>\n",
       "      <td>[Classics, Fiction, Romance, HistoricalFiction...</td>\n",
       "      <td>['Mr. Bennet', 'Mrs. Bennet', 'Jane Bennet', '...</td>\n",
       "    </tr>\n",
       "    <tr>\n",
       "      <th>4</th>\n",
       "      <td>41865.Twilight</td>\n",
       "      <td>Twilight</td>\n",
       "      <td>Stephenie Meyer</td>\n",
       "      <td>About three things I was absolutely positive.\\...</td>\n",
       "      <td>[YoungAdult, Fantasy, Romance, Vampires, Ficti...</td>\n",
       "      <td>['Edward Cullen', 'Jacob Black', 'Laurent', 'R...</td>\n",
       "    </tr>\n",
       "  </tbody>\n",
       "</table>\n",
       "</div>"
      ],
      "text/plain": [
       "                                        bookId  \\\n",
       "0                     2767052-the-hunger-games   \n",
       "1  2.Harry_Potter_and_the_Order_of_the_Phoenix   \n",
       "2                   2657.To_Kill_a_Mockingbird   \n",
       "3                     1885.Pride_and_Prejudice   \n",
       "4                               41865.Twilight   \n",
       "\n",
       "                                       title  \\\n",
       "0                           The Hunger Games   \n",
       "1  Harry Potter and the Order of the Phoenix   \n",
       "2                      To Kill a Mockingbird   \n",
       "3                        Pride and Prejudice   \n",
       "4                                   Twilight   \n",
       "\n",
       "                                      author  \\\n",
       "0                            Suzanne Collins   \n",
       "1  J.K. Rowling, Mary GrandPré (Illustrator)   \n",
       "2                                 Harper Lee   \n",
       "3  Jane Austen, Anna Quindlen (Introduction)   \n",
       "4                            Stephenie Meyer   \n",
       "\n",
       "                                         description  \\\n",
       "0  WINNING MEANS FAME AND FORTUNE.LOSING MEANS CE...   \n",
       "1  There is a door at the end of a silent corrido...   \n",
       "2  The unforgettable novel of a childhood in a sl...   \n",
       "3  Alternate cover edition of ISBN 9780679783268S...   \n",
       "4  About three things I was absolutely positive.\\...   \n",
       "\n",
       "                                              genres  \\\n",
       "0  [YoungAdult, Fiction, Dystopia, Fantasy, Scien...   \n",
       "1  [Fantasy, YoungAdult, Fiction, Magic, Children...   \n",
       "2  [Classics, Fiction, HistoricalFiction, School,...   \n",
       "3  [Classics, Fiction, Romance, HistoricalFiction...   \n",
       "4  [YoungAdult, Fantasy, Romance, Vampires, Ficti...   \n",
       "\n",
       "                                          characters  \n",
       "0  ['Katniss Everdeen', 'Peeta Mellark', 'Cato (H...  \n",
       "1  ['Sirius Black', 'Draco Malfoy', 'Ron Weasley'...  \n",
       "2  ['Scout Finch', 'Atticus Finch', 'Jem Finch', ...  \n",
       "3  ['Mr. Bennet', 'Mrs. Bennet', 'Jane Bennet', '...  \n",
       "4  ['Edward Cullen', 'Jacob Black', 'Laurent', 'R...  "
      ]
     },
     "execution_count": 20,
     "metadata": {},
     "output_type": "execute_result"
    }
   ],
   "source": [
    "book.head()"
   ]
  },
  {
   "cell_type": "code",
   "execution_count": 21,
   "id": "a8df4e5b-e839-48c1-9b9c-3468cafec091",
   "metadata": {},
   "outputs": [
    {
     "name": "stderr",
     "output_type": "stream",
     "text": [
      "C:\\Users\\TEJA\\AppData\\Local\\Temp\\ipykernel_9288\\3508009175.py:1: SettingWithCopyWarning: \n",
      "A value is trying to be set on a copy of a slice from a DataFrame.\n",
      "Try using .loc[row_indexer,col_indexer] = value instead\n",
      "\n",
      "See the caveats in the documentation: https://pandas.pydata.org/pandas-docs/stable/user_guide/indexing.html#returning-a-view-versus-a-copy\n",
      "  book[\"Tags\"]=book[\"genres\"]\n"
     ]
    }
   ],
   "source": [
    "book[\"Tags\"]=book[\"genres\"]"
   ]
  },
  {
   "cell_type": "code",
   "execution_count": 22,
   "id": "520054b8-f2df-4a86-8fd2-cf579478a535",
   "metadata": {},
   "outputs": [
    {
     "data": {
      "text/html": [
       "<div>\n",
       "<style scoped>\n",
       "    .dataframe tbody tr th:only-of-type {\n",
       "        vertical-align: middle;\n",
       "    }\n",
       "\n",
       "    .dataframe tbody tr th {\n",
       "        vertical-align: top;\n",
       "    }\n",
       "\n",
       "    .dataframe thead th {\n",
       "        text-align: right;\n",
       "    }\n",
       "</style>\n",
       "<table border=\"1\" class=\"dataframe\">\n",
       "  <thead>\n",
       "    <tr style=\"text-align: right;\">\n",
       "      <th></th>\n",
       "      <th>bookId</th>\n",
       "      <th>title</th>\n",
       "      <th>author</th>\n",
       "      <th>description</th>\n",
       "      <th>genres</th>\n",
       "      <th>characters</th>\n",
       "      <th>Tags</th>\n",
       "    </tr>\n",
       "  </thead>\n",
       "  <tbody>\n",
       "    <tr>\n",
       "      <th>0</th>\n",
       "      <td>2767052-the-hunger-games</td>\n",
       "      <td>The Hunger Games</td>\n",
       "      <td>Suzanne Collins</td>\n",
       "      <td>WINNING MEANS FAME AND FORTUNE.LOSING MEANS CE...</td>\n",
       "      <td>[YoungAdult, Fiction, Dystopia, Fantasy, Scien...</td>\n",
       "      <td>['Katniss Everdeen', 'Peeta Mellark', 'Cato (H...</td>\n",
       "      <td>[YoungAdult, Fiction, Dystopia, Fantasy, Scien...</td>\n",
       "    </tr>\n",
       "    <tr>\n",
       "      <th>1</th>\n",
       "      <td>2.Harry_Potter_and_the_Order_of_the_Phoenix</td>\n",
       "      <td>Harry Potter and the Order of the Phoenix</td>\n",
       "      <td>J.K. Rowling, Mary GrandPré (Illustrator)</td>\n",
       "      <td>There is a door at the end of a silent corrido...</td>\n",
       "      <td>[Fantasy, YoungAdult, Fiction, Magic, Children...</td>\n",
       "      <td>['Sirius Black', 'Draco Malfoy', 'Ron Weasley'...</td>\n",
       "      <td>[Fantasy, YoungAdult, Fiction, Magic, Children...</td>\n",
       "    </tr>\n",
       "    <tr>\n",
       "      <th>2</th>\n",
       "      <td>2657.To_Kill_a_Mockingbird</td>\n",
       "      <td>To Kill a Mockingbird</td>\n",
       "      <td>Harper Lee</td>\n",
       "      <td>The unforgettable novel of a childhood in a sl...</td>\n",
       "      <td>[Classics, Fiction, HistoricalFiction, School,...</td>\n",
       "      <td>['Scout Finch', 'Atticus Finch', 'Jem Finch', ...</td>\n",
       "      <td>[Classics, Fiction, HistoricalFiction, School,...</td>\n",
       "    </tr>\n",
       "    <tr>\n",
       "      <th>3</th>\n",
       "      <td>1885.Pride_and_Prejudice</td>\n",
       "      <td>Pride and Prejudice</td>\n",
       "      <td>Jane Austen, Anna Quindlen (Introduction)</td>\n",
       "      <td>Alternate cover edition of ISBN 9780679783268S...</td>\n",
       "      <td>[Classics, Fiction, Romance, HistoricalFiction...</td>\n",
       "      <td>['Mr. Bennet', 'Mrs. Bennet', 'Jane Bennet', '...</td>\n",
       "      <td>[Classics, Fiction, Romance, HistoricalFiction...</td>\n",
       "    </tr>\n",
       "    <tr>\n",
       "      <th>4</th>\n",
       "      <td>41865.Twilight</td>\n",
       "      <td>Twilight</td>\n",
       "      <td>Stephenie Meyer</td>\n",
       "      <td>About three things I was absolutely positive.\\...</td>\n",
       "      <td>[YoungAdult, Fantasy, Romance, Vampires, Ficti...</td>\n",
       "      <td>['Edward Cullen', 'Jacob Black', 'Laurent', 'R...</td>\n",
       "      <td>[YoungAdult, Fantasy, Romance, Vampires, Ficti...</td>\n",
       "    </tr>\n",
       "  </tbody>\n",
       "</table>\n",
       "</div>"
      ],
      "text/plain": [
       "                                        bookId  \\\n",
       "0                     2767052-the-hunger-games   \n",
       "1  2.Harry_Potter_and_the_Order_of_the_Phoenix   \n",
       "2                   2657.To_Kill_a_Mockingbird   \n",
       "3                     1885.Pride_and_Prejudice   \n",
       "4                               41865.Twilight   \n",
       "\n",
       "                                       title  \\\n",
       "0                           The Hunger Games   \n",
       "1  Harry Potter and the Order of the Phoenix   \n",
       "2                      To Kill a Mockingbird   \n",
       "3                        Pride and Prejudice   \n",
       "4                                   Twilight   \n",
       "\n",
       "                                      author  \\\n",
       "0                            Suzanne Collins   \n",
       "1  J.K. Rowling, Mary GrandPré (Illustrator)   \n",
       "2                                 Harper Lee   \n",
       "3  Jane Austen, Anna Quindlen (Introduction)   \n",
       "4                            Stephenie Meyer   \n",
       "\n",
       "                                         description  \\\n",
       "0  WINNING MEANS FAME AND FORTUNE.LOSING MEANS CE...   \n",
       "1  There is a door at the end of a silent corrido...   \n",
       "2  The unforgettable novel of a childhood in a sl...   \n",
       "3  Alternate cover edition of ISBN 9780679783268S...   \n",
       "4  About three things I was absolutely positive.\\...   \n",
       "\n",
       "                                              genres  \\\n",
       "0  [YoungAdult, Fiction, Dystopia, Fantasy, Scien...   \n",
       "1  [Fantasy, YoungAdult, Fiction, Magic, Children...   \n",
       "2  [Classics, Fiction, HistoricalFiction, School,...   \n",
       "3  [Classics, Fiction, Romance, HistoricalFiction...   \n",
       "4  [YoungAdult, Fantasy, Romance, Vampires, Ficti...   \n",
       "\n",
       "                                          characters  \\\n",
       "0  ['Katniss Everdeen', 'Peeta Mellark', 'Cato (H...   \n",
       "1  ['Sirius Black', 'Draco Malfoy', 'Ron Weasley'...   \n",
       "2  ['Scout Finch', 'Atticus Finch', 'Jem Finch', ...   \n",
       "3  ['Mr. Bennet', 'Mrs. Bennet', 'Jane Bennet', '...   \n",
       "4  ['Edward Cullen', 'Jacob Black', 'Laurent', 'R...   \n",
       "\n",
       "                                                Tags  \n",
       "0  [YoungAdult, Fiction, Dystopia, Fantasy, Scien...  \n",
       "1  [Fantasy, YoungAdult, Fiction, Magic, Children...  \n",
       "2  [Classics, Fiction, HistoricalFiction, School,...  \n",
       "3  [Classics, Fiction, Romance, HistoricalFiction...  \n",
       "4  [YoungAdult, Fantasy, Romance, Vampires, Ficti...  "
      ]
     },
     "execution_count": 22,
     "metadata": {},
     "output_type": "execute_result"
    }
   ],
   "source": [
    "book.head()"
   ]
  },
  {
   "cell_type": "code",
   "execution_count": 23,
   "id": "adc81c3d-0134-4165-ae10-597630db1985",
   "metadata": {},
   "outputs": [
    {
     "data": {
      "text/plain": [
       "['YoungAdult',\n",
       " 'Fiction',\n",
       " 'Dystopia',\n",
       " 'Fantasy',\n",
       " 'ScienceFiction',\n",
       " 'Romance',\n",
       " 'Adventure',\n",
       " 'Teen',\n",
       " 'PostApocalyptic',\n",
       " 'Action']"
      ]
     },
     "execution_count": 23,
     "metadata": {},
     "output_type": "execute_result"
    }
   ],
   "source": [
    "book.iloc[0][\"Tags\"]"
   ]
  },
  {
   "cell_type": "code",
   "execution_count": 24,
   "id": "7b2eea2a-974e-4941-a2dd-841cc015cb37",
   "metadata": {},
   "outputs": [],
   "source": [
    "new_book_df = book[['bookId','title','Tags']]"
   ]
  },
  {
   "cell_type": "code",
   "execution_count": 25,
   "id": "9f196856-7300-4b90-8989-c57fe8c7f42c",
   "metadata": {},
   "outputs": [
    {
     "data": {
      "text/html": [
       "<div>\n",
       "<style scoped>\n",
       "    .dataframe tbody tr th:only-of-type {\n",
       "        vertical-align: middle;\n",
       "    }\n",
       "\n",
       "    .dataframe tbody tr th {\n",
       "        vertical-align: top;\n",
       "    }\n",
       "\n",
       "    .dataframe thead th {\n",
       "        text-align: right;\n",
       "    }\n",
       "</style>\n",
       "<table border=\"1\" class=\"dataframe\">\n",
       "  <thead>\n",
       "    <tr style=\"text-align: right;\">\n",
       "      <th></th>\n",
       "      <th>bookId</th>\n",
       "      <th>title</th>\n",
       "      <th>Tags</th>\n",
       "    </tr>\n",
       "  </thead>\n",
       "  <tbody>\n",
       "    <tr>\n",
       "      <th>0</th>\n",
       "      <td>2767052-the-hunger-games</td>\n",
       "      <td>The Hunger Games</td>\n",
       "      <td>[YoungAdult, Fiction, Dystopia, Fantasy, Scien...</td>\n",
       "    </tr>\n",
       "    <tr>\n",
       "      <th>1</th>\n",
       "      <td>2.Harry_Potter_and_the_Order_of_the_Phoenix</td>\n",
       "      <td>Harry Potter and the Order of the Phoenix</td>\n",
       "      <td>[Fantasy, YoungAdult, Fiction, Magic, Children...</td>\n",
       "    </tr>\n",
       "    <tr>\n",
       "      <th>2</th>\n",
       "      <td>2657.To_Kill_a_Mockingbird</td>\n",
       "      <td>To Kill a Mockingbird</td>\n",
       "      <td>[Classics, Fiction, HistoricalFiction, School,...</td>\n",
       "    </tr>\n",
       "    <tr>\n",
       "      <th>3</th>\n",
       "      <td>1885.Pride_and_Prejudice</td>\n",
       "      <td>Pride and Prejudice</td>\n",
       "      <td>[Classics, Fiction, Romance, HistoricalFiction...</td>\n",
       "    </tr>\n",
       "    <tr>\n",
       "      <th>4</th>\n",
       "      <td>41865.Twilight</td>\n",
       "      <td>Twilight</td>\n",
       "      <td>[YoungAdult, Fantasy, Romance, Vampires, Ficti...</td>\n",
       "    </tr>\n",
       "  </tbody>\n",
       "</table>\n",
       "</div>"
      ],
      "text/plain": [
       "                                        bookId  \\\n",
       "0                     2767052-the-hunger-games   \n",
       "1  2.Harry_Potter_and_the_Order_of_the_Phoenix   \n",
       "2                   2657.To_Kill_a_Mockingbird   \n",
       "3                     1885.Pride_and_Prejudice   \n",
       "4                               41865.Twilight   \n",
       "\n",
       "                                       title  \\\n",
       "0                           The Hunger Games   \n",
       "1  Harry Potter and the Order of the Phoenix   \n",
       "2                      To Kill a Mockingbird   \n",
       "3                        Pride and Prejudice   \n",
       "4                                   Twilight   \n",
       "\n",
       "                                                Tags  \n",
       "0  [YoungAdult, Fiction, Dystopia, Fantasy, Scien...  \n",
       "1  [Fantasy, YoungAdult, Fiction, Magic, Children...  \n",
       "2  [Classics, Fiction, HistoricalFiction, School,...  \n",
       "3  [Classics, Fiction, Romance, HistoricalFiction...  \n",
       "4  [YoungAdult, Fantasy, Romance, Vampires, Ficti...  "
      ]
     },
     "execution_count": 25,
     "metadata": {},
     "output_type": "execute_result"
    }
   ],
   "source": [
    "new_book_df.head()"
   ]
  },
  {
   "cell_type": "code",
   "execution_count": 26,
   "id": "1236e931-93e3-4ff7-9576-37fe123c5a45",
   "metadata": {},
   "outputs": [
    {
     "name": "stderr",
     "output_type": "stream",
     "text": [
      "C:\\Users\\TEJA\\AppData\\Local\\Temp\\ipykernel_9288\\1579840890.py:1: SettingWithCopyWarning: \n",
      "A value is trying to be set on a copy of a slice from a DataFrame.\n",
      "Try using .loc[row_indexer,col_indexer] = value instead\n",
      "\n",
      "See the caveats in the documentation: https://pandas.pydata.org/pandas-docs/stable/user_guide/indexing.html#returning-a-view-versus-a-copy\n",
      "  new_book_df['Tags'] = new_book_df['Tags'].apply(lambda x: \" \".join(x))\n"
     ]
    },
    {
     "data": {
      "text/html": [
       "<div>\n",
       "<style scoped>\n",
       "    .dataframe tbody tr th:only-of-type {\n",
       "        vertical-align: middle;\n",
       "    }\n",
       "\n",
       "    .dataframe tbody tr th {\n",
       "        vertical-align: top;\n",
       "    }\n",
       "\n",
       "    .dataframe thead th {\n",
       "        text-align: right;\n",
       "    }\n",
       "</style>\n",
       "<table border=\"1\" class=\"dataframe\">\n",
       "  <thead>\n",
       "    <tr style=\"text-align: right;\">\n",
       "      <th></th>\n",
       "      <th>bookId</th>\n",
       "      <th>title</th>\n",
       "      <th>Tags</th>\n",
       "    </tr>\n",
       "  </thead>\n",
       "  <tbody>\n",
       "    <tr>\n",
       "      <th>0</th>\n",
       "      <td>2767052-the-hunger-games</td>\n",
       "      <td>The Hunger Games</td>\n",
       "      <td>YoungAdult Fiction Dystopia Fantasy ScienceFic...</td>\n",
       "    </tr>\n",
       "    <tr>\n",
       "      <th>1</th>\n",
       "      <td>2.Harry_Potter_and_the_Order_of_the_Phoenix</td>\n",
       "      <td>Harry Potter and the Order of the Phoenix</td>\n",
       "      <td>Fantasy YoungAdult Fiction Magic Childrens Adv...</td>\n",
       "    </tr>\n",
       "    <tr>\n",
       "      <th>2</th>\n",
       "      <td>2657.To_Kill_a_Mockingbird</td>\n",
       "      <td>To Kill a Mockingbird</td>\n",
       "      <td>Classics Fiction HistoricalFiction School Lite...</td>\n",
       "    </tr>\n",
       "    <tr>\n",
       "      <th>3</th>\n",
       "      <td>1885.Pride_and_Prejudice</td>\n",
       "      <td>Pride and Prejudice</td>\n",
       "      <td>Classics Fiction Romance HistoricalFiction Lit...</td>\n",
       "    </tr>\n",
       "    <tr>\n",
       "      <th>4</th>\n",
       "      <td>41865.Twilight</td>\n",
       "      <td>Twilight</td>\n",
       "      <td>YoungAdult Fantasy Romance Vampires Fiction Pa...</td>\n",
       "    </tr>\n",
       "  </tbody>\n",
       "</table>\n",
       "</div>"
      ],
      "text/plain": [
       "                                        bookId  \\\n",
       "0                     2767052-the-hunger-games   \n",
       "1  2.Harry_Potter_and_the_Order_of_the_Phoenix   \n",
       "2                   2657.To_Kill_a_Mockingbird   \n",
       "3                     1885.Pride_and_Prejudice   \n",
       "4                               41865.Twilight   \n",
       "\n",
       "                                       title  \\\n",
       "0                           The Hunger Games   \n",
       "1  Harry Potter and the Order of the Phoenix   \n",
       "2                      To Kill a Mockingbird   \n",
       "3                        Pride and Prejudice   \n",
       "4                                   Twilight   \n",
       "\n",
       "                                                Tags  \n",
       "0  YoungAdult Fiction Dystopia Fantasy ScienceFic...  \n",
       "1  Fantasy YoungAdult Fiction Magic Childrens Adv...  \n",
       "2  Classics Fiction HistoricalFiction School Lite...  \n",
       "3  Classics Fiction Romance HistoricalFiction Lit...  \n",
       "4  YoungAdult Fantasy Romance Vampires Fiction Pa...  "
      ]
     },
     "execution_count": 26,
     "metadata": {},
     "output_type": "execute_result"
    }
   ],
   "source": [
    "new_book_df['Tags'] = new_book_df['Tags'].apply(lambda x: \" \".join(x))\n",
    "new_book_df.head()"
   ]
  },
  {
   "cell_type": "code",
   "execution_count": 27,
   "id": "2a65bf66-c94a-47ef-8d4c-09a444ca7a9e",
   "metadata": {},
   "outputs": [
    {
     "name": "stderr",
     "output_type": "stream",
     "text": [
      "C:\\Users\\TEJA\\AppData\\Local\\Temp\\ipykernel_9288\\2742252779.py:2: SettingWithCopyWarning: \n",
      "A value is trying to be set on a copy of a slice from a DataFrame.\n",
      "Try using .loc[row_indexer,col_indexer] = value instead\n",
      "\n",
      "See the caveats in the documentation: https://pandas.pydata.org/pandas-docs/stable/user_guide/indexing.html#returning-a-view-versus-a-copy\n",
      "  new_book_df['Tags'] = new_book_df['Tags'].apply(lambda x:x.lower())\n"
     ]
    }
   ],
   "source": [
    "# Converting to lower case\n",
    "new_book_df['Tags'] = new_book_df['Tags'].apply(lambda x:x.lower())"
   ]
  },
  {
   "cell_type": "code",
   "execution_count": 28,
   "id": "4f2e9545-fcc9-421e-b850-b43bef6d255d",
   "metadata": {},
   "outputs": [],
   "source": [
    "import nltk\n",
    "from nltk.stem import PorterStemmer"
   ]
  },
  {
   "cell_type": "code",
   "execution_count": 29,
   "id": "1b82bd7f-4bc1-45d0-8a48-751ad2f34996",
   "metadata": {},
   "outputs": [],
   "source": [
    "ps = PorterStemmer()"
   ]
  },
  {
   "cell_type": "code",
   "execution_count": 30,
   "id": "e1c554e1-b355-4f18-8dc9-d702da01a981",
   "metadata": {},
   "outputs": [],
   "source": [
    "def stems(text):\n",
    "    T = []\n",
    "    \n",
    "    for i in text.split():\n",
    "        T.append(ps.stem(i))\n",
    "    \n",
    "    return \" \".join(T)"
   ]
  },
  {
   "cell_type": "code",
   "execution_count": 31,
   "id": "9b4e4465-adf0-4a8d-af0a-f644150e7bdb",
   "metadata": {},
   "outputs": [
    {
     "name": "stderr",
     "output_type": "stream",
     "text": [
      "C:\\Users\\TEJA\\AppData\\Local\\Temp\\ipykernel_9288\\1391816524.py:1: SettingWithCopyWarning: \n",
      "A value is trying to be set on a copy of a slice from a DataFrame.\n",
      "Try using .loc[row_indexer,col_indexer] = value instead\n",
      "\n",
      "See the caveats in the documentation: https://pandas.pydata.org/pandas-docs/stable/user_guide/indexing.html#returning-a-view-versus-a-copy\n",
      "  new_book_df['Tags'] = new_book_df['Tags'].apply(stems)\n"
     ]
    }
   ],
   "source": [
    "new_book_df['Tags'] = new_book_df['Tags'].apply(stems)"
   ]
  },
  {
   "cell_type": "code",
   "execution_count": 32,
   "id": "c4742dbf-da2d-4ca4-aaa9-1a1f4bd40dde",
   "metadata": {},
   "outputs": [
    {
     "data": {
      "text/plain": [
       "'youngadult fiction dystopia fantasi sciencefict romanc adventur teen postapocalypt action'"
      ]
     },
     "execution_count": 32,
     "metadata": {},
     "output_type": "execute_result"
    }
   ],
   "source": [
    "new_book_df.iloc[0]['Tags']"
   ]
  },
  {
   "cell_type": "code",
   "execution_count": 33,
   "id": "cdac3721-4b2f-4439-9b85-717f6c7f67f8",
   "metadata": {},
   "outputs": [],
   "source": [
    "from sklearn.feature_extraction.text import CountVectorizer\n",
    "cv = CountVectorizer(max_features=5000,stop_words='english')"
   ]
  },
  {
   "cell_type": "code",
   "execution_count": 34,
   "id": "31537442-8b6d-4fbb-8bbb-143feb991eef",
   "metadata": {},
   "outputs": [],
   "source": [
    "vector = cv.fit_transform(new_book_df['Tags']).toarray()"
   ]
  },
  {
   "cell_type": "code",
   "execution_count": 35,
   "id": "7e713624-3e1a-492a-b7e0-92300b9e6021",
   "metadata": {},
   "outputs": [
    {
     "data": {
      "text/plain": [
       "array([0, 0, 0, 0, 0, 0, 0, 0, 0, 0, 0, 0, 0, 0, 0, 0, 0, 0, 1, 0, 0, 0,\n",
       "       0, 0, 1, 0, 0, 0, 0, 0, 0, 0, 0, 0, 0, 0, 0, 0, 0, 0, 0, 0, 0, 0,\n",
       "       0, 0, 0, 0, 0, 0, 0, 0, 0, 0, 0, 0, 0, 0, 0, 0, 0, 0, 0, 0, 0, 0,\n",
       "       0, 0, 0, 0, 0, 0, 0, 0, 0, 0, 0, 0, 0, 0, 0, 0, 0, 0, 0, 0, 0, 0,\n",
       "       0, 0, 0, 0, 0, 0, 0, 0, 0, 0, 0, 0, 0, 0, 0, 0, 0, 0, 0, 0, 0, 0,\n",
       "       0, 0, 0, 0, 0, 0, 0, 0, 0, 0, 0, 0, 0, 0, 0, 0, 0, 0, 0, 0, 0, 0,\n",
       "       0, 0, 0, 0, 0, 0, 0, 0, 0, 0, 0, 0, 0, 0, 0, 0, 0, 0, 0, 0, 0, 0,\n",
       "       0, 0, 0, 0, 0, 0, 0, 0, 0, 0, 0, 0, 0, 0, 0, 0, 0, 0, 0, 0, 0, 0,\n",
       "       0, 0, 0, 0, 0, 0, 0, 0, 0, 0, 0, 0, 0, 0, 0, 0, 0, 0, 0, 0, 0, 0,\n",
       "       0, 0, 0, 0, 0, 0, 0, 0, 0, 0, 0, 0, 0, 0, 0, 0, 0, 0, 0, 0, 0, 0,\n",
       "       0, 0, 0, 0, 0, 0, 0, 0, 0, 0, 0, 0, 0, 0, 0, 0, 0, 0, 0, 0, 0, 0,\n",
       "       0, 0, 0, 0, 0, 0, 0, 0, 0, 0, 0, 0, 0, 0, 0, 0, 0, 0, 0, 0, 0, 0,\n",
       "       1, 0, 0, 0, 0, 0, 0, 0, 0, 0, 0, 0, 0, 0, 0, 0, 0, 0, 0, 0, 0, 0,\n",
       "       0, 0, 0, 0, 0, 0, 0, 0, 0, 0, 0, 0, 0, 0, 0, 0, 0, 0, 0, 0, 0, 0,\n",
       "       0, 0, 0, 0, 0, 0, 1, 0, 0, 0, 0, 0, 0, 0, 0, 0, 0, 0, 1, 0, 0, 0,\n",
       "       0, 0, 0, 0, 0, 0, 0, 0, 0, 0, 0, 0, 0, 0, 0, 0, 0, 0, 0, 0, 0, 0,\n",
       "       0, 0, 0, 0, 0, 0, 0, 0, 0, 0, 0, 0, 0, 0, 0, 0, 0, 0, 0, 0, 0, 0,\n",
       "       0, 0, 0, 0, 0, 0, 0, 0, 0, 0, 0, 0, 0, 0, 0, 0, 0, 0, 0, 0, 0, 0,\n",
       "       0, 0, 0, 0, 0, 0, 0, 0, 0, 0, 0, 0, 0, 0, 0, 0, 0, 0, 0, 0, 0, 0,\n",
       "       0, 0, 0, 0, 0, 0, 0, 0, 0, 0, 0, 0, 0, 0, 0, 0, 0, 0, 0, 0, 0, 0,\n",
       "       0, 0, 0, 0, 0, 0, 0, 0, 0, 0, 0, 0, 0, 0, 0, 0, 0, 0, 0, 0, 0, 0,\n",
       "       0, 0, 0, 0, 0, 0, 0, 0, 0, 0, 0, 0, 0, 0, 0, 0, 0, 0, 0, 0, 0, 0,\n",
       "       0, 0, 0, 0, 0, 0, 0, 0, 0, 0, 0, 0, 0, 0, 0, 0, 0, 0, 0, 0, 0, 0,\n",
       "       0, 0, 0, 0, 0, 0, 0, 0, 0, 0, 0, 0, 0, 0, 0, 0, 0, 0, 0, 0, 0, 0,\n",
       "       0, 0, 0, 0, 0, 0, 0, 0, 0, 0, 0, 0, 0, 0, 0, 0, 0, 0, 0, 0, 0, 0,\n",
       "       0, 0, 0, 0, 0, 0, 0, 0, 0, 0, 0, 0, 0, 0, 0, 0, 0, 0, 0, 0, 0, 0,\n",
       "       0, 0, 0, 0, 0, 0, 0, 0, 0, 0, 0, 0, 0, 0, 0, 0, 0, 0, 0, 0, 0, 0,\n",
       "       0, 0, 0, 0, 0, 0, 0, 0, 0, 0, 0, 0, 0, 0, 0, 0, 0, 0, 0, 0, 0, 0,\n",
       "       0, 0, 0, 0, 0, 0, 0, 0, 0, 0, 0, 0, 0, 0, 0, 0, 0, 0, 0, 0, 0, 0,\n",
       "       0, 0, 0, 0, 0, 0, 0, 0, 0, 0, 0, 0, 0, 0, 0, 0, 0, 0, 0, 0, 0, 0,\n",
       "       0, 0, 0, 0, 0, 0, 0, 0, 0, 0, 0, 0, 0, 0, 0, 0, 0, 0, 0, 0, 0, 0,\n",
       "       0, 0, 0, 0, 0, 0, 0, 1, 0, 0, 0, 0, 0, 0, 0, 0, 0, 0, 0, 0, 0, 0,\n",
       "       0, 0, 0, 0, 0, 0, 0, 0, 0, 0, 0, 0, 0, 0, 0, 0, 0, 0, 0, 0, 0, 0,\n",
       "       0, 0, 0, 0, 0, 0, 0, 0, 0, 0, 0, 0, 0, 0, 1, 0, 0, 0, 0, 0, 0, 0,\n",
       "       0, 0, 0, 0, 0, 0, 0, 0, 0, 0, 0, 0, 1, 0, 0, 0, 0, 0, 0, 0, 0, 0,\n",
       "       0, 0, 0, 0, 0, 0, 0, 0, 0, 0, 0, 0, 0, 0, 0, 0, 0, 0, 0, 0, 0, 0,\n",
       "       0, 0, 0, 0, 0, 0, 0, 0, 0, 0, 0, 0, 0, 0, 0, 0, 0, 0, 0, 0, 0, 0,\n",
       "       0, 0, 0, 0, 0, 0, 0, 0, 0, 0, 0, 0, 0, 0, 0, 0, 0, 0, 0, 0, 0, 0,\n",
       "       0, 0, 0, 0, 0, 0, 0, 0, 0, 0, 0, 0, 0, 0, 0, 0, 0, 0, 0, 0, 0, 0,\n",
       "       1, 0, 0, 0, 0, 0, 0, 0, 0, 0, 0, 0, 0, 0, 0, 0, 0, 0, 0, 0, 0, 0,\n",
       "       0, 0, 0, 0, 0, 0, 0, 0, 0, 0, 0, 0, 0, 0, 0, 0, 0, 0, 0, 0, 0, 0,\n",
       "       0, 0, 0, 0, 0, 0, 0, 0, 0, 0, 0, 0, 0, 0, 0, 0, 0, 0, 0, 0, 0, 0,\n",
       "       0, 0, 0, 0, 0, 0, 0, 0, 0, 0, 0, 0, 0, 0, 0, 0, 0, 0, 0, 0, 0, 0,\n",
       "       0, 0, 0, 0, 1, 0, 0, 0, 0, 0, 0, 0, 0, 0, 0, 0, 0, 0], dtype=int64)"
      ]
     },
     "execution_count": 35,
     "metadata": {},
     "output_type": "execute_result"
    }
   ],
   "source": [
    "vector[0]"
   ]
  },
  {
   "cell_type": "code",
   "execution_count": 36,
   "id": "27329729-fa0b-416a-b43e-8fc5e0af9331",
   "metadata": {},
   "outputs": [
    {
     "data": {
      "text/plain": [
       "(52428, 964)"
      ]
     },
     "execution_count": 36,
     "metadata": {},
     "output_type": "execute_result"
    }
   ],
   "source": [
    "vector.shape"
   ]
  },
  {
   "cell_type": "code",
   "execution_count": 37,
   "id": "e02d5f05-97ef-459c-a5c8-d92965b1bf1f",
   "metadata": {},
   "outputs": [],
   "source": [
    "from sklearn.metrics.pairwise import cosine_similarity"
   ]
  },
  {
   "cell_type": "code",
   "execution_count": null,
   "id": "d2d4d0f3-fc6c-42a6-b6cd-af62e03111df",
   "metadata": {},
   "outputs": [],
   "source": [
    "similarity = cosine_similarity(vector)"
   ]
  },
  {
   "cell_type": "code",
   "execution_count": null,
   "id": "3833bbed-35e0-48f9-8345-662c86b5e397",
   "metadata": {},
   "outputs": [],
   "source": [
    " similarity.shape"
   ]
  },
  {
   "cell_type": "code",
   "execution_count": null,
   "id": "9151ddf4-9bac-4e8e-b059-0ca1aa575c9d",
   "metadata": {},
   "outputs": [],
   "source": [
    "def recommend2(book_name):\n",
    "    book_id=[]\n",
    "    index = new_book_df[new_book_df['title'] == book_name].index[0]\n",
    "    distances = sorted(list(enumerate(similarity[index])),reverse=True,key = lambda x: x[1])\n",
    "    for i in distances[1:6]:\n",
    "        print(new_book_df.iloc[i[0]].title)\n",
    "recommend2(\"The Hunger Games\")     "
   ]
  },
  {
   "cell_type": "code",
   "execution_count": null,
   "id": "4ce1387e-efe9-452c-b6c7-da0f507bd603",
   "metadata": {},
   "outputs": [],
   "source": [
    "recommend2(\"Pride and Prejudice\")   "
   ]
  },
  {
   "cell_type": "code",
   "execution_count": null,
   "id": "7286d9c4-cc94-469b-bdad-e0e887fd709e",
   "metadata": {},
   "outputs": [],
   "source": [
    "recommend2(\"Twilight\") "
   ]
  },
  {
   "cell_type": "code",
   "execution_count": null,
   "id": "f9c4c3e5-054c-466e-91bc-3885b47abe13",
   "metadata": {},
   "outputs": [],
   "source": [
    "recommend2(\"Jane Eyre\")"
   ]
  },
  {
   "cell_type": "code",
   "execution_count": null,
   "id": "226f2f0c-1571-43c4-b6c3-7fed6761a0eb",
   "metadata": {},
   "outputs": [],
   "source": [
    "recommend2(\"The Crucible\")"
   ]
  },
  {
   "cell_type": "code",
   "execution_count": null,
   "id": "6fa1fe3b-5002-4450-9bfe-10d490aeb9d4",
   "metadata": {},
   "outputs": [],
   "source": [
    "new_music=pd.read_csv(\"Music Info.csv\")"
   ]
  },
  {
   "cell_type": "code",
   "execution_count": null,
   "id": "15291c3f-8492-4717-8e48-78fec55184bd",
   "metadata": {},
   "outputs": [],
   "source": [
    "new_music.head()"
   ]
  },
  {
   "cell_type": "code",
   "execution_count": null,
   "id": "598f25ad-9796-4828-b6b7-83f2822fc1e3",
   "metadata": {},
   "outputs": [],
   "source": [
    "new_music[\"tags\"].fillna(method ='ffill', inplace = True)"
   ]
  },
  {
   "cell_type": "code",
   "execution_count": null,
   "id": "4af23dec-614c-4267-8a3e-4042773cee55",
   "metadata": {},
   "outputs": [],
   "source": [
    "new_music[\"tags\"]=new_music[\"tags\"].apply(lambda x:x.split(','))"
   ]
  },
  {
   "cell_type": "code",
   "execution_count": null,
   "id": "371aa93a-2ce9-4ef4-9ad7-ab6b2f619b30",
   "metadata": {},
   "outputs": [],
   "source": [
    "new_music[\"tags\"]"
   ]
  },
  {
   "cell_type": "code",
   "execution_count": null,
   "id": "1723d880-ee87-4915-80c9-558df63ee7d5",
   "metadata": {},
   "outputs": [],
   "source": [
    "final_book=book_df[[\"bookId\",\"title\",\"genres\"]]"
   ]
  },
  {
   "cell_type": "code",
   "execution_count": null,
   "id": "f9f84867-e645-4425-80cc-512bf9c87829",
   "metadata": {},
   "outputs": [],
   "source": [
    "final_book.head()"
   ]
  },
  {
   "cell_type": "code",
   "execution_count": null,
   "id": "20fcc5c2-59a0-4795-b437-d177b5d0e45b",
   "metadata": {},
   "outputs": [],
   "source": [
    "final_book[\"genres\"]=final_book['genres'].apply(convert)"
   ]
  },
  {
   "cell_type": "code",
   "execution_count": null,
   "id": "4dc92699-edf4-4401-8c1b-3ef43a90c97d",
   "metadata": {},
   "outputs": [],
   "source": [
    "final_book.head()"
   ]
  },
  {
   "cell_type": "code",
   "execution_count": null,
   "id": "cb01a791-9df2-4bd8-a54f-3152e5b87f28",
   "metadata": {},
   "outputs": [],
   "source": []
  },
  {
   "cell_type": "code",
   "execution_count": null,
   "id": "a71cb616-6f62-4319-a86a-3b0881fca59a",
   "metadata": {},
   "outputs": [],
   "source": [
    "tag_table_books = [ token for idx, token in enumerate(set(itertools.chain.from_iterable(final_book[\"genres\"])))]\n",
    "tag_table_books = pd.DataFrame(tag_table_books)\n",
    "tag_table_books.columns = ['Tag']\n",
    "tag_table_books[\"Tag\"]=tag_table_books[\"Tag\"].apply(lambda x:x.lower())\n"
   ]
  },
  {
   "cell_type": "code",
   "execution_count": null,
   "id": "29aabfb0-64c6-47ac-a696-c33f625bae1c",
   "metadata": {},
   "outputs": [],
   "source": [
    "tag_table_books"
   ]
  },
  {
   "cell_type": "code",
   "execution_count": null,
   "id": "db03d8e3-d59f-4f00-8e0b-067b96d5d911",
   "metadata": {},
   "outputs": [],
   "source": [
    "music_tags=new_music[\"tags\"]\n",
    "tag_table_new_music = [ token for idx, token in enumerate(set(itertools.chain.from_iterable(music_tags)))]\n",
    "tag_table_new_music = pd.DataFrame(tag_table_new_music)\n",
    "tag_table_new_music.columns = ['Tag']\n",
    "\n",
    "tag_new_music = tag_table_new_music.values.ravel()\n",
    "tag_new_music"
   ]
  },
  {
   "cell_type": "code",
   "execution_count": null,
   "id": "03ce4ce6-ce90-447e-9088-04573ec9ca18",
   "metadata": {},
   "outputs": [],
   "source": [
    "import nltk\n",
    "from nltk.corpus import wordnet as wn"
   ]
  },
  {
   "cell_type": "code",
   "execution_count": null,
   "id": "77d2e272-17bf-4230-beab-b1d5f84e9e4a",
   "metadata": {},
   "outputs": [],
   "source": [
    "book_new_music_map = {} # Creating a dictionary of te mapping\n",
    "def find_relation(str):\n",
    "    value=str\n",
    "    str = str.replace('-', ' ')\n",
    "    if(len(str.split())==1):\n",
    "        a = wn.synsets(str)\n",
    "        if len(a) == 0:\n",
    "            return 'Null'\n",
    "        else:\n",
    "            x = []\n",
    "            for genre in tag_new_music:\n",
    "                m = wn.synsets(genre)\n",
    "                if len(m)>0:\n",
    "                   x.append(a[0].path_similarity(m[0]))\n",
    "            x = np.array(x, dtype = float)\n",
    "            max_idx = x.argmax()\n",
    "            key = tag_new_music[max_idx] # Dictionary key is the book genre name\n",
    "            val = book_new_music_map.get(key, []) # Value for the key is the list synonyms for that book genre\n",
    "            val.append(value)\n",
    "            book_new_music_map[key] = val\n",
    "            return tag_new_music[max_idx]\n",
    "    else:\n",
    "        a = wn.synsets(str.split()[0])\n",
    "        b = wn.synsets(str.split()[1])\n",
    "        if len(a) == 0 and len(b) == 0:\n",
    "            return 'Null'\n",
    "        elif (len(a) != 0 and len(b) == 0) or (len(a) == 0 and len(b) != 0):\n",
    "            if len(a) != 0 and len(b) == 0:\n",
    "                a = wn.synsets(str.split()[0])\n",
    "            else:\n",
    "                 a = wn.synsets(str.split()[1])\n",
    "            if len(a) == 0:\n",
    "                return 'Null'\n",
    "            else:\n",
    "                x = []\n",
    "                for genre in tag_new_music:\n",
    "                    m = wn.synsets(genre)\n",
    "                    if len(m)>0:\n",
    "                       x.append(a[0].path_similarity(m[0]))\n",
    "                x = np.array(x, dtype = float)\n",
    "                max_idx = x.argmax()\n",
    "                key = tag_new_music[max_idx] # Dictionary key is the book genre name\n",
    "                val = book_new_music_map.get(key, []) # Value for the key is the list synonyms for that book genre\n",
    "                val.append(value)\n",
    "                book_new_music_map[key] = val\n",
    "                return tag_new_music[max_idx]\n",
    "        else:\n",
    "            x = []\n",
    "            y = []\n",
    "            for genre in tag_new_music:\n",
    "                m = wn.synsets(genre)\n",
    "                if len(m)>0:\n",
    "                   x.append(a[0].path_similarity(m[0]))\n",
    "                   y.append(b[0].path_similarity(m[0]))\n",
    "            x = np.array(x, dtype = float)\n",
    "            y = np.array(y, dtype = float)\n",
    "            if (x.max() > y.max()):\n",
    "                max_idx = x.argmax()\n",
    "            else:\n",
    "                max_idx = y.argmax()\n",
    "                key = tag_new_music[max_idx] # Dictionary key is the book genre name\n",
    "                val = book_new_music_map.get(key, []) # Value for the key is the list synonyms for that book genre\n",
    "                val.append(value)\n",
    "                book_new_music_map[key] = val\n",
    "                return tag_new_music[max_idx]\n",
    "    \n",
    "tag_table_books['relation'] = tag_table_books['Tag'].apply(find_relation)"
   ]
  },
  {
   "cell_type": "code",
   "execution_count": null,
   "id": "ad48cff6-9823-406d-9474-21a80da5f064",
   "metadata": {},
   "outputs": [],
   "source": [
    "tag_table_books"
   ]
  },
  {
   "cell_type": "code",
   "execution_count": null,
   "id": "39a4d513-e252-4e32-9e1f-61e7c02f8724",
   "metadata": {},
   "outputs": [],
   "source": [
    "genre_list=[ token for idx, token in enumerate(set(itertools.chain.from_iterable(new_music.tags)))]"
   ]
  },
  {
   "cell_type": "code",
   "execution_count": null,
   "id": "f6960a41-3578-48dc-9316-2aa9fd22c8d5",
   "metadata": {},
   "outputs": [],
   "source": [
    "import random as rd"
   ]
  },
  {
   "cell_type": "code",
   "execution_count": null,
   "id": "1f239f5d-a731-47af-8530-43f9fc5b3b00",
   "metadata": {},
   "outputs": [],
   "source": [
    "for i in range(len(tag_table_books)):\n",
    "        if tag_table_books.iloc[i][\"relation\"]==\"Null\" :\n",
    "            tag_table_books.at[i,\"relation\"]=rd.choice(genre_list)\n",
    "            print(\"upadated value\" ,tag_table_books.iloc[i][\"relation\"])"
   ]
  },
  {
   "cell_type": "code",
   "execution_count": null,
   "id": "2ab078a3-2472-4039-9830-fcd27a088ea7",
   "metadata": {},
   "outputs": [],
   "source": [
    "tag_table_books.fillna(method ='bfill', inplace = True)"
   ]
  },
  {
   "cell_type": "code",
   "execution_count": null,
   "id": "8a536aa9-82e5-4898-9adb-9fbdcf2b8ca3",
   "metadata": {},
   "outputs": [],
   "source": [
    "new_music=new_music[['spotify_id', 'name', 'artist','tags']]"
   ]
  },
  {
   "cell_type": "code",
   "execution_count": null,
   "id": "d708d9c8-5094-44d4-9cfc-2fe94312b047",
   "metadata": {},
   "outputs": [],
   "source": [
    "new_music_col = list(new_music.columns)\n",
    "new_music_tags = new_music['tags']\n",
    "tag_table_new_music=[[token, idx] for idx, token in enumerate(set(itertools.chain.from_iterable(new_music_tags)))]\n",
    "tag_table_new_music = pd.DataFrame(tag_table_new_music)\n",
    "tag_table_new_music.columns = ['Tag', 'Index']"
   ]
  },
  {
   "cell_type": "code",
   "execution_count": null,
   "id": "058c2be9-0e47-4994-a43d-81db86a8aea0",
   "metadata": {},
   "outputs": [],
   "source": [
    "tag_table_new_music"
   ]
  },
  {
   "cell_type": "code",
   "execution_count": null,
   "id": "b65efaed-a123-4bd8-914a-6fea8003eb3b",
   "metadata": {},
   "outputs": [],
   "source": [
    "new_tag_dummy_music = np.zeros([len(new_music), len(tag_table_new_music)])"
   ]
  },
  {
   "cell_type": "code",
   "execution_count": null,
   "id": "78cb0dbb-663f-4f09-b17c-2402fe323e75",
   "metadata": {},
   "outputs": [],
   "source": [
    "for i in range(len(new_music)):\n",
    "    for j in range(len(tag_table_new_music)):\n",
    "        if tag_table_new_music['Tag'][j] in  new_music.iloc[i][\"tags\"]:\n",
    "            new_tag_dummy_music[i, j] = 1\n",
    "            \n",
    "new_hot_encoded_music = pd.concat([new_music, pd.DataFrame(new_tag_dummy_music)],axis = 1)\n",
    "new_music_col.extend([string for string in tag_table_new_music['Tag']])\n",
    "new_hot_encoded_music.columns = new_music_col\n",
    "new_hot_encoded_music.head()"
   ]
  },
  {
   "cell_type": "code",
   "execution_count": null,
   "id": "44b9646e-4faf-4d13-8d92-7e0480f5be21",
   "metadata": {},
   "outputs": [],
   "source": [
    "def lower_case(tag_selected_book):\n",
    "    list=[]\n",
    "    for i in tag_selected_book:\n",
    "        list.append(i.lower())\n",
    "    return list    "
   ]
  },
  {
   "cell_type": "code",
   "execution_count": null,
   "id": "de4f3aca-6e65-42f2-8832-6eaa23e1c7a8",
   "metadata": {},
   "outputs": [],
   "source": [
    "def recommend(book_name):\n",
    "    book_id=[]\n",
    "    index = new_book_df[new_book_df['title'] == book_name].index[0]\n",
    "    distances = sorted(list(enumerate(similarity[index])),reverse=True,key = lambda x: x[1])\n",
    "    for i in distances[1:6]:\n",
    "        book_id.append(new_book_df.iloc[i[0]].bookId)\n",
    "    filtered_dataset = pd.DataFrame([ final_book[final_book.bookId == i].values[0] for i in book_id], columns = ['bookId', 'title','genres'])\n",
    "    selected_book_tags = filtered_dataset['genres']\n",
    "    tag_selected_book = [ token for idx, token in enumerate(set(itertools.chain.from_iterable(selected_book_tags)))]\n",
    "    tag_selected_book=lower_case(tag_selected_book)\n",
    "    new_tag_selected_music = [tag_table_books[tag_table_books.Tag == i].relation.values for i in tag_selected_book]\n",
    "    new_tag_selected_music = [ token for idx, token in enumerate(set(itertools.chain.from_iterable(new_tag_selected_music)))]\n",
    "    recommended_new_music = []\n",
    "    counts = np.zeros((new_hot_encoded_music.shape[0]))\n",
    "    for i in new_tag_selected_music:\n",
    "        indices = new_hot_encoded_music[new_hot_encoded_music[i] == 1.0].index.tolist()\n",
    "        for j in indices:\n",
    "            counts[j] += 1.0\n",
    "    for i in range(40):\n",
    "        max_idx = counts.argmax()\n",
    "        recommended_new_music.append(max_idx)\n",
    "        counts[max_idx] = 0\n",
    "    recommended_new_music = new_hot_encoded_music.iloc[recommended_new_music].name.values\n",
    "    recommended_new_music = np.array(recommended_new_music)\n",
    "    recommended_new_music = recommended_new_music.ravel()\n",
    "    return  recommended_new_music\n",
    "    \n",
    "    "
   ]
  },
  {
   "cell_type": "code",
   "execution_count": null,
   "id": "925e9d45-f17a-431d-a1db-0cfe095748a9",
   "metadata": {},
   "outputs": [],
   "source": [
    "recommend(\"The Hunger Games\")"
   ]
  },
  {
   "cell_type": "code",
   "execution_count": null,
   "id": "654a932d-9e74-4aac-8e91-1eecbc22def2",
   "metadata": {},
   "outputs": [],
   "source": [
    "recommend(\"Pride and Prejudice\")"
   ]
  },
  {
   "cell_type": "code",
   "execution_count": null,
   "id": "f6636d8f-879b-4d2d-95d3-86813d867b32",
   "metadata": {},
   "outputs": [],
   "source": [
    "recommend(\"Twilight\")"
   ]
  },
  {
   "cell_type": "code",
   "execution_count": null,
   "id": "0d309c26-28ac-4578-9b26-9bf7558a1356",
   "metadata": {},
   "outputs": [],
   "source": [
    "recommend(\"Jane Eyre\")"
   ]
  },
  {
   "cell_type": "code",
   "execution_count": null,
   "id": "f4637691-b6ff-4bc9-bc39-631b649208f9",
   "metadata": {},
   "outputs": [],
   "source": [
    "recommend(\"The Crucible\")"
   ]
  }
 ],
 "metadata": {
  "kernelspec": {
   "display_name": "Python 3 (ipykernel)",
   "language": "python",
   "name": "python3"
  },
  "language_info": {
   "codemirror_mode": {
    "name": "ipython",
    "version": 3
   },
   "file_extension": ".py",
   "mimetype": "text/x-python",
   "name": "python",
   "nbconvert_exporter": "python",
   "pygments_lexer": "ipython3",
   "version": "3.10.9"
  }
 },
 "nbformat": 4,
 "nbformat_minor": 5
}
