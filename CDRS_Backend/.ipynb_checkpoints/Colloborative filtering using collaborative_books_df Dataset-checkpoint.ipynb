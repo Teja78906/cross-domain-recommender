{
 "cells": [
  {
   "cell_type": "code",
   "execution_count": 5,
   "id": "7a858040",
   "metadata": {},
   "outputs": [],
   "source": [
    "import pandas as pd \n",
    "import numpy as np\n"
   ]
  },
  {
   "cell_type": "code",
   "execution_count": 6,
   "id": "8f91d196",
   "metadata": {},
   "outputs": [],
   "source": [
    "book_df=pd.read_csv(\"collaborative_books_df.csv\")"
   ]
  },
  {
   "cell_type": "code",
   "execution_count": 7,
   "id": "140ff414",
   "metadata": {},
   "outputs": [
    {
     "data": {
      "text/html": [
       "<div>\n",
       "<style scoped>\n",
       "    .dataframe tbody tr th:only-of-type {\n",
       "        vertical-align: middle;\n",
       "    }\n",
       "\n",
       "    .dataframe tbody tr th {\n",
       "        vertical-align: top;\n",
       "    }\n",
       "\n",
       "    .dataframe thead th {\n",
       "        text-align: right;\n",
       "    }\n",
       "</style>\n",
       "<table border=\"1\" class=\"dataframe\">\n",
       "  <thead>\n",
       "    <tr style=\"text-align: right;\">\n",
       "      <th></th>\n",
       "      <th>Unnamed: 0</th>\n",
       "      <th>title</th>\n",
       "      <th>book_id</th>\n",
       "      <th>user_id_mapping</th>\n",
       "      <th>book_id_mapping</th>\n",
       "      <th>Predicted Rating</th>\n",
       "      <th>Actual Rating</th>\n",
       "    </tr>\n",
       "  </thead>\n",
       "  <tbody>\n",
       "    <tr>\n",
       "      <th>0</th>\n",
       "      <td>0</td>\n",
       "      <td>I Am the Messenger</td>\n",
       "      <td>19057</td>\n",
       "      <td>1537</td>\n",
       "      <td>299</td>\n",
       "      <td>4.5</td>\n",
       "      <td>5</td>\n",
       "    </tr>\n",
       "    <tr>\n",
       "      <th>1</th>\n",
       "      <td>1</td>\n",
       "      <td>I Am the Messenger</td>\n",
       "      <td>19057</td>\n",
       "      <td>23039</td>\n",
       "      <td>299</td>\n",
       "      <td>4.9</td>\n",
       "      <td>3</td>\n",
       "    </tr>\n",
       "    <tr>\n",
       "      <th>2</th>\n",
       "      <td>2</td>\n",
       "      <td>I Am the Messenger</td>\n",
       "      <td>19057</td>\n",
       "      <td>39096</td>\n",
       "      <td>299</td>\n",
       "      <td>3.9</td>\n",
       "      <td>3</td>\n",
       "    </tr>\n",
       "    <tr>\n",
       "      <th>3</th>\n",
       "      <td>3</td>\n",
       "      <td>I Am the Messenger</td>\n",
       "      <td>19057</td>\n",
       "      <td>14631</td>\n",
       "      <td>299</td>\n",
       "      <td>4.7</td>\n",
       "      <td>4</td>\n",
       "    </tr>\n",
       "    <tr>\n",
       "      <th>4</th>\n",
       "      <td>4</td>\n",
       "      <td>I Am the Messenger</td>\n",
       "      <td>19057</td>\n",
       "      <td>32816</td>\n",
       "      <td>299</td>\n",
       "      <td>4.3</td>\n",
       "      <td>5</td>\n",
       "    </tr>\n",
       "  </tbody>\n",
       "</table>\n",
       "</div>"
      ],
      "text/plain": [
       "   Unnamed: 0               title  book_id  user_id_mapping  book_id_mapping  \\\n",
       "0           0  I Am the Messenger    19057             1537              299   \n",
       "1           1  I Am the Messenger    19057            23039              299   \n",
       "2           2  I Am the Messenger    19057            39096              299   \n",
       "3           3  I Am the Messenger    19057            14631              299   \n",
       "4           4  I Am the Messenger    19057            32816              299   \n",
       "\n",
       "   Predicted Rating  Actual Rating  \n",
       "0               4.5              5  \n",
       "1               4.9              3  \n",
       "2               3.9              3  \n",
       "3               4.7              4  \n",
       "4               4.3              5  "
      ]
     },
     "execution_count": 7,
     "metadata": {},
     "output_type": "execute_result"
    }
   ],
   "source": [
    "book_df.head()"
   ]
  },
  {
   "cell_type": "code",
   "execution_count": 8,
   "id": "172900a1",
   "metadata": {},
   "outputs": [
    {
     "data": {
      "text/plain": [
       "(196296, 7)"
      ]
     },
     "execution_count": 8,
     "metadata": {},
     "output_type": "execute_result"
    }
   ],
   "source": [
    "book_df.shape"
   ]
  },
  {
   "cell_type": "code",
   "execution_count": 9,
   "id": "0703200c",
   "metadata": {},
   "outputs": [],
   "source": [
    "x = book_df.groupby('user_id_mapping').count()[\"Actual Rating\"] >10\n",
    "good_readers = x[x].index\n"
   ]
  },
  {
   "cell_type": "code",
   "execution_count": 10,
   "id": "1ecd1ba1",
   "metadata": {},
   "outputs": [],
   "source": [
    "filtered_rating = book_df[book_df['user_id_mapping'].isin(good_readers)]\n"
   ]
  },
  {
   "cell_type": "code",
   "execution_count": 11,
   "id": "f0678646",
   "metadata": {},
   "outputs": [],
   "source": [
    "y = filtered_rating.groupby('title').count()['Actual Rating']>=5\n"
   ]
  },
  {
   "cell_type": "code",
   "execution_count": 12,
   "id": "4b80e367",
   "metadata": {},
   "outputs": [],
   "source": [
    "famous_books = y[y].index\n"
   ]
  },
  {
   "cell_type": "code",
   "execution_count": 13,
   "id": "c2b4d5a2",
   "metadata": {},
   "outputs": [],
   "source": [
    "final_ratings = filtered_rating[filtered_rating['title'].isin(famous_books)]\n"
   ]
  },
  {
   "cell_type": "code",
   "execution_count": 14,
   "id": "3512570d",
   "metadata": {},
   "outputs": [],
   "source": [
    "pt = final_ratings.pivot_table(index='title',columns='user_id_mapping',values='Actual Rating')\n"
   ]
  },
  {
   "cell_type": "code",
   "execution_count": 15,
   "id": "49398a0a",
   "metadata": {},
   "outputs": [
    {
     "data": {
      "text/html": [
       "<div>\n",
       "<style scoped>\n",
       "    .dataframe tbody tr th:only-of-type {\n",
       "        vertical-align: middle;\n",
       "    }\n",
       "\n",
       "    .dataframe tbody tr th {\n",
       "        vertical-align: top;\n",
       "    }\n",
       "\n",
       "    .dataframe thead th {\n",
       "        text-align: right;\n",
       "    }\n",
       "</style>\n",
       "<table border=\"1\" class=\"dataframe\">\n",
       "  <thead>\n",
       "    <tr style=\"text-align: right;\">\n",
       "      <th>user_id_mapping</th>\n",
       "      <th>208</th>\n",
       "      <th>227</th>\n",
       "      <th>315</th>\n",
       "      <th>337</th>\n",
       "      <th>349</th>\n",
       "      <th>427</th>\n",
       "      <th>495</th>\n",
       "      <th>541</th>\n",
       "      <th>548</th>\n",
       "      <th>875</th>\n",
       "      <th>...</th>\n",
       "      <th>53784</th>\n",
       "      <th>54849</th>\n",
       "      <th>55667</th>\n",
       "      <th>57310</th>\n",
       "      <th>58950</th>\n",
       "      <th>59244</th>\n",
       "      <th>62043</th>\n",
       "      <th>63130</th>\n",
       "      <th>64133</th>\n",
       "      <th>69119</th>\n",
       "    </tr>\n",
       "    <tr>\n",
       "      <th>title</th>\n",
       "      <th></th>\n",
       "      <th></th>\n",
       "      <th></th>\n",
       "      <th></th>\n",
       "      <th></th>\n",
       "      <th></th>\n",
       "      <th></th>\n",
       "      <th></th>\n",
       "      <th></th>\n",
       "      <th></th>\n",
       "      <th></th>\n",
       "      <th></th>\n",
       "      <th></th>\n",
       "      <th></th>\n",
       "      <th></th>\n",
       "      <th></th>\n",
       "      <th></th>\n",
       "      <th></th>\n",
       "      <th></th>\n",
       "      <th></th>\n",
       "      <th></th>\n",
       "    </tr>\n",
       "  </thead>\n",
       "  <tbody>\n",
       "    <tr>\n",
       "      <th>1984</th>\n",
       "      <td>0.0</td>\n",
       "      <td>0.0</td>\n",
       "      <td>0.0</td>\n",
       "      <td>0.0</td>\n",
       "      <td>0.0</td>\n",
       "      <td>0.0</td>\n",
       "      <td>0.0</td>\n",
       "      <td>0.0</td>\n",
       "      <td>0.0</td>\n",
       "      <td>0.0</td>\n",
       "      <td>...</td>\n",
       "      <td>0.0</td>\n",
       "      <td>0.0</td>\n",
       "      <td>0.0</td>\n",
       "      <td>0.0</td>\n",
       "      <td>0.0</td>\n",
       "      <td>0.0</td>\n",
       "      <td>0.0</td>\n",
       "      <td>0.0</td>\n",
       "      <td>0.0</td>\n",
       "      <td>0.0</td>\n",
       "    </tr>\n",
       "    <tr>\n",
       "      <th>A Child Called It Dave Pelzer 1</th>\n",
       "      <td>0.0</td>\n",
       "      <td>0.0</td>\n",
       "      <td>0.0</td>\n",
       "      <td>0.0</td>\n",
       "      <td>0.0</td>\n",
       "      <td>0.0</td>\n",
       "      <td>0.0</td>\n",
       "      <td>0.0</td>\n",
       "      <td>0.0</td>\n",
       "      <td>0.0</td>\n",
       "      <td>...</td>\n",
       "      <td>0.0</td>\n",
       "      <td>0.0</td>\n",
       "      <td>0.0</td>\n",
       "      <td>0.0</td>\n",
       "      <td>0.0</td>\n",
       "      <td>0.0</td>\n",
       "      <td>0.0</td>\n",
       "      <td>0.0</td>\n",
       "      <td>0.0</td>\n",
       "      <td>0.0</td>\n",
       "    </tr>\n",
       "    <tr>\n",
       "      <th>A Christmas Carol</th>\n",
       "      <td>0.0</td>\n",
       "      <td>0.0</td>\n",
       "      <td>0.0</td>\n",
       "      <td>0.0</td>\n",
       "      <td>0.0</td>\n",
       "      <td>0.0</td>\n",
       "      <td>0.0</td>\n",
       "      <td>0.0</td>\n",
       "      <td>0.0</td>\n",
       "      <td>0.0</td>\n",
       "      <td>...</td>\n",
       "      <td>0.0</td>\n",
       "      <td>0.0</td>\n",
       "      <td>0.0</td>\n",
       "      <td>0.0</td>\n",
       "      <td>0.0</td>\n",
       "      <td>3.0</td>\n",
       "      <td>0.0</td>\n",
       "      <td>0.0</td>\n",
       "      <td>0.0</td>\n",
       "      <td>0.0</td>\n",
       "    </tr>\n",
       "    <tr>\n",
       "      <th>A Clash of Kings A Song of Ice and Fire 2</th>\n",
       "      <td>0.0</td>\n",
       "      <td>0.0</td>\n",
       "      <td>0.0</td>\n",
       "      <td>0.0</td>\n",
       "      <td>0.0</td>\n",
       "      <td>4.0</td>\n",
       "      <td>0.0</td>\n",
       "      <td>0.0</td>\n",
       "      <td>5.0</td>\n",
       "      <td>0.0</td>\n",
       "      <td>...</td>\n",
       "      <td>0.0</td>\n",
       "      <td>0.0</td>\n",
       "      <td>0.0</td>\n",
       "      <td>0.0</td>\n",
       "      <td>0.0</td>\n",
       "      <td>0.0</td>\n",
       "      <td>0.0</td>\n",
       "      <td>0.0</td>\n",
       "      <td>0.0</td>\n",
       "      <td>0.0</td>\n",
       "    </tr>\n",
       "    <tr>\n",
       "      <th>A Court of Thorns and Roses A Court of Thorns and Roses 1</th>\n",
       "      <td>0.0</td>\n",
       "      <td>0.0</td>\n",
       "      <td>0.0</td>\n",
       "      <td>0.0</td>\n",
       "      <td>0.0</td>\n",
       "      <td>0.0</td>\n",
       "      <td>0.0</td>\n",
       "      <td>0.0</td>\n",
       "      <td>0.0</td>\n",
       "      <td>0.0</td>\n",
       "      <td>...</td>\n",
       "      <td>0.0</td>\n",
       "      <td>0.0</td>\n",
       "      <td>0.0</td>\n",
       "      <td>0.0</td>\n",
       "      <td>0.0</td>\n",
       "      <td>0.0</td>\n",
       "      <td>0.0</td>\n",
       "      <td>0.0</td>\n",
       "      <td>0.0</td>\n",
       "      <td>0.0</td>\n",
       "    </tr>\n",
       "    <tr>\n",
       "      <th>...</th>\n",
       "      <td>...</td>\n",
       "      <td>...</td>\n",
       "      <td>...</td>\n",
       "      <td>...</td>\n",
       "      <td>...</td>\n",
       "      <td>...</td>\n",
       "      <td>...</td>\n",
       "      <td>...</td>\n",
       "      <td>...</td>\n",
       "      <td>...</td>\n",
       "      <td>...</td>\n",
       "      <td>...</td>\n",
       "      <td>...</td>\n",
       "      <td>...</td>\n",
       "      <td>...</td>\n",
       "      <td>...</td>\n",
       "      <td>...</td>\n",
       "      <td>...</td>\n",
       "      <td>...</td>\n",
       "      <td>...</td>\n",
       "      <td>...</td>\n",
       "    </tr>\n",
       "    <tr>\n",
       "      <th>White Oleander</th>\n",
       "      <td>0.0</td>\n",
       "      <td>0.0</td>\n",
       "      <td>0.0</td>\n",
       "      <td>0.0</td>\n",
       "      <td>0.0</td>\n",
       "      <td>0.0</td>\n",
       "      <td>0.0</td>\n",
       "      <td>0.0</td>\n",
       "      <td>0.0</td>\n",
       "      <td>0.0</td>\n",
       "      <td>...</td>\n",
       "      <td>0.0</td>\n",
       "      <td>0.0</td>\n",
       "      <td>0.0</td>\n",
       "      <td>0.0</td>\n",
       "      <td>0.0</td>\n",
       "      <td>0.0</td>\n",
       "      <td>0.0</td>\n",
       "      <td>0.0</td>\n",
       "      <td>0.0</td>\n",
       "      <td>0.0</td>\n",
       "    </tr>\n",
       "    <tr>\n",
       "      <th>Wicked The Life and Times of the Wicked Witch of the West The Wicked Years 1</th>\n",
       "      <td>0.0</td>\n",
       "      <td>0.0</td>\n",
       "      <td>0.0</td>\n",
       "      <td>0.0</td>\n",
       "      <td>0.0</td>\n",
       "      <td>0.0</td>\n",
       "      <td>0.0</td>\n",
       "      <td>0.0</td>\n",
       "      <td>0.0</td>\n",
       "      <td>0.0</td>\n",
       "      <td>...</td>\n",
       "      <td>0.0</td>\n",
       "      <td>0.0</td>\n",
       "      <td>0.0</td>\n",
       "      <td>0.0</td>\n",
       "      <td>0.0</td>\n",
       "      <td>0.0</td>\n",
       "      <td>0.0</td>\n",
       "      <td>0.0</td>\n",
       "      <td>0.0</td>\n",
       "      <td>0.0</td>\n",
       "    </tr>\n",
       "    <tr>\n",
       "      <th>WinniethePooh WinniethePooh 1</th>\n",
       "      <td>0.0</td>\n",
       "      <td>0.0</td>\n",
       "      <td>0.0</td>\n",
       "      <td>3.0</td>\n",
       "      <td>0.0</td>\n",
       "      <td>0.0</td>\n",
       "      <td>0.0</td>\n",
       "      <td>0.0</td>\n",
       "      <td>0.0</td>\n",
       "      <td>0.0</td>\n",
       "      <td>...</td>\n",
       "      <td>0.0</td>\n",
       "      <td>4.0</td>\n",
       "      <td>0.0</td>\n",
       "      <td>0.0</td>\n",
       "      <td>0.0</td>\n",
       "      <td>0.0</td>\n",
       "      <td>0.0</td>\n",
       "      <td>0.0</td>\n",
       "      <td>0.0</td>\n",
       "      <td>0.0</td>\n",
       "    </tr>\n",
       "    <tr>\n",
       "      <th>Winter The Lunar Chronicles 4</th>\n",
       "      <td>0.0</td>\n",
       "      <td>0.0</td>\n",
       "      <td>0.0</td>\n",
       "      <td>0.0</td>\n",
       "      <td>0.0</td>\n",
       "      <td>0.0</td>\n",
       "      <td>0.0</td>\n",
       "      <td>0.0</td>\n",
       "      <td>0.0</td>\n",
       "      <td>0.0</td>\n",
       "      <td>...</td>\n",
       "      <td>0.0</td>\n",
       "      <td>0.0</td>\n",
       "      <td>0.0</td>\n",
       "      <td>0.0</td>\n",
       "      <td>0.0</td>\n",
       "      <td>0.0</td>\n",
       "      <td>0.0</td>\n",
       "      <td>0.0</td>\n",
       "      <td>0.0</td>\n",
       "      <td>0.0</td>\n",
       "    </tr>\n",
       "    <tr>\n",
       "      <th>Wuthering Heights</th>\n",
       "      <td>0.0</td>\n",
       "      <td>0.0</td>\n",
       "      <td>0.0</td>\n",
       "      <td>0.0</td>\n",
       "      <td>0.0</td>\n",
       "      <td>0.0</td>\n",
       "      <td>0.0</td>\n",
       "      <td>0.0</td>\n",
       "      <td>0.0</td>\n",
       "      <td>0.0</td>\n",
       "      <td>...</td>\n",
       "      <td>0.0</td>\n",
       "      <td>0.0</td>\n",
       "      <td>0.0</td>\n",
       "      <td>0.0</td>\n",
       "      <td>0.0</td>\n",
       "      <td>0.0</td>\n",
       "      <td>0.0</td>\n",
       "      <td>3.0</td>\n",
       "      <td>0.0</td>\n",
       "      <td>0.0</td>\n",
       "    </tr>\n",
       "  </tbody>\n",
       "</table>\n",
       "<p>308 rows × 293 columns</p>\n",
       "</div>"
      ],
      "text/plain": [
       "user_id_mapping                                     208    227    315    \\\n",
       "title                                                                     \n",
       "1984                                                  0.0    0.0    0.0   \n",
       "A Child Called It Dave Pelzer 1                       0.0    0.0    0.0   \n",
       "A Christmas Carol                                     0.0    0.0    0.0   \n",
       "A Clash of Kings A Song of Ice and Fire 2             0.0    0.0    0.0   \n",
       "A Court of Thorns and Roses A Court of Thorns a...    0.0    0.0    0.0   \n",
       "...                                                   ...    ...    ...   \n",
       "White Oleander                                        0.0    0.0    0.0   \n",
       "Wicked The Life and Times of the Wicked Witch o...    0.0    0.0    0.0   \n",
       "WinniethePooh WinniethePooh 1                         0.0    0.0    0.0   \n",
       "Winter The Lunar Chronicles 4                         0.0    0.0    0.0   \n",
       "Wuthering Heights                                     0.0    0.0    0.0   \n",
       "\n",
       "user_id_mapping                                     337    349    427    \\\n",
       "title                                                                     \n",
       "1984                                                  0.0    0.0    0.0   \n",
       "A Child Called It Dave Pelzer 1                       0.0    0.0    0.0   \n",
       "A Christmas Carol                                     0.0    0.0    0.0   \n",
       "A Clash of Kings A Song of Ice and Fire 2             0.0    0.0    4.0   \n",
       "A Court of Thorns and Roses A Court of Thorns a...    0.0    0.0    0.0   \n",
       "...                                                   ...    ...    ...   \n",
       "White Oleander                                        0.0    0.0    0.0   \n",
       "Wicked The Life and Times of the Wicked Witch o...    0.0    0.0    0.0   \n",
       "WinniethePooh WinniethePooh 1                         3.0    0.0    0.0   \n",
       "Winter The Lunar Chronicles 4                         0.0    0.0    0.0   \n",
       "Wuthering Heights                                     0.0    0.0    0.0   \n",
       "\n",
       "user_id_mapping                                     495    541    548    \\\n",
       "title                                                                     \n",
       "1984                                                  0.0    0.0    0.0   \n",
       "A Child Called It Dave Pelzer 1                       0.0    0.0    0.0   \n",
       "A Christmas Carol                                     0.0    0.0    0.0   \n",
       "A Clash of Kings A Song of Ice and Fire 2             0.0    0.0    5.0   \n",
       "A Court of Thorns and Roses A Court of Thorns a...    0.0    0.0    0.0   \n",
       "...                                                   ...    ...    ...   \n",
       "White Oleander                                        0.0    0.0    0.0   \n",
       "Wicked The Life and Times of the Wicked Witch o...    0.0    0.0    0.0   \n",
       "WinniethePooh WinniethePooh 1                         0.0    0.0    0.0   \n",
       "Winter The Lunar Chronicles 4                         0.0    0.0    0.0   \n",
       "Wuthering Heights                                     0.0    0.0    0.0   \n",
       "\n",
       "user_id_mapping                                     875    ...  53784  54849  \\\n",
       "title                                                      ...                 \n",
       "1984                                                  0.0  ...    0.0    0.0   \n",
       "A Child Called It Dave Pelzer 1                       0.0  ...    0.0    0.0   \n",
       "A Christmas Carol                                     0.0  ...    0.0    0.0   \n",
       "A Clash of Kings A Song of Ice and Fire 2             0.0  ...    0.0    0.0   \n",
       "A Court of Thorns and Roses A Court of Thorns a...    0.0  ...    0.0    0.0   \n",
       "...                                                   ...  ...    ...    ...   \n",
       "White Oleander                                        0.0  ...    0.0    0.0   \n",
       "Wicked The Life and Times of the Wicked Witch o...    0.0  ...    0.0    0.0   \n",
       "WinniethePooh WinniethePooh 1                         0.0  ...    0.0    4.0   \n",
       "Winter The Lunar Chronicles 4                         0.0  ...    0.0    0.0   \n",
       "Wuthering Heights                                     0.0  ...    0.0    0.0   \n",
       "\n",
       "user_id_mapping                                     55667  57310  58950  \\\n",
       "title                                                                     \n",
       "1984                                                  0.0    0.0    0.0   \n",
       "A Child Called It Dave Pelzer 1                       0.0    0.0    0.0   \n",
       "A Christmas Carol                                     0.0    0.0    0.0   \n",
       "A Clash of Kings A Song of Ice and Fire 2             0.0    0.0    0.0   \n",
       "A Court of Thorns and Roses A Court of Thorns a...    0.0    0.0    0.0   \n",
       "...                                                   ...    ...    ...   \n",
       "White Oleander                                        0.0    0.0    0.0   \n",
       "Wicked The Life and Times of the Wicked Witch o...    0.0    0.0    0.0   \n",
       "WinniethePooh WinniethePooh 1                         0.0    0.0    0.0   \n",
       "Winter The Lunar Chronicles 4                         0.0    0.0    0.0   \n",
       "Wuthering Heights                                     0.0    0.0    0.0   \n",
       "\n",
       "user_id_mapping                                     59244  62043  63130  \\\n",
       "title                                                                     \n",
       "1984                                                  0.0    0.0    0.0   \n",
       "A Child Called It Dave Pelzer 1                       0.0    0.0    0.0   \n",
       "A Christmas Carol                                     3.0    0.0    0.0   \n",
       "A Clash of Kings A Song of Ice and Fire 2             0.0    0.0    0.0   \n",
       "A Court of Thorns and Roses A Court of Thorns a...    0.0    0.0    0.0   \n",
       "...                                                   ...    ...    ...   \n",
       "White Oleander                                        0.0    0.0    0.0   \n",
       "Wicked The Life and Times of the Wicked Witch o...    0.0    0.0    0.0   \n",
       "WinniethePooh WinniethePooh 1                         0.0    0.0    0.0   \n",
       "Winter The Lunar Chronicles 4                         0.0    0.0    0.0   \n",
       "Wuthering Heights                                     0.0    0.0    3.0   \n",
       "\n",
       "user_id_mapping                                     64133  69119  \n",
       "title                                                             \n",
       "1984                                                  0.0    0.0  \n",
       "A Child Called It Dave Pelzer 1                       0.0    0.0  \n",
       "A Christmas Carol                                     0.0    0.0  \n",
       "A Clash of Kings A Song of Ice and Fire 2             0.0    0.0  \n",
       "A Court of Thorns and Roses A Court of Thorns a...    0.0    0.0  \n",
       "...                                                   ...    ...  \n",
       "White Oleander                                        0.0    0.0  \n",
       "Wicked The Life and Times of the Wicked Witch o...    0.0    0.0  \n",
       "WinniethePooh WinniethePooh 1                         0.0    0.0  \n",
       "Winter The Lunar Chronicles 4                         0.0    0.0  \n",
       "Wuthering Heights                                     0.0    0.0  \n",
       "\n",
       "[308 rows x 293 columns]"
      ]
     },
     "execution_count": 15,
     "metadata": {},
     "output_type": "execute_result"
    }
   ],
   "source": [
    "pt.fillna(0,inplace=True)\n",
    "pt"
   ]
  },
  {
   "cell_type": "code",
   "execution_count": 16,
   "id": "9c1206b2",
   "metadata": {},
   "outputs": [],
   "source": [
    "from scipy.sparse import csr_matrix"
   ]
  },
  {
   "cell_type": "code",
   "execution_count": 17,
   "id": "0a086ec0",
   "metadata": {},
   "outputs": [],
   "source": [
    "book_sparse = csr_matrix(pt)"
   ]
  },
  {
   "cell_type": "code",
   "execution_count": 18,
   "id": "99858a7b",
   "metadata": {},
   "outputs": [],
   "source": [
    "from sklearn.neighbors import NearestNeighbors\n",
    "model = NearestNeighbors(algorithm= 'brute')"
   ]
  },
  {
   "cell_type": "code",
   "execution_count": 19,
   "id": "fbede07d",
   "metadata": {},
   "outputs": [
    {
     "data": {
      "text/html": [
       "<style>#sk-container-id-1 {color: black;background-color: white;}#sk-container-id-1 pre{padding: 0;}#sk-container-id-1 div.sk-toggleable {background-color: white;}#sk-container-id-1 label.sk-toggleable__label {cursor: pointer;display: block;width: 100%;margin-bottom: 0;padding: 0.3em;box-sizing: border-box;text-align: center;}#sk-container-id-1 label.sk-toggleable__label-arrow:before {content: \"▸\";float: left;margin-right: 0.25em;color: #696969;}#sk-container-id-1 label.sk-toggleable__label-arrow:hover:before {color: black;}#sk-container-id-1 div.sk-estimator:hover label.sk-toggleable__label-arrow:before {color: black;}#sk-container-id-1 div.sk-toggleable__content {max-height: 0;max-width: 0;overflow: hidden;text-align: left;background-color: #f0f8ff;}#sk-container-id-1 div.sk-toggleable__content pre {margin: 0.2em;color: black;border-radius: 0.25em;background-color: #f0f8ff;}#sk-container-id-1 input.sk-toggleable__control:checked~div.sk-toggleable__content {max-height: 200px;max-width: 100%;overflow: auto;}#sk-container-id-1 input.sk-toggleable__control:checked~label.sk-toggleable__label-arrow:before {content: \"▾\";}#sk-container-id-1 div.sk-estimator input.sk-toggleable__control:checked~label.sk-toggleable__label {background-color: #d4ebff;}#sk-container-id-1 div.sk-label input.sk-toggleable__control:checked~label.sk-toggleable__label {background-color: #d4ebff;}#sk-container-id-1 input.sk-hidden--visually {border: 0;clip: rect(1px 1px 1px 1px);clip: rect(1px, 1px, 1px, 1px);height: 1px;margin: -1px;overflow: hidden;padding: 0;position: absolute;width: 1px;}#sk-container-id-1 div.sk-estimator {font-family: monospace;background-color: #f0f8ff;border: 1px dotted black;border-radius: 0.25em;box-sizing: border-box;margin-bottom: 0.5em;}#sk-container-id-1 div.sk-estimator:hover {background-color: #d4ebff;}#sk-container-id-1 div.sk-parallel-item::after {content: \"\";width: 100%;border-bottom: 1px solid gray;flex-grow: 1;}#sk-container-id-1 div.sk-label:hover label.sk-toggleable__label {background-color: #d4ebff;}#sk-container-id-1 div.sk-serial::before {content: \"\";position: absolute;border-left: 1px solid gray;box-sizing: border-box;top: 0;bottom: 0;left: 50%;z-index: 0;}#sk-container-id-1 div.sk-serial {display: flex;flex-direction: column;align-items: center;background-color: white;padding-right: 0.2em;padding-left: 0.2em;position: relative;}#sk-container-id-1 div.sk-item {position: relative;z-index: 1;}#sk-container-id-1 div.sk-parallel {display: flex;align-items: stretch;justify-content: center;background-color: white;position: relative;}#sk-container-id-1 div.sk-item::before, #sk-container-id-1 div.sk-parallel-item::before {content: \"\";position: absolute;border-left: 1px solid gray;box-sizing: border-box;top: 0;bottom: 0;left: 50%;z-index: -1;}#sk-container-id-1 div.sk-parallel-item {display: flex;flex-direction: column;z-index: 1;position: relative;background-color: white;}#sk-container-id-1 div.sk-parallel-item:first-child::after {align-self: flex-end;width: 50%;}#sk-container-id-1 div.sk-parallel-item:last-child::after {align-self: flex-start;width: 50%;}#sk-container-id-1 div.sk-parallel-item:only-child::after {width: 0;}#sk-container-id-1 div.sk-dashed-wrapped {border: 1px dashed gray;margin: 0 0.4em 0.5em 0.4em;box-sizing: border-box;padding-bottom: 0.4em;background-color: white;}#sk-container-id-1 div.sk-label label {font-family: monospace;font-weight: bold;display: inline-block;line-height: 1.2em;}#sk-container-id-1 div.sk-label-container {text-align: center;}#sk-container-id-1 div.sk-container {/* jupyter's `normalize.less` sets `[hidden] { display: none; }` but bootstrap.min.css set `[hidden] { display: none !important; }` so we also need the `!important` here to be able to override the default hidden behavior on the sphinx rendered scikit-learn.org. See: https://github.com/scikit-learn/scikit-learn/issues/21755 */display: inline-block !important;position: relative;}#sk-container-id-1 div.sk-text-repr-fallback {display: none;}</style><div id=\"sk-container-id-1\" class=\"sk-top-container\"><div class=\"sk-text-repr-fallback\"><pre>NearestNeighbors(algorithm=&#x27;brute&#x27;)</pre><b>In a Jupyter environment, please rerun this cell to show the HTML representation or trust the notebook. <br />On GitHub, the HTML representation is unable to render, please try loading this page with nbviewer.org.</b></div><div class=\"sk-container\" hidden><div class=\"sk-item\"><div class=\"sk-estimator sk-toggleable\"><input class=\"sk-toggleable__control sk-hidden--visually\" id=\"sk-estimator-id-1\" type=\"checkbox\" checked><label for=\"sk-estimator-id-1\" class=\"sk-toggleable__label sk-toggleable__label-arrow\">NearestNeighbors</label><div class=\"sk-toggleable__content\"><pre>NearestNeighbors(algorithm=&#x27;brute&#x27;)</pre></div></div></div></div></div>"
      ],
      "text/plain": [
       "NearestNeighbors(algorithm='brute')"
      ]
     },
     "execution_count": 19,
     "metadata": {},
     "output_type": "execute_result"
    }
   ],
   "source": [
    "model.fit(book_sparse)"
   ]
  },
  {
   "cell_type": "code",
   "execution_count": 20,
   "id": "40015ffd",
   "metadata": {},
   "outputs": [],
   "source": [
    "distance, suggestion = model.kneighbors(pt.iloc[237,:].values.reshape(1,-1), n_neighbors=6 )"
   ]
  },
  {
   "cell_type": "code",
   "execution_count": 21,
   "id": "26c7644d",
   "metadata": {},
   "outputs": [
    {
     "data": {
      "text/plain": [
       "array([[0.        , 8.1240384 , 8.1240384 , 8.30662386, 8.30662386,\n",
       "        8.66025404]])"
      ]
     },
     "execution_count": 21,
     "metadata": {},
     "output_type": "execute_result"
    }
   ],
   "source": [
    "distance"
   ]
  },
  {
   "cell_type": "code",
   "execution_count": 22,
   "id": "64f91c20",
   "metadata": {},
   "outputs": [
    {
     "data": {
      "text/plain": [
       "array([[237, 285, 241,  74, 123,  73]], dtype=int64)"
      ]
     },
     "execution_count": 22,
     "metadata": {},
     "output_type": "execute_result"
    }
   ],
   "source": [
    "suggestion"
   ]
  },
  {
   "cell_type": "code",
   "execution_count": 23,
   "id": "1cdd2b48",
   "metadata": {},
   "outputs": [
    {
     "data": {
      "text/plain": [
       "user_id_mapping\n",
       "208      0.0\n",
       "227      0.0\n",
       "315      0.0\n",
       "337      0.0\n",
       "349      0.0\n",
       "        ... \n",
       "59244    0.0\n",
       "62043    0.0\n",
       "63130    0.0\n",
       "64133    0.0\n",
       "69119    0.0\n",
       "Name: The Mists of Avalon Avalon 1, Length: 293, dtype: float64"
      ]
     },
     "execution_count": 23,
     "metadata": {},
     "output_type": "execute_result"
    }
   ],
   "source": [
    "pt.iloc[241,:]"
   ]
  },
  {
   "cell_type": "code",
   "execution_count": 24,
   "id": "d400b62a",
   "metadata": {},
   "outputs": [
    {
     "name": "stdout",
     "output_type": "stream",
     "text": [
      "Index(['The Magicians The Magicians 1', 'The Wind in the Willows',\n",
      "       'The Mists of Avalon Avalon 1', 'Fifty Shades Freed Fifty Shades 3',\n",
      "       'Lolita', 'Fifty Shades Darker Fifty Shades 2'],\n",
      "      dtype='object', name='title')\n"
     ]
    }
   ],
   "source": [
    "for i in range(len(suggestion)):\n",
    "    print(pt.index[suggestion[i]])"
   ]
  },
  {
   "cell_type": "code",
   "execution_count": 25,
   "id": "5c0f343f",
   "metadata": {},
   "outputs": [
    {
     "data": {
      "text/plain": [
       "'A Clash of Kings A Song of Ice and Fire 2'"
      ]
     },
     "execution_count": 25,
     "metadata": {},
     "output_type": "execute_result"
    }
   ],
   "source": [
    "pt.index[3]\n"
   ]
  },
  {
   "cell_type": "code",
   "execution_count": 26,
   "id": "ab9991cf",
   "metadata": {},
   "outputs": [],
   "source": [
    "book_id = np.where(pt.index =='Sharp Objects')"
   ]
  },
  {
   "cell_type": "code",
   "execution_count": 27,
   "id": "8edcc025",
   "metadata": {},
   "outputs": [
    {
     "data": {
      "text/plain": [
       "(array([], dtype=int64),)"
      ]
     },
     "execution_count": 27,
     "metadata": {},
     "output_type": "execute_result"
    }
   ],
   "source": [
    "book_id"
   ]
  },
  {
   "cell_type": "code",
   "execution_count": 28,
   "id": "b89d0d21",
   "metadata": {},
   "outputs": [],
   "source": [
    "def recommend_book(book_name):\n",
    "    book_id = np.where(pt.index == book_name)[0][0]\n",
    "    distance, suggestion = model.kneighbors(pt.iloc[book_id,:].values.reshape(1,-1), n_neighbors=6 )\n",
    "    \n",
    "    for i in range(len(suggestion)):\n",
    "            books = pt.index[suggestion[i]]\n",
    "            for j in books:\n",
    "                if j == book_name:\n",
    "                    print(f\"You searched '{book_name}'\\n\")\n",
    "                    print(\"The suggestion books are: \\n\")\n",
    "                else:\n",
    "                    print(j)"
   ]
  },
  {
   "cell_type": "code",
   "execution_count": 29,
   "id": "3f4ed1f6",
   "metadata": {},
   "outputs": [
    {
     "name": "stdout",
     "output_type": "stream",
     "text": [
      "You searched 'The Wind in the Willows'\n",
      "\n",
      "The suggestion books are: \n",
      "\n",
      "Geralds Game\n",
      "Lolita\n",
      "Fifty Shades Freed Fifty Shades 3\n",
      "The Magicians The Magicians 1\n",
      "Fifty Shades Darker Fifty Shades 2\n"
     ]
    }
   ],
   "source": [
    "recommend_book('The Wind in the Willows')"
   ]
  },
  {
   "cell_type": "code",
   "execution_count": 30,
   "id": "dae9d473",
   "metadata": {},
   "outputs": [
    {
     "name": "stdout",
     "output_type": "stream",
     "text": [
      "You searched 'The Magicians The Magicians 1'\n",
      "\n",
      "The suggestion books are: \n",
      "\n",
      "The Wind in the Willows\n",
      "The Mists of Avalon Avalon 1\n",
      "Fifty Shades Freed Fifty Shades 3\n",
      "Lolita\n",
      "Fifty Shades Darker Fifty Shades 2\n"
     ]
    }
   ],
   "source": [
    "recommend_book(\"The Magicians The Magicians 1\")"
   ]
  },
  {
   "cell_type": "code",
   "execution_count": 31,
   "id": "76d2d5fb",
   "metadata": {},
   "outputs": [
    {
     "ename": "SyntaxError",
     "evalue": "incomplete input (2345773116.py, line 1)",
     "output_type": "error",
     "traceback": [
      "\u001b[1;36m  Cell \u001b[1;32mIn[31], line 1\u001b[1;36m\u001b[0m\n\u001b[1;33m    book_df.title.unique(\u001b[0m\n\u001b[1;37m                         ^\u001b[0m\n\u001b[1;31mSyntaxError\u001b[0m\u001b[1;31m:\u001b[0m incomplete input\n"
     ]
    }
   ],
   "source": [
    "book_df.title.unique("
   ]
  },
  {
   "cell_type": "code",
   "execution_count": null,
   "id": "0da0f7e9",
   "metadata": {},
   "outputs": [],
   "source": []
  }
 ],
 "metadata": {
  "kernelspec": {
   "display_name": "Python 3 (ipykernel)",
   "language": "python",
   "name": "python3"
  },
  "language_info": {
   "codemirror_mode": {
    "name": "ipython",
    "version": 3
   },
   "file_extension": ".py",
   "mimetype": "text/x-python",
   "name": "python",
   "nbconvert_exporter": "python",
   "pygments_lexer": "ipython3",
   "version": "3.10.9"
  }
 },
 "nbformat": 4,
 "nbformat_minor": 5
}
