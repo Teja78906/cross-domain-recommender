{
 "cells": [
  {
   "cell_type": "code",
   "execution_count": 1,
   "id": "79ebddd6-30ef-46b1-8275-153a67e3df22",
   "metadata": {},
   "outputs": [],
   "source": [
    "import pandas as pd\n",
    "import numpy as np\n",
    "import itertools\n",
    "import nltk\n",
    "from nltk.stem import PorterStemmer"
   ]
  },
  {
   "cell_type": "code",
   "execution_count": 2,
   "id": "f66ed644-1969-40a3-be0c-74cbc1f4261a",
   "metadata": {},
   "outputs": [],
   "source": [
    "book_df=pd.read_csv(\"collaborative_book_metadata.csv\")"
   ]
  },
  {
   "cell_type": "code",
   "execution_count": 3,
   "id": "20cb4ed9-1674-4cda-999f-2389b85e8891",
   "metadata": {},
   "outputs": [
    {
     "data": {
      "text/html": [
       "<div>\n",
       "<style scoped>\n",
       "    .dataframe tbody tr th:only-of-type {\n",
       "        vertical-align: middle;\n",
       "    }\n",
       "\n",
       "    .dataframe tbody tr th {\n",
       "        vertical-align: top;\n",
       "    }\n",
       "\n",
       "    .dataframe thead th {\n",
       "        text-align: right;\n",
       "    }\n",
       "</style>\n",
       "<table border=\"1\" class=\"dataframe\">\n",
       "  <thead>\n",
       "    <tr style=\"text-align: right;\">\n",
       "      <th></th>\n",
       "      <th>Unnamed: 0</th>\n",
       "      <th>book_id</th>\n",
       "      <th>title</th>\n",
       "      <th>image_url</th>\n",
       "      <th>url</th>\n",
       "      <th>num_pages</th>\n",
       "      <th>ratings_count</th>\n",
       "      <th>description</th>\n",
       "      <th>genre</th>\n",
       "      <th>name</th>\n",
       "      <th>book_id_mapping</th>\n",
       "    </tr>\n",
       "  </thead>\n",
       "  <tbody>\n",
       "    <tr>\n",
       "      <th>0</th>\n",
       "      <td>0</td>\n",
       "      <td>5899779</td>\n",
       "      <td>Pride and Prejudice and Zombies Pride and Prej...</td>\n",
       "      <td>https://images.gr-assets.com/books/1320449653m...</td>\n",
       "      <td>https://www.goodreads.com/book/show/5899779-pr...</td>\n",
       "      <td>320</td>\n",
       "      <td>105537</td>\n",
       "      <td>The New York Times Best Seller is now a major ...</td>\n",
       "      <td>['fantasy, paranormal', 'romance', 'fiction', ...</td>\n",
       "      <td>Jane Austen</td>\n",
       "      <td>808</td>\n",
       "    </tr>\n",
       "    <tr>\n",
       "      <th>1</th>\n",
       "      <td>1</td>\n",
       "      <td>872333</td>\n",
       "      <td>Blue Bloods Blue Bloods 1</td>\n",
       "      <td>https://images.gr-assets.com/books/1322281515m...</td>\n",
       "      <td>https://www.goodreads.com/book/show/872333.Blu...</td>\n",
       "      <td>302</td>\n",
       "      <td>117633</td>\n",
       "      <td>When the Mayflower set sail in 1620, it carrie...</td>\n",
       "      <td>['young-adult', 'fantasy, paranormal', 'romanc...</td>\n",
       "      <td>Melissa de la Cruz</td>\n",
       "      <td>217</td>\n",
       "    </tr>\n",
       "    <tr>\n",
       "      <th>2</th>\n",
       "      <td>2</td>\n",
       "      <td>15507958</td>\n",
       "      <td>Me Before You Me Before You 1</td>\n",
       "      <td>https://images.gr-assets.com/books/1357108762m...</td>\n",
       "      <td>https://www.goodreads.com/book/show/15507958-m...</td>\n",
       "      <td>369</td>\n",
       "      <td>609327</td>\n",
       "      <td>Louisa Clark is an ordinary young woman living...</td>\n",
       "      <td>['romance', 'fiction']</td>\n",
       "      <td>Jojo Moyes</td>\n",
       "      <td>385</td>\n",
       "    </tr>\n",
       "    <tr>\n",
       "      <th>3</th>\n",
       "      <td>3</td>\n",
       "      <td>66559</td>\n",
       "      <td>Sharp Objects</td>\n",
       "      <td>https://images.gr-assets.com/books/1423241485m...</td>\n",
       "      <td>https://www.goodreads.com/book/show/66559.Shar...</td>\n",
       "      <td>254</td>\n",
       "      <td>208394</td>\n",
       "      <td>Fresh from a brief stay at a psych hospital, r...</td>\n",
       "      <td>['mystery, thriller, crime', 'fiction']</td>\n",
       "      <td>Gillian Flynn</td>\n",
       "      <td>192</td>\n",
       "    </tr>\n",
       "    <tr>\n",
       "      <th>4</th>\n",
       "      <td>4</td>\n",
       "      <td>7235533</td>\n",
       "      <td>The Way of Kings The Stormlight Archive 1</td>\n",
       "      <td>https://images.gr-assets.com/books/1507307887m...</td>\n",
       "      <td>https://www.goodreads.com/book/show/7235533-th...</td>\n",
       "      <td>1007</td>\n",
       "      <td>151473</td>\n",
       "      <td>Speak again the ancient oaths,\\nLife before de...</td>\n",
       "      <td>['fantasy, paranormal', 'fiction']</td>\n",
       "      <td>Brandon Sanderson</td>\n",
       "      <td>873</td>\n",
       "    </tr>\n",
       "  </tbody>\n",
       "</table>\n",
       "</div>"
      ],
      "text/plain": [
       "   Unnamed: 0   book_id                                              title  \\\n",
       "0           0   5899779  Pride and Prejudice and Zombies Pride and Prej...   \n",
       "1           1    872333                          Blue Bloods Blue Bloods 1   \n",
       "2           2  15507958                      Me Before You Me Before You 1   \n",
       "3           3     66559                                      Sharp Objects   \n",
       "4           4   7235533          The Way of Kings The Stormlight Archive 1   \n",
       "\n",
       "                                           image_url  \\\n",
       "0  https://images.gr-assets.com/books/1320449653m...   \n",
       "1  https://images.gr-assets.com/books/1322281515m...   \n",
       "2  https://images.gr-assets.com/books/1357108762m...   \n",
       "3  https://images.gr-assets.com/books/1423241485m...   \n",
       "4  https://images.gr-assets.com/books/1507307887m...   \n",
       "\n",
       "                                                 url  num_pages  \\\n",
       "0  https://www.goodreads.com/book/show/5899779-pr...        320   \n",
       "1  https://www.goodreads.com/book/show/872333.Blu...        302   \n",
       "2  https://www.goodreads.com/book/show/15507958-m...        369   \n",
       "3  https://www.goodreads.com/book/show/66559.Shar...        254   \n",
       "4  https://www.goodreads.com/book/show/7235533-th...       1007   \n",
       "\n",
       "   ratings_count                                        description  \\\n",
       "0         105537  The New York Times Best Seller is now a major ...   \n",
       "1         117633  When the Mayflower set sail in 1620, it carrie...   \n",
       "2         609327  Louisa Clark is an ordinary young woman living...   \n",
       "3         208394  Fresh from a brief stay at a psych hospital, r...   \n",
       "4         151473  Speak again the ancient oaths,\\nLife before de...   \n",
       "\n",
       "                                               genre                name  \\\n",
       "0  ['fantasy, paranormal', 'romance', 'fiction', ...         Jane Austen   \n",
       "1  ['young-adult', 'fantasy, paranormal', 'romanc...  Melissa de la Cruz   \n",
       "2                             ['romance', 'fiction']          Jojo Moyes   \n",
       "3            ['mystery, thriller, crime', 'fiction']       Gillian Flynn   \n",
       "4                 ['fantasy, paranormal', 'fiction']   Brandon Sanderson   \n",
       "\n",
       "   book_id_mapping  \n",
       "0              808  \n",
       "1              217  \n",
       "2              385  \n",
       "3              192  \n",
       "4              873  "
      ]
     },
     "execution_count": 3,
     "metadata": {},
     "output_type": "execute_result"
    }
   ],
   "source": [
    "book_df.head()"
   ]
  },
  {
   "cell_type": "code",
   "execution_count": 4,
   "id": "ea678e9b-d6f8-4f73-9de0-adf8fa3cbd2f",
   "metadata": {},
   "outputs": [
    {
     "data": {
      "text/plain": [
       "0"
      ]
     },
     "execution_count": 4,
     "metadata": {},
     "output_type": "execute_result"
    }
   ],
   "source": [
    "book_df.duplicated().sum()"
   ]
  },
  {
   "cell_type": "code",
   "execution_count": 5,
   "id": "e8725b9e-012c-48c1-b55a-c59984cc6dc7",
   "metadata": {},
   "outputs": [],
   "source": [
    "book=book_df[[\"book_id\",\"title\",\"genre\",\"description\"]]"
   ]
  },
  {
   "cell_type": "code",
   "execution_count": 6,
   "id": "2df8c577-c409-48e7-8555-cf42f57975f6",
   "metadata": {},
   "outputs": [
    {
     "data": {
      "text/plain": [
       "\"['fantasy, paranormal', 'romance', 'fiction', 'history, historical fiction, biography', 'young-adult', 'mystery, thriller, crime']\""
      ]
     },
     "execution_count": 6,
     "metadata": {},
     "output_type": "execute_result"
    }
   ],
   "source": [
    "book.iloc[0][\"genre\"]"
   ]
  },
  {
   "cell_type": "code",
   "execution_count": 7,
   "id": "ee64f07b-ecc4-4571-bd05-dba65c597f75",
   "metadata": {},
   "outputs": [],
   "source": [
    "import ast #for converting str to list\n",
    "\n",
    "def convert(text):\n",
    "    L = []\n",
    "    for i in ast.literal_eval(text):\n",
    "        L.append(i) \n",
    "    return L"
   ]
  },
  {
   "cell_type": "code",
   "execution_count": 8,
   "id": "14418ce0-3b50-4951-bbd7-4854fc041ba3",
   "metadata": {},
   "outputs": [
    {
     "name": "stderr",
     "output_type": "stream",
     "text": [
      "C:\\Users\\TEJA\\AppData\\Local\\Temp\\ipykernel_3284\\2443777982.py:1: SettingWithCopyWarning: \n",
      "A value is trying to be set on a copy of a slice from a DataFrame.\n",
      "Try using .loc[row_indexer,col_indexer] = value instead\n",
      "\n",
      "See the caveats in the documentation: https://pandas.pydata.org/pandas-docs/stable/user_guide/indexing.html#returning-a-view-versus-a-copy\n",
      "  book['genre'] = book['genre'].apply(convert)\n"
     ]
    }
   ],
   "source": [
    "book['genre'] = book['genre'].apply(convert)"
   ]
  },
  {
   "cell_type": "code",
   "execution_count": 9,
   "id": "8912db94-fbb7-4e42-b391-14690b3f58f5",
   "metadata": {},
   "outputs": [
    {
     "data": {
      "text/plain": [
       "['fantasy, paranormal',\n",
       " 'romance',\n",
       " 'fiction',\n",
       " 'history, historical fiction, biography',\n",
       " 'young-adult',\n",
       " 'mystery, thriller, crime']"
      ]
     },
     "execution_count": 9,
     "metadata": {},
     "output_type": "execute_result"
    }
   ],
   "source": [
    "book.iloc[0][\"genre\"]"
   ]
  },
  {
   "cell_type": "code",
   "execution_count": 10,
   "id": "1587163d-0a2b-42df-9805-7e0f06c110ba",
   "metadata": {},
   "outputs": [],
   "source": [
    "def remove_space(L):\n",
    "    L1 = []\n",
    "    for i in L:\n",
    "        L1.append(i.replace(\" \",\"\"))\n",
    "    return L1"
   ]
  },
  {
   "cell_type": "code",
   "execution_count": 11,
   "id": "ba2fd8ee-6bfc-42bf-8078-726332fcf66b",
   "metadata": {},
   "outputs": [
    {
     "name": "stderr",
     "output_type": "stream",
     "text": [
      "C:\\Users\\TEJA\\AppData\\Local\\Temp\\ipykernel_3284\\207363691.py:1: SettingWithCopyWarning: \n",
      "A value is trying to be set on a copy of a slice from a DataFrame.\n",
      "Try using .loc[row_indexer,col_indexer] = value instead\n",
      "\n",
      "See the caveats in the documentation: https://pandas.pydata.org/pandas-docs/stable/user_guide/indexing.html#returning-a-view-versus-a-copy\n",
      "  book['genre'] = book['genre'].apply(remove_space)\n"
     ]
    }
   ],
   "source": [
    "book['genre'] = book['genre'].apply(remove_space)"
   ]
  },
  {
   "cell_type": "code",
   "execution_count": 12,
   "id": "f6b0e9d4-974d-4cec-aa05-34dd547d9774",
   "metadata": {},
   "outputs": [
    {
     "name": "stderr",
     "output_type": "stream",
     "text": [
      "C:\\Users\\TEJA\\AppData\\Local\\Temp\\ipykernel_3284\\3015881702.py:1: SettingWithCopyWarning: \n",
      "A value is trying to be set on a copy of a slice from a DataFrame.\n",
      "Try using .loc[row_indexer,col_indexer] = value instead\n",
      "\n",
      "See the caveats in the documentation: https://pandas.pydata.org/pandas-docs/stable/user_guide/indexing.html#returning-a-view-versus-a-copy\n",
      "  book[\"description\"]=book[\"description\"].apply(lambda x:x.split())\n"
     ]
    }
   ],
   "source": [
    "book[\"description\"]=book[\"description\"].apply(lambda x:x.split())"
   ]
  },
  {
   "cell_type": "code",
   "execution_count": 13,
   "id": "fb53844b-ff30-48c3-b20a-4b821fa9b46a",
   "metadata": {},
   "outputs": [
    {
     "name": "stderr",
     "output_type": "stream",
     "text": [
      "C:\\Users\\TEJA\\AppData\\Local\\Temp\\ipykernel_3284\\2701985202.py:1: SettingWithCopyWarning: \n",
      "A value is trying to be set on a copy of a slice from a DataFrame.\n",
      "Try using .loc[row_indexer,col_indexer] = value instead\n",
      "\n",
      "See the caveats in the documentation: https://pandas.pydata.org/pandas-docs/stable/user_guide/indexing.html#returning-a-view-versus-a-copy\n",
      "  book[\"Tags\"]=book[\"genre\"]+book[\"description\"]\n"
     ]
    }
   ],
   "source": [
    "book[\"Tags\"]=book[\"genre\"]+book[\"description\"]"
   ]
  },
  {
   "cell_type": "code",
   "execution_count": 14,
   "id": "df2861c3-f241-4767-aac5-512a48173595",
   "metadata": {},
   "outputs": [
    {
     "data": {
      "text/html": [
       "<div>\n",
       "<style scoped>\n",
       "    .dataframe tbody tr th:only-of-type {\n",
       "        vertical-align: middle;\n",
       "    }\n",
       "\n",
       "    .dataframe tbody tr th {\n",
       "        vertical-align: top;\n",
       "    }\n",
       "\n",
       "    .dataframe thead th {\n",
       "        text-align: right;\n",
       "    }\n",
       "</style>\n",
       "<table border=\"1\" class=\"dataframe\">\n",
       "  <thead>\n",
       "    <tr style=\"text-align: right;\">\n",
       "      <th></th>\n",
       "      <th>book_id</th>\n",
       "      <th>title</th>\n",
       "      <th>genre</th>\n",
       "      <th>description</th>\n",
       "      <th>Tags</th>\n",
       "    </tr>\n",
       "  </thead>\n",
       "  <tbody>\n",
       "    <tr>\n",
       "      <th>0</th>\n",
       "      <td>5899779</td>\n",
       "      <td>Pride and Prejudice and Zombies Pride and Prej...</td>\n",
       "      <td>[fantasy,paranormal, romance, fiction, history...</td>\n",
       "      <td>[The, New, York, Times, Best, Seller, is, now,...</td>\n",
       "      <td>[fantasy,paranormal, romance, fiction, history...</td>\n",
       "    </tr>\n",
       "    <tr>\n",
       "      <th>1</th>\n",
       "      <td>872333</td>\n",
       "      <td>Blue Bloods Blue Bloods 1</td>\n",
       "      <td>[young-adult, fantasy,paranormal, romance, fic...</td>\n",
       "      <td>[When, the, Mayflower, set, sail, in, 1620,, i...</td>\n",
       "      <td>[young-adult, fantasy,paranormal, romance, fic...</td>\n",
       "    </tr>\n",
       "    <tr>\n",
       "      <th>2</th>\n",
       "      <td>15507958</td>\n",
       "      <td>Me Before You Me Before You 1</td>\n",
       "      <td>[romance, fiction]</td>\n",
       "      <td>[Louisa, Clark, is, an, ordinary, young, woman...</td>\n",
       "      <td>[romance, fiction, Louisa, Clark, is, an, ordi...</td>\n",
       "    </tr>\n",
       "    <tr>\n",
       "      <th>3</th>\n",
       "      <td>66559</td>\n",
       "      <td>Sharp Objects</td>\n",
       "      <td>[mystery,thriller,crime, fiction]</td>\n",
       "      <td>[Fresh, from, a, brief, stay, at, a, psych, ho...</td>\n",
       "      <td>[mystery,thriller,crime, fiction, Fresh, from,...</td>\n",
       "    </tr>\n",
       "    <tr>\n",
       "      <th>4</th>\n",
       "      <td>7235533</td>\n",
       "      <td>The Way of Kings The Stormlight Archive 1</td>\n",
       "      <td>[fantasy,paranormal, fiction]</td>\n",
       "      <td>[Speak, again, the, ancient, oaths,, Life, bef...</td>\n",
       "      <td>[fantasy,paranormal, fiction, Speak, again, th...</td>\n",
       "    </tr>\n",
       "  </tbody>\n",
       "</table>\n",
       "</div>"
      ],
      "text/plain": [
       "    book_id                                              title  \\\n",
       "0   5899779  Pride and Prejudice and Zombies Pride and Prej...   \n",
       "1    872333                          Blue Bloods Blue Bloods 1   \n",
       "2  15507958                      Me Before You Me Before You 1   \n",
       "3     66559                                      Sharp Objects   \n",
       "4   7235533          The Way of Kings The Stormlight Archive 1   \n",
       "\n",
       "                                               genre  \\\n",
       "0  [fantasy,paranormal, romance, fiction, history...   \n",
       "1  [young-adult, fantasy,paranormal, romance, fic...   \n",
       "2                                 [romance, fiction]   \n",
       "3                  [mystery,thriller,crime, fiction]   \n",
       "4                      [fantasy,paranormal, fiction]   \n",
       "\n",
       "                                         description  \\\n",
       "0  [The, New, York, Times, Best, Seller, is, now,...   \n",
       "1  [When, the, Mayflower, set, sail, in, 1620,, i...   \n",
       "2  [Louisa, Clark, is, an, ordinary, young, woman...   \n",
       "3  [Fresh, from, a, brief, stay, at, a, psych, ho...   \n",
       "4  [Speak, again, the, ancient, oaths,, Life, bef...   \n",
       "\n",
       "                                                Tags  \n",
       "0  [fantasy,paranormal, romance, fiction, history...  \n",
       "1  [young-adult, fantasy,paranormal, romance, fic...  \n",
       "2  [romance, fiction, Louisa, Clark, is, an, ordi...  \n",
       "3  [mystery,thriller,crime, fiction, Fresh, from,...  \n",
       "4  [fantasy,paranormal, fiction, Speak, again, th...  "
      ]
     },
     "execution_count": 14,
     "metadata": {},
     "output_type": "execute_result"
    }
   ],
   "source": [
    "book.head()"
   ]
  },
  {
   "cell_type": "code",
   "execution_count": 15,
   "id": "ba81ea02-f269-4f76-a8ab-3cc2429e7c8e",
   "metadata": {},
   "outputs": [],
   "source": [
    "new_book_df = book[['book_id','title','Tags']]"
   ]
  },
  {
   "cell_type": "code",
   "execution_count": 16,
   "id": "06ae377c-65af-4136-ab2d-e8b682e8b77e",
   "metadata": {},
   "outputs": [
    {
     "name": "stderr",
     "output_type": "stream",
     "text": [
      "C:\\Users\\TEJA\\AppData\\Local\\Temp\\ipykernel_3284\\1579840890.py:1: SettingWithCopyWarning: \n",
      "A value is trying to be set on a copy of a slice from a DataFrame.\n",
      "Try using .loc[row_indexer,col_indexer] = value instead\n",
      "\n",
      "See the caveats in the documentation: https://pandas.pydata.org/pandas-docs/stable/user_guide/indexing.html#returning-a-view-versus-a-copy\n",
      "  new_book_df['Tags'] = new_book_df['Tags'].apply(lambda x: \" \".join(x))\n"
     ]
    },
    {
     "data": {
      "text/html": [
       "<div>\n",
       "<style scoped>\n",
       "    .dataframe tbody tr th:only-of-type {\n",
       "        vertical-align: middle;\n",
       "    }\n",
       "\n",
       "    .dataframe tbody tr th {\n",
       "        vertical-align: top;\n",
       "    }\n",
       "\n",
       "    .dataframe thead th {\n",
       "        text-align: right;\n",
       "    }\n",
       "</style>\n",
       "<table border=\"1\" class=\"dataframe\">\n",
       "  <thead>\n",
       "    <tr style=\"text-align: right;\">\n",
       "      <th></th>\n",
       "      <th>book_id</th>\n",
       "      <th>title</th>\n",
       "      <th>Tags</th>\n",
       "    </tr>\n",
       "  </thead>\n",
       "  <tbody>\n",
       "    <tr>\n",
       "      <th>0</th>\n",
       "      <td>5899779</td>\n",
       "      <td>Pride and Prejudice and Zombies Pride and Prej...</td>\n",
       "      <td>fantasy,paranormal romance fiction history,his...</td>\n",
       "    </tr>\n",
       "    <tr>\n",
       "      <th>1</th>\n",
       "      <td>872333</td>\n",
       "      <td>Blue Bloods Blue Bloods 1</td>\n",
       "      <td>young-adult fantasy,paranormal romance fiction...</td>\n",
       "    </tr>\n",
       "    <tr>\n",
       "      <th>2</th>\n",
       "      <td>15507958</td>\n",
       "      <td>Me Before You Me Before You 1</td>\n",
       "      <td>romance fiction Louisa Clark is an ordinary yo...</td>\n",
       "    </tr>\n",
       "    <tr>\n",
       "      <th>3</th>\n",
       "      <td>66559</td>\n",
       "      <td>Sharp Objects</td>\n",
       "      <td>mystery,thriller,crime fiction Fresh from a br...</td>\n",
       "    </tr>\n",
       "    <tr>\n",
       "      <th>4</th>\n",
       "      <td>7235533</td>\n",
       "      <td>The Way of Kings The Stormlight Archive 1</td>\n",
       "      <td>fantasy,paranormal fiction Speak again the anc...</td>\n",
       "    </tr>\n",
       "  </tbody>\n",
       "</table>\n",
       "</div>"
      ],
      "text/plain": [
       "    book_id                                              title  \\\n",
       "0   5899779  Pride and Prejudice and Zombies Pride and Prej...   \n",
       "1    872333                          Blue Bloods Blue Bloods 1   \n",
       "2  15507958                      Me Before You Me Before You 1   \n",
       "3     66559                                      Sharp Objects   \n",
       "4   7235533          The Way of Kings The Stormlight Archive 1   \n",
       "\n",
       "                                                Tags  \n",
       "0  fantasy,paranormal romance fiction history,his...  \n",
       "1  young-adult fantasy,paranormal romance fiction...  \n",
       "2  romance fiction Louisa Clark is an ordinary yo...  \n",
       "3  mystery,thriller,crime fiction Fresh from a br...  \n",
       "4  fantasy,paranormal fiction Speak again the anc...  "
      ]
     },
     "execution_count": 16,
     "metadata": {},
     "output_type": "execute_result"
    }
   ],
   "source": [
    "new_book_df['Tags'] = new_book_df['Tags'].apply(lambda x: \" \".join(x))\n",
    "new_book_df.head()"
   ]
  },
  {
   "cell_type": "code",
   "execution_count": 17,
   "id": "25b38146-7449-4ad1-bf3e-c557b2a1c9c0",
   "metadata": {},
   "outputs": [
    {
     "name": "stderr",
     "output_type": "stream",
     "text": [
      "C:\\Users\\TEJA\\AppData\\Local\\Temp\\ipykernel_3284\\860502264.py:1: SettingWithCopyWarning: \n",
      "A value is trying to be set on a copy of a slice from a DataFrame.\n",
      "Try using .loc[row_indexer,col_indexer] = value instead\n",
      "\n",
      "See the caveats in the documentation: https://pandas.pydata.org/pandas-docs/stable/user_guide/indexing.html#returning-a-view-versus-a-copy\n",
      "  new_book_df['Tags'] = new_book_df['Tags'].apply(lambda x:x.lower())\n"
     ]
    }
   ],
   "source": [
    "new_book_df['Tags'] = new_book_df['Tags'].apply(lambda x:x.lower())"
   ]
  },
  {
   "cell_type": "code",
   "execution_count": 18,
   "id": "f95b4b48-f0ac-4e23-9b30-980b2e472dd4",
   "metadata": {},
   "outputs": [],
   "source": [
    "ps = PorterStemmer()"
   ]
  },
  {
   "cell_type": "code",
   "execution_count": 19,
   "id": "533ded9f-ce44-4224-b441-16575ba36ea4",
   "metadata": {},
   "outputs": [],
   "source": [
    "def stems(text):\n",
    "    T = []\n",
    "    \n",
    "    for i in text.split():\n",
    "        T.append(ps.stem(i))\n",
    "    \n",
    "    return \" \".join(T)"
   ]
  },
  {
   "cell_type": "code",
   "execution_count": 20,
   "id": "cb82ea3b-f7bd-40a2-bbe0-5025bcc65165",
   "metadata": {},
   "outputs": [
    {
     "name": "stderr",
     "output_type": "stream",
     "text": [
      "C:\\Users\\TEJA\\AppData\\Local\\Temp\\ipykernel_3284\\1391816524.py:1: SettingWithCopyWarning: \n",
      "A value is trying to be set on a copy of a slice from a DataFrame.\n",
      "Try using .loc[row_indexer,col_indexer] = value instead\n",
      "\n",
      "See the caveats in the documentation: https://pandas.pydata.org/pandas-docs/stable/user_guide/indexing.html#returning-a-view-versus-a-copy\n",
      "  new_book_df['Tags'] = new_book_df['Tags'].apply(stems)\n"
     ]
    }
   ],
   "source": [
    "new_book_df['Tags'] = new_book_df['Tags'].apply(stems)"
   ]
  },
  {
   "cell_type": "code",
   "execution_count": 21,
   "id": "3898a680-8317-4724-96f2-32d3a703058a",
   "metadata": {},
   "outputs": [],
   "source": [
    "from sklearn.feature_extraction.text import CountVectorizer\n",
    "cv = CountVectorizer(max_features=5000,stop_words='english')"
   ]
  },
  {
   "cell_type": "code",
   "execution_count": 22,
   "id": "ec211bf7-9ebe-4ba9-9f09-c3ca7be80b3e",
   "metadata": {},
   "outputs": [],
   "source": [
    "vector = cv.fit_transform(new_book_df['Tags']).toarray()"
   ]
  },
  {
   "cell_type": "code",
   "execution_count": 23,
   "id": "621b0c36-33b3-4327-a036-5f61d1cd9ae0",
   "metadata": {},
   "outputs": [
    {
     "data": {
      "text/plain": [
       "(96, 3415)"
      ]
     },
     "execution_count": 23,
     "metadata": {},
     "output_type": "execute_result"
    }
   ],
   "source": [
    "vector.shape"
   ]
  },
  {
   "cell_type": "code",
   "execution_count": 24,
   "id": "e8460336-6864-4a52-80eb-c5bd7e7d1d49",
   "metadata": {},
   "outputs": [],
   "source": [
    "from sklearn.metrics.pairwise import cosine_similarity"
   ]
  },
  {
   "cell_type": "code",
   "execution_count": 25,
   "id": "e322ce88-3e85-4db8-a444-2a3bc094ce0d",
   "metadata": {},
   "outputs": [],
   "source": [
    "similarity = cosine_similarity(vector)"
   ]
  },
  {
   "cell_type": "code",
   "execution_count": 26,
   "id": "f552ad38-ef39-45ca-9729-6494af8d72a4",
   "metadata": {},
   "outputs": [
    {
     "data": {
      "text/plain": [
       "(96, 96)"
      ]
     },
     "execution_count": 26,
     "metadata": {},
     "output_type": "execute_result"
    }
   ],
   "source": [
    " similarity.shape"
   ]
  },
  {
   "cell_type": "code",
   "execution_count": 27,
   "id": "62c65da8-e3be-4165-be5e-47c378364cc4",
   "metadata": {},
   "outputs": [
    {
     "name": "stdout",
     "output_type": "stream",
     "text": [
      "Pretty Little Liars Pretty Little Liars 1\n",
      "Clockwork Princess The Infernal Devices 3\n",
      "From Dead to Worse Sookie Stackhouse 8\n",
      "The Secret The Secret 1\n",
      "Dead as a Doornail Sookie Stackhouse 5\n"
     ]
    }
   ],
   "source": [
    "def recommend2(book_name):\n",
    "    book_id=[]\n",
    "    index = new_book_df[new_book_df['title'] == book_name].index[0]\n",
    "    distances = sorted(list(enumerate(similarity[index])),reverse=True,key = lambda x: x[1])\n",
    "    for i in distances[1:6]:\n",
    "        print(new_book_df.iloc[i[0]].title)\n",
    "recommend2(\"Blue Bloods Blue Bloods 1\")"
   ]
  },
  {
   "cell_type": "code",
   "execution_count": 28,
   "id": "afcb0dc2-2f32-4891-93f2-72a6715a62d5",
   "metadata": {},
   "outputs": [
    {
     "name": "stdout",
     "output_type": "stream",
     "text": [
      "Doctor Sleep\n",
      "Harry Potter and the Cursed Child Parts One and Two Harry Potter 8\n",
      "A Child Called It Dave Pelzer 1\n",
      "The Nanny Diaries Nanny 1\n",
      "Angus Thongs and FullFrontal Snogging Confessions of Georgia Nicolson 1\n"
     ]
    }
   ],
   "source": [
    "recommend2(\"Sharp Objects\")"
   ]
  },
  {
   "cell_type": "code",
   "execution_count": 29,
   "id": "30594aec-78db-43ae-9f71-e37c0fa19330",
   "metadata": {},
   "outputs": [],
   "source": [
    "new_music=pd.read_csv(\"Music Info.csv\")"
   ]
  },
  {
   "cell_type": "code",
   "execution_count": 30,
   "id": "2267f654-5b73-4193-a91c-ef1fd9f1a6fa",
   "metadata": {},
   "outputs": [
    {
     "data": {
      "text/html": [
       "<div>\n",
       "<style scoped>\n",
       "    .dataframe tbody tr th:only-of-type {\n",
       "        vertical-align: middle;\n",
       "    }\n",
       "\n",
       "    .dataframe tbody tr th {\n",
       "        vertical-align: top;\n",
       "    }\n",
       "\n",
       "    .dataframe thead th {\n",
       "        text-align: right;\n",
       "    }\n",
       "</style>\n",
       "<table border=\"1\" class=\"dataframe\">\n",
       "  <thead>\n",
       "    <tr style=\"text-align: right;\">\n",
       "      <th></th>\n",
       "      <th>track_id</th>\n",
       "      <th>name</th>\n",
       "      <th>artist</th>\n",
       "      <th>spotify_preview_url</th>\n",
       "      <th>spotify_id</th>\n",
       "      <th>tags</th>\n",
       "      <th>genre</th>\n",
       "      <th>year</th>\n",
       "      <th>duration_ms</th>\n",
       "      <th>danceability</th>\n",
       "      <th>...</th>\n",
       "      <th>key</th>\n",
       "      <th>loudness</th>\n",
       "      <th>mode</th>\n",
       "      <th>speechiness</th>\n",
       "      <th>acousticness</th>\n",
       "      <th>instrumentalness</th>\n",
       "      <th>liveness</th>\n",
       "      <th>valence</th>\n",
       "      <th>tempo</th>\n",
       "      <th>time_signature</th>\n",
       "    </tr>\n",
       "  </thead>\n",
       "  <tbody>\n",
       "    <tr>\n",
       "      <th>0</th>\n",
       "      <td>TRIOREW128F424EAF0</td>\n",
       "      <td>Mr. Brightside</td>\n",
       "      <td>The Killers</td>\n",
       "      <td>https://p.scdn.co/mp3-preview/4d26180e6961fd46...</td>\n",
       "      <td>09ZQ5TmUG8TSL56n0knqrj</td>\n",
       "      <td>rock, alternative, indie, alternative_rock, in...</td>\n",
       "      <td>NaN</td>\n",
       "      <td>2004</td>\n",
       "      <td>222200</td>\n",
       "      <td>0.355</td>\n",
       "      <td>...</td>\n",
       "      <td>1</td>\n",
       "      <td>-4.360</td>\n",
       "      <td>1</td>\n",
       "      <td>0.0746</td>\n",
       "      <td>0.001190</td>\n",
       "      <td>0.000000</td>\n",
       "      <td>0.0971</td>\n",
       "      <td>0.240</td>\n",
       "      <td>148.114</td>\n",
       "      <td>4</td>\n",
       "    </tr>\n",
       "    <tr>\n",
       "      <th>1</th>\n",
       "      <td>TRRIVDJ128F429B0E8</td>\n",
       "      <td>Wonderwall</td>\n",
       "      <td>Oasis</td>\n",
       "      <td>https://p.scdn.co/mp3-preview/d012e536916c927b...</td>\n",
       "      <td>06UfBBDISthj1ZJAtX4xjj</td>\n",
       "      <td>rock, alternative, indie, pop, alternative_roc...</td>\n",
       "      <td>NaN</td>\n",
       "      <td>2006</td>\n",
       "      <td>258613</td>\n",
       "      <td>0.409</td>\n",
       "      <td>...</td>\n",
       "      <td>2</td>\n",
       "      <td>-4.373</td>\n",
       "      <td>1</td>\n",
       "      <td>0.0336</td>\n",
       "      <td>0.000807</td>\n",
       "      <td>0.000000</td>\n",
       "      <td>0.2070</td>\n",
       "      <td>0.651</td>\n",
       "      <td>174.426</td>\n",
       "      <td>4</td>\n",
       "    </tr>\n",
       "    <tr>\n",
       "      <th>2</th>\n",
       "      <td>TROUVHL128F426C441</td>\n",
       "      <td>Come as You Are</td>\n",
       "      <td>Nirvana</td>\n",
       "      <td>https://p.scdn.co/mp3-preview/a1c11bb1cb231031...</td>\n",
       "      <td>0keNu0t0tqsWtExGM3nT1D</td>\n",
       "      <td>rock, alternative, alternative_rock, 90s, grunge</td>\n",
       "      <td>RnB</td>\n",
       "      <td>1991</td>\n",
       "      <td>218920</td>\n",
       "      <td>0.508</td>\n",
       "      <td>...</td>\n",
       "      <td>4</td>\n",
       "      <td>-5.783</td>\n",
       "      <td>0</td>\n",
       "      <td>0.0400</td>\n",
       "      <td>0.000175</td>\n",
       "      <td>0.000459</td>\n",
       "      <td>0.0878</td>\n",
       "      <td>0.543</td>\n",
       "      <td>120.012</td>\n",
       "      <td>4</td>\n",
       "    </tr>\n",
       "    <tr>\n",
       "      <th>3</th>\n",
       "      <td>TRUEIND128F93038C4</td>\n",
       "      <td>Take Me Out</td>\n",
       "      <td>Franz Ferdinand</td>\n",
       "      <td>https://p.scdn.co/mp3-preview/399c401370438be4...</td>\n",
       "      <td>0ancVQ9wEcHVd0RrGICTE4</td>\n",
       "      <td>rock, alternative, indie, alternative_rock, in...</td>\n",
       "      <td>NaN</td>\n",
       "      <td>2004</td>\n",
       "      <td>237026</td>\n",
       "      <td>0.279</td>\n",
       "      <td>...</td>\n",
       "      <td>9</td>\n",
       "      <td>-8.851</td>\n",
       "      <td>1</td>\n",
       "      <td>0.0371</td>\n",
       "      <td>0.000389</td>\n",
       "      <td>0.000655</td>\n",
       "      <td>0.1330</td>\n",
       "      <td>0.490</td>\n",
       "      <td>104.560</td>\n",
       "      <td>4</td>\n",
       "    </tr>\n",
       "    <tr>\n",
       "      <th>4</th>\n",
       "      <td>TRLNZBD128F935E4D8</td>\n",
       "      <td>Creep</td>\n",
       "      <td>Radiohead</td>\n",
       "      <td>https://p.scdn.co/mp3-preview/e7eb60e9466bc3a2...</td>\n",
       "      <td>01QoK9DA7VTeTSE3MNzp4I</td>\n",
       "      <td>rock, alternative, indie, alternative_rock, in...</td>\n",
       "      <td>RnB</td>\n",
       "      <td>2008</td>\n",
       "      <td>238640</td>\n",
       "      <td>0.515</td>\n",
       "      <td>...</td>\n",
       "      <td>7</td>\n",
       "      <td>-9.935</td>\n",
       "      <td>1</td>\n",
       "      <td>0.0369</td>\n",
       "      <td>0.010200</td>\n",
       "      <td>0.000141</td>\n",
       "      <td>0.1290</td>\n",
       "      <td>0.104</td>\n",
       "      <td>91.841</td>\n",
       "      <td>4</td>\n",
       "    </tr>\n",
       "  </tbody>\n",
       "</table>\n",
       "<p>5 rows × 21 columns</p>\n",
       "</div>"
      ],
      "text/plain": [
       "             track_id             name           artist  \\\n",
       "0  TRIOREW128F424EAF0   Mr. Brightside      The Killers   \n",
       "1  TRRIVDJ128F429B0E8       Wonderwall            Oasis   \n",
       "2  TROUVHL128F426C441  Come as You Are          Nirvana   \n",
       "3  TRUEIND128F93038C4      Take Me Out  Franz Ferdinand   \n",
       "4  TRLNZBD128F935E4D8            Creep        Radiohead   \n",
       "\n",
       "                                 spotify_preview_url              spotify_id  \\\n",
       "0  https://p.scdn.co/mp3-preview/4d26180e6961fd46...  09ZQ5TmUG8TSL56n0knqrj   \n",
       "1  https://p.scdn.co/mp3-preview/d012e536916c927b...  06UfBBDISthj1ZJAtX4xjj   \n",
       "2  https://p.scdn.co/mp3-preview/a1c11bb1cb231031...  0keNu0t0tqsWtExGM3nT1D   \n",
       "3  https://p.scdn.co/mp3-preview/399c401370438be4...  0ancVQ9wEcHVd0RrGICTE4   \n",
       "4  https://p.scdn.co/mp3-preview/e7eb60e9466bc3a2...  01QoK9DA7VTeTSE3MNzp4I   \n",
       "\n",
       "                                                tags genre  year  duration_ms  \\\n",
       "0  rock, alternative, indie, alternative_rock, in...   NaN  2004       222200   \n",
       "1  rock, alternative, indie, pop, alternative_roc...   NaN  2006       258613   \n",
       "2   rock, alternative, alternative_rock, 90s, grunge   RnB  1991       218920   \n",
       "3  rock, alternative, indie, alternative_rock, in...   NaN  2004       237026   \n",
       "4  rock, alternative, indie, alternative_rock, in...   RnB  2008       238640   \n",
       "\n",
       "   danceability  ...  key  loudness  mode  speechiness  acousticness  \\\n",
       "0         0.355  ...    1    -4.360     1       0.0746      0.001190   \n",
       "1         0.409  ...    2    -4.373     1       0.0336      0.000807   \n",
       "2         0.508  ...    4    -5.783     0       0.0400      0.000175   \n",
       "3         0.279  ...    9    -8.851     1       0.0371      0.000389   \n",
       "4         0.515  ...    7    -9.935     1       0.0369      0.010200   \n",
       "\n",
       "   instrumentalness  liveness  valence    tempo  time_signature  \n",
       "0          0.000000    0.0971    0.240  148.114               4  \n",
       "1          0.000000    0.2070    0.651  174.426               4  \n",
       "2          0.000459    0.0878    0.543  120.012               4  \n",
       "3          0.000655    0.1330    0.490  104.560               4  \n",
       "4          0.000141    0.1290    0.104   91.841               4  \n",
       "\n",
       "[5 rows x 21 columns]"
      ]
     },
     "execution_count": 30,
     "metadata": {},
     "output_type": "execute_result"
    }
   ],
   "source": [
    "new_music.head()"
   ]
  },
  {
   "cell_type": "code",
   "execution_count": 31,
   "id": "307fb131-3d56-4bb1-add7-ac5190e04f90",
   "metadata": {},
   "outputs": [
    {
     "name": "stderr",
     "output_type": "stream",
     "text": [
      "C:\\Users\\TEJA\\AppData\\Local\\Temp\\ipykernel_3284\\991213037.py:1: FutureWarning: A value is trying to be set on a copy of a DataFrame or Series through chained assignment using an inplace method.\n",
      "The behavior will change in pandas 3.0. This inplace method will never work because the intermediate object on which we are setting values always behaves as a copy.\n",
      "\n",
      "For example, when doing 'df[col].method(value, inplace=True)', try using 'df.method({col: value}, inplace=True)' or df[col] = df[col].method(value) instead, to perform the operation inplace on the original object.\n",
      "\n",
      "\n",
      "  new_music[\"tags\"].fillna(method ='ffill', inplace = True)\n",
      "C:\\Users\\TEJA\\AppData\\Local\\Temp\\ipykernel_3284\\991213037.py:1: FutureWarning: Series.fillna with 'method' is deprecated and will raise in a future version. Use obj.ffill() or obj.bfill() instead.\n",
      "  new_music[\"tags\"].fillna(method ='ffill', inplace = True)\n"
     ]
    }
   ],
   "source": [
    "new_music[\"tags\"].fillna(method ='ffill', inplace = True)"
   ]
  },
  {
   "cell_type": "code",
   "execution_count": 32,
   "id": "79a342b7-6dac-466f-ada9-1da829626595",
   "metadata": {},
   "outputs": [],
   "source": [
    "new_music[\"tags\"]=new_music[\"tags\"].apply(lambda x:x.split(','))"
   ]
  },
  {
   "cell_type": "code",
   "execution_count": 33,
   "id": "334defb7-e4fa-406c-8976-118a22ff6434",
   "metadata": {},
   "outputs": [
    {
     "data": {
      "text/plain": [
       "0        [rock,  alternative,  indie,  alternative_rock...\n",
       "1        [rock,  alternative,  indie,  pop,  alternativ...\n",
       "2        [rock,  alternative,  alternative_rock,  90s, ...\n",
       "3        [rock,  alternative,  indie,  alternative_rock...\n",
       "4        [rock,  alternative,  indie,  alternative_rock...\n",
       "                               ...                        \n",
       "50678                       [alternative_rock,  punk_rock]\n",
       "50679         [rock,  alternative_rock,  japanese,  cover]\n",
       "50680                  [metal,  metalcore,  post_hardcore]\n",
       "50681                  [metal,  metalcore,  post_hardcore]\n",
       "50682                                    [rock,  japanese]\n",
       "Name: tags, Length: 50683, dtype: object"
      ]
     },
     "execution_count": 33,
     "metadata": {},
     "output_type": "execute_result"
    }
   ],
   "source": [
    "new_music[\"tags\"]"
   ]
  },
  {
   "cell_type": "code",
   "execution_count": 34,
   "id": "1849d193-aa6f-428a-a596-300c96a47523",
   "metadata": {},
   "outputs": [],
   "source": [
    "final_book=book_df[[\"book_id\",\"title\",\"genre\",\"description\"]]"
   ]
  },
  {
   "cell_type": "code",
   "execution_count": 35,
   "id": "d0c88713-e94b-45f1-a5b7-9dba4b64aa34",
   "metadata": {},
   "outputs": [
    {
     "name": "stderr",
     "output_type": "stream",
     "text": [
      "C:\\Users\\TEJA\\AppData\\Local\\Temp\\ipykernel_3284\\1379630675.py:1: SettingWithCopyWarning: \n",
      "A value is trying to be set on a copy of a slice from a DataFrame.\n",
      "Try using .loc[row_indexer,col_indexer] = value instead\n",
      "\n",
      "See the caveats in the documentation: https://pandas.pydata.org/pandas-docs/stable/user_guide/indexing.html#returning-a-view-versus-a-copy\n",
      "  final_book[\"genre\"]=final_book['genre'].apply(convert)\n"
     ]
    }
   ],
   "source": [
    "final_book[\"genre\"]=final_book['genre'].apply(convert)"
   ]
  },
  {
   "cell_type": "code",
   "execution_count": 36,
   "id": "1c67fdf6-9a4f-4a8e-83cf-a5b755d98786",
   "metadata": {},
   "outputs": [],
   "source": [
    "tag_table_books = [ token for idx, token in enumerate(set(itertools.chain.from_iterable(final_book[\"genre\"])))]\n",
    "tag_table_books = pd.DataFrame(tag_table_books)\n",
    "tag_table_books.columns = ['Tag']\n",
    "tag_table_books[\"Tag\"]=tag_table_books[\"Tag\"].apply(lambda x:x.lower())\n"
   ]
  },
  {
   "cell_type": "code",
   "execution_count": 37,
   "id": "5c3f2c3c-9936-434b-bdd3-a3eccdb1e176",
   "metadata": {},
   "outputs": [
    {
     "data": {
      "text/plain": [
       "array(['non-fiction', 'fantasy, paranormal',\n",
       "       'history, historical fiction, biography', 'poetry',\n",
       "       'comics, graphic', 'young-adult', 'fiction', 'romance',\n",
       "       'mystery, thriller, crime', 'children'], dtype=object)"
      ]
     },
     "execution_count": 37,
     "metadata": {},
     "output_type": "execute_result"
    }
   ],
   "source": [
    "tag_book = tag_table_books['Tag'].values.ravel()\n",
    "tag_book\n"
   ]
  },
  {
   "cell_type": "code",
   "execution_count": 38,
   "id": "d9be4fa6-6d6f-43df-87a6-9d18fc747856",
   "metadata": {},
   "outputs": [
    {
     "data": {
      "text/html": [
       "<div>\n",
       "<style scoped>\n",
       "    .dataframe tbody tr th:only-of-type {\n",
       "        vertical-align: middle;\n",
       "    }\n",
       "\n",
       "    .dataframe tbody tr th {\n",
       "        vertical-align: top;\n",
       "    }\n",
       "\n",
       "    .dataframe thead th {\n",
       "        text-align: right;\n",
       "    }\n",
       "</style>\n",
       "<table border=\"1\" class=\"dataframe\">\n",
       "  <thead>\n",
       "    <tr style=\"text-align: right;\">\n",
       "      <th></th>\n",
       "      <th>Tag</th>\n",
       "    </tr>\n",
       "  </thead>\n",
       "  <tbody>\n",
       "    <tr>\n",
       "      <th>0</th>\n",
       "      <td>non-fiction</td>\n",
       "    </tr>\n",
       "    <tr>\n",
       "      <th>1</th>\n",
       "      <td>fantasy, paranormal</td>\n",
       "    </tr>\n",
       "    <tr>\n",
       "      <th>2</th>\n",
       "      <td>history, historical fiction, biography</td>\n",
       "    </tr>\n",
       "    <tr>\n",
       "      <th>3</th>\n",
       "      <td>poetry</td>\n",
       "    </tr>\n",
       "    <tr>\n",
       "      <th>4</th>\n",
       "      <td>comics, graphic</td>\n",
       "    </tr>\n",
       "    <tr>\n",
       "      <th>5</th>\n",
       "      <td>young-adult</td>\n",
       "    </tr>\n",
       "    <tr>\n",
       "      <th>6</th>\n",
       "      <td>fiction</td>\n",
       "    </tr>\n",
       "    <tr>\n",
       "      <th>7</th>\n",
       "      <td>romance</td>\n",
       "    </tr>\n",
       "    <tr>\n",
       "      <th>8</th>\n",
       "      <td>mystery, thriller, crime</td>\n",
       "    </tr>\n",
       "    <tr>\n",
       "      <th>9</th>\n",
       "      <td>children</td>\n",
       "    </tr>\n",
       "  </tbody>\n",
       "</table>\n",
       "</div>"
      ],
      "text/plain": [
       "                                      Tag\n",
       "0                             non-fiction\n",
       "1                     fantasy, paranormal\n",
       "2  history, historical fiction, biography\n",
       "3                                  poetry\n",
       "4                         comics, graphic\n",
       "5                             young-adult\n",
       "6                                 fiction\n",
       "7                                 romance\n",
       "8                mystery, thriller, crime\n",
       "9                                children"
      ]
     },
     "execution_count": 38,
     "metadata": {},
     "output_type": "execute_result"
    }
   ],
   "source": [
    "tag_table_books"
   ]
  },
  {
   "cell_type": "code",
   "execution_count": 39,
   "id": "4c8b845a-44ea-49da-8b64-777644272b16",
   "metadata": {},
   "outputs": [
    {
     "data": {
      "text/plain": [
       "array([' piano', ' 80s', 'cover', ' japanese', 'love', 'psychedelic_rock',\n",
       "       'electro', ' swedish', ' polish', 'indie_rock', 'experimental',\n",
       "       'french', 'lounge', ' pop_rock', ' punk_rock', ' psychedelic',\n",
       "       ' ska', 'emo', ' techno', ' classic_rock', ' soundtrack', ' chill',\n",
       "       'british', ' country', '90s', ' trip_hop', 'alternative_rock',\n",
       "       ' new_wave', 'reggae', '00s', ' soul', 'grindcore', 'new_wave',\n",
       "       ' hardcore', ' metal', 'swedish', 'rock', ' metalcore', 'punk',\n",
       "       ' psychedelic_rock', ' doom_metal', ' experimental',\n",
       "       'classic_rock', ' nu_metal', ' oldies', ' love', 'instrumental',\n",
       "       ' progressive_metal', 'singer_songwriter', 'avant_garde',\n",
       "       ' post_punk', 'trip_hop', ' 90s', 'american', 'alternative',\n",
       "       'psychedelic', 'dance', 'mellow', 'post_rock', ' 70s', 'gothic',\n",
       "       ' classical', ' alternative', ' britpop', 'chillout', 'industrial',\n",
       "       ' instrumental', 'new_age', ' chillout', ' guitar',\n",
       "       ' drum_and_bass', ' melodic_death_metal', 'ambient', 'rnb',\n",
       "       'drum_and_bass', 'pop_rock', 'black_metal', 'post_hardcore',\n",
       "       ' grindcore', 'grunge', 'chill', 'blues', ' black_metal', ' folk',\n",
       "       ' gothic', ' grunge', 'progressive_metal', ' symphonic_metal',\n",
       "       'techno', ' punk', ' hard_rock', ' ambient', ' power_metal', '70s',\n",
       "       ' downtempo', ' death_metal', 'hardcore', ' screamo', '80s',\n",
       "       'polish', 'house', 'heavy_metal', 'beautiful', 'post_punk',\n",
       "       ' trance', ' jazz', 'acoustic', ' electro', ' singer_songwriter',\n",
       "       ' gothic_metal', 'trance', 'melodic_death_metal', ' dark_ambient',\n",
       "       ' funk', 'classical', ' avant_garde', 'female_vocalists',\n",
       "       ' acoustic', 'symphonic_metal', ' emo', ' new_age', ' indie_pop',\n",
       "       'metal', ' dance', 'jazz', ' pop', 'guitar', 'britpop',\n",
       "       'dark_ambient', ' mellow', ' industrial', ' heavy_metal',\n",
       "       ' british', ' male_vocalists', 'gothic_metal', ' house', 'funk',\n",
       "       ' 00s', ' post_rock', ' russian', 'blues_rock',\n",
       "       ' female_vocalists', ' american', 'nu_metal', ' progressive_rock',\n",
       "       'male_vocalists', ' reggae', ' j_pop', 'noise', 'hard_rock', '60s',\n",
       "       'ska', 'power_metal', ' 60s', ' post_hardcore', 'hip_hop', 'j_pop',\n",
       "       ' blues_rock', 'oldies', ' cover', 'synthpop', 'metalcore', 'idm',\n",
       "       ' french', 'screamo', ' blues', 'thrash_metal', 'downtempo',\n",
       "       'death_metal', 'soul', 'punk_rock', 'indie_pop', 'german',\n",
       "       ' hip_hop', 'pop', 'soundtrack', ' beautiful', ' electronic',\n",
       "       ' thrash_metal', 'indie', ' idm', ' noise', 'japanese', ' german',\n",
       "       'rap', 'progressive_rock', ' indie_rock', 'russian', 'country',\n",
       "       ' indie', 'piano', 'electronic', 'folk', ' rnb', ' rap',\n",
       "       ' alternative_rock', ' lounge', 'doom_metal', ' synthpop'],\n",
       "      dtype=object)"
      ]
     },
     "execution_count": 39,
     "metadata": {},
     "output_type": "execute_result"
    }
   ],
   "source": [
    "music_tags=new_music[\"tags\"]\n",
    "tag_table_new_music = [ token for idx, token in enumerate(set(itertools.chain.from_iterable(music_tags)))]\n",
    "tag_table_new_music = pd.DataFrame(tag_table_new_music)\n",
    "tag_table_new_music.columns = ['Tag']\n",
    "\n",
    "tag_new_music = tag_table_new_music.values.ravel()\n",
    "tag_new_music"
   ]
  },
  {
   "cell_type": "code",
   "execution_count": 40,
   "id": "e97b700d-6359-452d-8f34-b80ff3ee1fbc",
   "metadata": {},
   "outputs": [],
   "source": [
    "import nltk\n",
    "from nltk.corpus import wordnet as wn"
   ]
  },
  {
   "cell_type": "code",
   "execution_count": 41,
   "id": "a82934a8-9216-4203-bf71-5b453e514be9",
   "metadata": {},
   "outputs": [
    {
     "ename": "LookupError",
     "evalue": "\n**********************************************************************\n  Resource \u001b[93momw-1.4\u001b[0m not found.\n  Please use the NLTK Downloader to obtain the resource:\n\n  \u001b[31m>>> import nltk\n  >>> nltk.download('omw-1.4')\n  \u001b[0m\n  For more information see: https://www.nltk.org/data.html\n\n  Attempted to load \u001b[93mcorpora/omw-1.4\u001b[0m\n\n  Searched in:\n    - 'C:\\\\Users\\\\TEJA/nltk_data'\n    - 'C:\\\\Users\\\\TEJA\\\\anaconda3\\\\nltk_data'\n    - 'C:\\\\Users\\\\TEJA\\\\anaconda3\\\\share\\\\nltk_data'\n    - 'C:\\\\Users\\\\TEJA\\\\anaconda3\\\\lib\\\\nltk_data'\n    - 'C:\\\\Users\\\\TEJA\\\\AppData\\\\Roaming\\\\nltk_data'\n    - 'C:\\\\nltk_data'\n    - 'D:\\\\nltk_data'\n    - 'E:\\\\nltk_data'\n**********************************************************************\n",
     "output_type": "error",
     "traceback": [
      "\u001b[1;31m---------------------------------------------------------------------------\u001b[0m",
      "\u001b[1;31mLookupError\u001b[0m                               Traceback (most recent call last)",
      "File \u001b[1;32m~\\anaconda3\\lib\\site-packages\\nltk\\corpus\\util.py:84\u001b[0m, in \u001b[0;36mLazyCorpusLoader.__load\u001b[1;34m(self)\u001b[0m\n\u001b[0;32m     83\u001b[0m \u001b[38;5;28;01mtry\u001b[39;00m:\n\u001b[1;32m---> 84\u001b[0m     root \u001b[38;5;241m=\u001b[39m \u001b[43mnltk\u001b[49m\u001b[38;5;241;43m.\u001b[39;49m\u001b[43mdata\u001b[49m\u001b[38;5;241;43m.\u001b[39;49m\u001b[43mfind\u001b[49m\u001b[43m(\u001b[49m\u001b[38;5;124;43mf\u001b[39;49m\u001b[38;5;124;43m\"\u001b[39;49m\u001b[38;5;132;43;01m{\u001b[39;49;00m\u001b[38;5;28;43mself\u001b[39;49m\u001b[38;5;241;43m.\u001b[39;49m\u001b[43msubdir\u001b[49m\u001b[38;5;132;43;01m}\u001b[39;49;00m\u001b[38;5;124;43m/\u001b[39;49m\u001b[38;5;132;43;01m{\u001b[39;49;00m\u001b[43mzip_name\u001b[49m\u001b[38;5;132;43;01m}\u001b[39;49;00m\u001b[38;5;124;43m\"\u001b[39;49m\u001b[43m)\u001b[49m\n\u001b[0;32m     85\u001b[0m \u001b[38;5;28;01mexcept\u001b[39;00m \u001b[38;5;167;01mLookupError\u001b[39;00m:\n",
      "File \u001b[1;32m~\\anaconda3\\lib\\site-packages\\nltk\\data.py:583\u001b[0m, in \u001b[0;36mfind\u001b[1;34m(resource_name, paths)\u001b[0m\n\u001b[0;32m    582\u001b[0m resource_not_found \u001b[38;5;241m=\u001b[39m \u001b[38;5;124mf\u001b[39m\u001b[38;5;124m\"\u001b[39m\u001b[38;5;130;01m\\n\u001b[39;00m\u001b[38;5;132;01m{\u001b[39;00msep\u001b[38;5;132;01m}\u001b[39;00m\u001b[38;5;130;01m\\n\u001b[39;00m\u001b[38;5;132;01m{\u001b[39;00mmsg\u001b[38;5;132;01m}\u001b[39;00m\u001b[38;5;130;01m\\n\u001b[39;00m\u001b[38;5;132;01m{\u001b[39;00msep\u001b[38;5;132;01m}\u001b[39;00m\u001b[38;5;130;01m\\n\u001b[39;00m\u001b[38;5;124m\"\u001b[39m\n\u001b[1;32m--> 583\u001b[0m \u001b[38;5;28;01mraise\u001b[39;00m \u001b[38;5;167;01mLookupError\u001b[39;00m(resource_not_found)\n",
      "\u001b[1;31mLookupError\u001b[0m: \n**********************************************************************\n  Resource \u001b[93momw-1.4\u001b[0m not found.\n  Please use the NLTK Downloader to obtain the resource:\n\n  \u001b[31m>>> import nltk\n  >>> nltk.download('omw-1.4')\n  \u001b[0m\n  For more information see: https://www.nltk.org/data.html\n\n  Attempted to load \u001b[93mcorpora/omw-1.4.zip/omw-1.4/\u001b[0m\n\n  Searched in:\n    - 'C:\\\\Users\\\\TEJA/nltk_data'\n    - 'C:\\\\Users\\\\TEJA\\\\anaconda3\\\\nltk_data'\n    - 'C:\\\\Users\\\\TEJA\\\\anaconda3\\\\share\\\\nltk_data'\n    - 'C:\\\\Users\\\\TEJA\\\\anaconda3\\\\lib\\\\nltk_data'\n    - 'C:\\\\Users\\\\TEJA\\\\AppData\\\\Roaming\\\\nltk_data'\n    - 'C:\\\\nltk_data'\n    - 'D:\\\\nltk_data'\n    - 'E:\\\\nltk_data'\n**********************************************************************\n",
      "\nDuring handling of the above exception, another exception occurred:\n",
      "\u001b[1;31mLookupError\u001b[0m                               Traceback (most recent call last)",
      "Cell \u001b[1;32mIn[41], line 55\u001b[0m\n\u001b[0;32m     52\u001b[0m                 max_idx \u001b[38;5;241m=\u001b[39m y\u001b[38;5;241m.\u001b[39margmax()\n\u001b[0;32m     53\u001b[0m                 \u001b[38;5;28;01mreturn\u001b[39;00m tag_book[max_idx]\n\u001b[1;32m---> 55\u001b[0m tag_table_new_music[\u001b[38;5;124m'\u001b[39m\u001b[38;5;124mrelation\u001b[39m\u001b[38;5;124m'\u001b[39m] \u001b[38;5;241m=\u001b[39m \u001b[43mtag_table_new_music\u001b[49m\u001b[43m[\u001b[49m\u001b[38;5;124;43m'\u001b[39;49m\u001b[38;5;124;43mTag\u001b[39;49m\u001b[38;5;124;43m'\u001b[39;49m\u001b[43m]\u001b[49m\u001b[38;5;241;43m.\u001b[39;49m\u001b[43mapply\u001b[49m\u001b[43m(\u001b[49m\u001b[43mfind_relation\u001b[49m\u001b[43m)\u001b[49m\n",
      "File \u001b[1;32m~\\anaconda3\\lib\\site-packages\\pandas\\core\\series.py:4924\u001b[0m, in \u001b[0;36mSeries.apply\u001b[1;34m(self, func, convert_dtype, args, by_row, **kwargs)\u001b[0m\n\u001b[0;32m   4789\u001b[0m \u001b[38;5;28;01mdef\u001b[39;00m \u001b[38;5;21mapply\u001b[39m(\n\u001b[0;32m   4790\u001b[0m     \u001b[38;5;28mself\u001b[39m,\n\u001b[0;32m   4791\u001b[0m     func: AggFuncType,\n\u001b[1;32m   (...)\u001b[0m\n\u001b[0;32m   4796\u001b[0m     \u001b[38;5;241m*\u001b[39m\u001b[38;5;241m*\u001b[39mkwargs,\n\u001b[0;32m   4797\u001b[0m ) \u001b[38;5;241m-\u001b[39m\u001b[38;5;241m>\u001b[39m DataFrame \u001b[38;5;241m|\u001b[39m Series:\n\u001b[0;32m   4798\u001b[0m     \u001b[38;5;124;03m\"\"\"\u001b[39;00m\n\u001b[0;32m   4799\u001b[0m \u001b[38;5;124;03m    Invoke function on values of Series.\u001b[39;00m\n\u001b[0;32m   4800\u001b[0m \n\u001b[1;32m   (...)\u001b[0m\n\u001b[0;32m   4915\u001b[0m \u001b[38;5;124;03m    dtype: float64\u001b[39;00m\n\u001b[0;32m   4916\u001b[0m \u001b[38;5;124;03m    \"\"\"\u001b[39;00m\n\u001b[0;32m   4917\u001b[0m     \u001b[38;5;28;01mreturn\u001b[39;00m \u001b[43mSeriesApply\u001b[49m\u001b[43m(\u001b[49m\n\u001b[0;32m   4918\u001b[0m \u001b[43m        \u001b[49m\u001b[38;5;28;43mself\u001b[39;49m\u001b[43m,\u001b[49m\n\u001b[0;32m   4919\u001b[0m \u001b[43m        \u001b[49m\u001b[43mfunc\u001b[49m\u001b[43m,\u001b[49m\n\u001b[0;32m   4920\u001b[0m \u001b[43m        \u001b[49m\u001b[43mconvert_dtype\u001b[49m\u001b[38;5;241;43m=\u001b[39;49m\u001b[43mconvert_dtype\u001b[49m\u001b[43m,\u001b[49m\n\u001b[0;32m   4921\u001b[0m \u001b[43m        \u001b[49m\u001b[43mby_row\u001b[49m\u001b[38;5;241;43m=\u001b[39;49m\u001b[43mby_row\u001b[49m\u001b[43m,\u001b[49m\n\u001b[0;32m   4922\u001b[0m \u001b[43m        \u001b[49m\u001b[43margs\u001b[49m\u001b[38;5;241;43m=\u001b[39;49m\u001b[43margs\u001b[49m\u001b[43m,\u001b[49m\n\u001b[0;32m   4923\u001b[0m \u001b[43m        \u001b[49m\u001b[43mkwargs\u001b[49m\u001b[38;5;241;43m=\u001b[39;49m\u001b[43mkwargs\u001b[49m\u001b[43m,\u001b[49m\n\u001b[1;32m-> 4924\u001b[0m \u001b[43m    \u001b[49m\u001b[43m)\u001b[49m\u001b[38;5;241;43m.\u001b[39;49m\u001b[43mapply\u001b[49m\u001b[43m(\u001b[49m\u001b[43m)\u001b[49m\n",
      "File \u001b[1;32m~\\anaconda3\\lib\\site-packages\\pandas\\core\\apply.py:1427\u001b[0m, in \u001b[0;36mSeriesApply.apply\u001b[1;34m(self)\u001b[0m\n\u001b[0;32m   1424\u001b[0m     \u001b[38;5;28;01mreturn\u001b[39;00m \u001b[38;5;28mself\u001b[39m\u001b[38;5;241m.\u001b[39mapply_compat()\n\u001b[0;32m   1426\u001b[0m \u001b[38;5;66;03m# self.func is Callable\u001b[39;00m\n\u001b[1;32m-> 1427\u001b[0m \u001b[38;5;28;01mreturn\u001b[39;00m \u001b[38;5;28;43mself\u001b[39;49m\u001b[38;5;241;43m.\u001b[39;49m\u001b[43mapply_standard\u001b[49m\u001b[43m(\u001b[49m\u001b[43m)\u001b[49m\n",
      "File \u001b[1;32m~\\anaconda3\\lib\\site-packages\\pandas\\core\\apply.py:1507\u001b[0m, in \u001b[0;36mSeriesApply.apply_standard\u001b[1;34m(self)\u001b[0m\n\u001b[0;32m   1501\u001b[0m \u001b[38;5;66;03m# row-wise access\u001b[39;00m\n\u001b[0;32m   1502\u001b[0m \u001b[38;5;66;03m# apply doesn't have a `na_action` keyword and for backward compat reasons\u001b[39;00m\n\u001b[0;32m   1503\u001b[0m \u001b[38;5;66;03m# we need to give `na_action=\"ignore\"` for categorical data.\u001b[39;00m\n\u001b[0;32m   1504\u001b[0m \u001b[38;5;66;03m# TODO: remove the `na_action=\"ignore\"` when that default has been changed in\u001b[39;00m\n\u001b[0;32m   1505\u001b[0m \u001b[38;5;66;03m#  Categorical (GH51645).\u001b[39;00m\n\u001b[0;32m   1506\u001b[0m action \u001b[38;5;241m=\u001b[39m \u001b[38;5;124m\"\u001b[39m\u001b[38;5;124mignore\u001b[39m\u001b[38;5;124m\"\u001b[39m \u001b[38;5;28;01mif\u001b[39;00m \u001b[38;5;28misinstance\u001b[39m(obj\u001b[38;5;241m.\u001b[39mdtype, CategoricalDtype) \u001b[38;5;28;01melse\u001b[39;00m \u001b[38;5;28;01mNone\u001b[39;00m\n\u001b[1;32m-> 1507\u001b[0m mapped \u001b[38;5;241m=\u001b[39m \u001b[43mobj\u001b[49m\u001b[38;5;241;43m.\u001b[39;49m\u001b[43m_map_values\u001b[49m\u001b[43m(\u001b[49m\n\u001b[0;32m   1508\u001b[0m \u001b[43m    \u001b[49m\u001b[43mmapper\u001b[49m\u001b[38;5;241;43m=\u001b[39;49m\u001b[43mcurried\u001b[49m\u001b[43m,\u001b[49m\u001b[43m \u001b[49m\u001b[43mna_action\u001b[49m\u001b[38;5;241;43m=\u001b[39;49m\u001b[43maction\u001b[49m\u001b[43m,\u001b[49m\u001b[43m \u001b[49m\u001b[43mconvert\u001b[49m\u001b[38;5;241;43m=\u001b[39;49m\u001b[38;5;28;43mself\u001b[39;49m\u001b[38;5;241;43m.\u001b[39;49m\u001b[43mconvert_dtype\u001b[49m\n\u001b[0;32m   1509\u001b[0m \u001b[43m\u001b[49m\u001b[43m)\u001b[49m\n\u001b[0;32m   1511\u001b[0m \u001b[38;5;28;01mif\u001b[39;00m \u001b[38;5;28mlen\u001b[39m(mapped) \u001b[38;5;129;01mand\u001b[39;00m \u001b[38;5;28misinstance\u001b[39m(mapped[\u001b[38;5;241m0\u001b[39m], ABCSeries):\n\u001b[0;32m   1512\u001b[0m     \u001b[38;5;66;03m# GH#43986 Need to do list(mapped) in order to get treated as nested\u001b[39;00m\n\u001b[0;32m   1513\u001b[0m     \u001b[38;5;66;03m#  See also GH#25959 regarding EA support\u001b[39;00m\n\u001b[0;32m   1514\u001b[0m     \u001b[38;5;28;01mreturn\u001b[39;00m obj\u001b[38;5;241m.\u001b[39m_constructor_expanddim(\u001b[38;5;28mlist\u001b[39m(mapped), index\u001b[38;5;241m=\u001b[39mobj\u001b[38;5;241m.\u001b[39mindex)\n",
      "File \u001b[1;32m~\\anaconda3\\lib\\site-packages\\pandas\\core\\base.py:921\u001b[0m, in \u001b[0;36mIndexOpsMixin._map_values\u001b[1;34m(self, mapper, na_action, convert)\u001b[0m\n\u001b[0;32m    918\u001b[0m \u001b[38;5;28;01mif\u001b[39;00m \u001b[38;5;28misinstance\u001b[39m(arr, ExtensionArray):\n\u001b[0;32m    919\u001b[0m     \u001b[38;5;28;01mreturn\u001b[39;00m arr\u001b[38;5;241m.\u001b[39mmap(mapper, na_action\u001b[38;5;241m=\u001b[39mna_action)\n\u001b[1;32m--> 921\u001b[0m \u001b[38;5;28;01mreturn\u001b[39;00m \u001b[43malgorithms\u001b[49m\u001b[38;5;241;43m.\u001b[39;49m\u001b[43mmap_array\u001b[49m\u001b[43m(\u001b[49m\u001b[43marr\u001b[49m\u001b[43m,\u001b[49m\u001b[43m \u001b[49m\u001b[43mmapper\u001b[49m\u001b[43m,\u001b[49m\u001b[43m \u001b[49m\u001b[43mna_action\u001b[49m\u001b[38;5;241;43m=\u001b[39;49m\u001b[43mna_action\u001b[49m\u001b[43m,\u001b[49m\u001b[43m \u001b[49m\u001b[43mconvert\u001b[49m\u001b[38;5;241;43m=\u001b[39;49m\u001b[43mconvert\u001b[49m\u001b[43m)\u001b[49m\n",
      "File \u001b[1;32m~\\anaconda3\\lib\\site-packages\\pandas\\core\\algorithms.py:1743\u001b[0m, in \u001b[0;36mmap_array\u001b[1;34m(arr, mapper, na_action, convert)\u001b[0m\n\u001b[0;32m   1741\u001b[0m values \u001b[38;5;241m=\u001b[39m arr\u001b[38;5;241m.\u001b[39mastype(\u001b[38;5;28mobject\u001b[39m, copy\u001b[38;5;241m=\u001b[39m\u001b[38;5;28;01mFalse\u001b[39;00m)\n\u001b[0;32m   1742\u001b[0m \u001b[38;5;28;01mif\u001b[39;00m na_action \u001b[38;5;129;01mis\u001b[39;00m \u001b[38;5;28;01mNone\u001b[39;00m:\n\u001b[1;32m-> 1743\u001b[0m     \u001b[38;5;28;01mreturn\u001b[39;00m \u001b[43mlib\u001b[49m\u001b[38;5;241;43m.\u001b[39;49m\u001b[43mmap_infer\u001b[49m\u001b[43m(\u001b[49m\u001b[43mvalues\u001b[49m\u001b[43m,\u001b[49m\u001b[43m \u001b[49m\u001b[43mmapper\u001b[49m\u001b[43m,\u001b[49m\u001b[43m \u001b[49m\u001b[43mconvert\u001b[49m\u001b[38;5;241;43m=\u001b[39;49m\u001b[43mconvert\u001b[49m\u001b[43m)\u001b[49m\n\u001b[0;32m   1744\u001b[0m \u001b[38;5;28;01melse\u001b[39;00m:\n\u001b[0;32m   1745\u001b[0m     \u001b[38;5;28;01mreturn\u001b[39;00m lib\u001b[38;5;241m.\u001b[39mmap_infer_mask(\n\u001b[0;32m   1746\u001b[0m         values, mapper, mask\u001b[38;5;241m=\u001b[39misna(values)\u001b[38;5;241m.\u001b[39mview(np\u001b[38;5;241m.\u001b[39muint8), convert\u001b[38;5;241m=\u001b[39mconvert\n\u001b[0;32m   1747\u001b[0m     )\n",
      "File \u001b[1;32mlib.pyx:2972\u001b[0m, in \u001b[0;36mpandas._libs.lib.map_infer\u001b[1;34m()\u001b[0m\n",
      "Cell \u001b[1;32mIn[41], line 6\u001b[0m, in \u001b[0;36mfind_relation\u001b[1;34m(str)\u001b[0m\n\u001b[0;32m      4\u001b[0m \u001b[38;5;28mstr\u001b[39m \u001b[38;5;241m=\u001b[39m \u001b[38;5;28mstr\u001b[39m\u001b[38;5;241m.\u001b[39mreplace(\u001b[38;5;124m'\u001b[39m\u001b[38;5;124m-\u001b[39m\u001b[38;5;124m'\u001b[39m, \u001b[38;5;124m'\u001b[39m\u001b[38;5;124m \u001b[39m\u001b[38;5;124m'\u001b[39m)\n\u001b[0;32m      5\u001b[0m \u001b[38;5;28;01mif\u001b[39;00m(\u001b[38;5;28mlen\u001b[39m(\u001b[38;5;28mstr\u001b[39m\u001b[38;5;241m.\u001b[39msplit())\u001b[38;5;241m==\u001b[39m\u001b[38;5;241m1\u001b[39m):\n\u001b[1;32m----> 6\u001b[0m     a \u001b[38;5;241m=\u001b[39m \u001b[43mwn\u001b[49m\u001b[38;5;241;43m.\u001b[39;49m\u001b[43msynsets\u001b[49m(\u001b[38;5;28mstr\u001b[39m)\n\u001b[0;32m      7\u001b[0m     \u001b[38;5;28;01mif\u001b[39;00m \u001b[38;5;28mlen\u001b[39m(a) \u001b[38;5;241m==\u001b[39m \u001b[38;5;241m0\u001b[39m:\n\u001b[0;32m      8\u001b[0m         \u001b[38;5;28;01mreturn\u001b[39;00m \u001b[38;5;124m'\u001b[39m\u001b[38;5;124mNull\u001b[39m\u001b[38;5;124m'\u001b[39m\n",
      "File \u001b[1;32m~\\anaconda3\\lib\\site-packages\\nltk\\corpus\\util.py:121\u001b[0m, in \u001b[0;36mLazyCorpusLoader.__getattr__\u001b[1;34m(self, attr)\u001b[0m\n\u001b[0;32m    118\u001b[0m \u001b[38;5;28;01mif\u001b[39;00m attr \u001b[38;5;241m==\u001b[39m \u001b[38;5;124m\"\u001b[39m\u001b[38;5;124m__bases__\u001b[39m\u001b[38;5;124m\"\u001b[39m:\n\u001b[0;32m    119\u001b[0m     \u001b[38;5;28;01mraise\u001b[39;00m \u001b[38;5;167;01mAttributeError\u001b[39;00m(\u001b[38;5;124m\"\u001b[39m\u001b[38;5;124mLazyCorpusLoader object has no attribute \u001b[39m\u001b[38;5;124m'\u001b[39m\u001b[38;5;124m__bases__\u001b[39m\u001b[38;5;124m'\u001b[39m\u001b[38;5;124m\"\u001b[39m)\n\u001b[1;32m--> 121\u001b[0m \u001b[38;5;28;43mself\u001b[39;49m\u001b[38;5;241;43m.\u001b[39;49m\u001b[43m__load\u001b[49m\u001b[43m(\u001b[49m\u001b[43m)\u001b[49m\n\u001b[0;32m    122\u001b[0m \u001b[38;5;66;03m# This looks circular, but its not, since __load() changes our\u001b[39;00m\n\u001b[0;32m    123\u001b[0m \u001b[38;5;66;03m# __class__ to something new:\u001b[39;00m\n\u001b[0;32m    124\u001b[0m \u001b[38;5;28;01mreturn\u001b[39;00m \u001b[38;5;28mgetattr\u001b[39m(\u001b[38;5;28mself\u001b[39m, attr)\n",
      "File \u001b[1;32m~\\anaconda3\\lib\\site-packages\\nltk\\corpus\\util.py:89\u001b[0m, in \u001b[0;36mLazyCorpusLoader.__load\u001b[1;34m(self)\u001b[0m\n\u001b[0;32m     86\u001b[0m             \u001b[38;5;28;01mraise\u001b[39;00m e\n\u001b[0;32m     88\u001b[0m \u001b[38;5;66;03m# Load the corpus.\u001b[39;00m\n\u001b[1;32m---> 89\u001b[0m corpus \u001b[38;5;241m=\u001b[39m \u001b[38;5;28mself\u001b[39m\u001b[38;5;241m.\u001b[39m__reader_cls(root, \u001b[38;5;241m*\u001b[39m\u001b[38;5;28mself\u001b[39m\u001b[38;5;241m.\u001b[39m__args, \u001b[38;5;241m*\u001b[39m\u001b[38;5;241m*\u001b[39m\u001b[38;5;28mself\u001b[39m\u001b[38;5;241m.\u001b[39m__kwargs)\n\u001b[0;32m     91\u001b[0m \u001b[38;5;66;03m# This is where the magic happens!  Transform ourselves into\u001b[39;00m\n\u001b[0;32m     92\u001b[0m \u001b[38;5;66;03m# the corpus by modifying our own __dict__ and __class__ to\u001b[39;00m\n\u001b[0;32m     93\u001b[0m \u001b[38;5;66;03m# match that of the corpus.\u001b[39;00m\n\u001b[0;32m     95\u001b[0m args, kwargs \u001b[38;5;241m=\u001b[39m \u001b[38;5;28mself\u001b[39m\u001b[38;5;241m.\u001b[39m__args, \u001b[38;5;28mself\u001b[39m\u001b[38;5;241m.\u001b[39m__kwargs\n",
      "File \u001b[1;32m~\\anaconda3\\lib\\site-packages\\nltk\\corpus\\reader\\wordnet.py:1176\u001b[0m, in \u001b[0;36mWordNetCorpusReader.__init__\u001b[1;34m(self, root, omw_reader)\u001b[0m\n\u001b[0;32m   1172\u001b[0m     warnings\u001b[38;5;241m.\u001b[39mwarn(\n\u001b[0;32m   1173\u001b[0m         \u001b[38;5;124m\"\u001b[39m\u001b[38;5;124mThe multilingual functions are not available with this Wordnet version\u001b[39m\u001b[38;5;124m\"\u001b[39m\n\u001b[0;32m   1174\u001b[0m     )\n\u001b[0;32m   1175\u001b[0m \u001b[38;5;28;01melse\u001b[39;00m:\n\u001b[1;32m-> 1176\u001b[0m     \u001b[38;5;28mself\u001b[39m\u001b[38;5;241m.\u001b[39mprovenances \u001b[38;5;241m=\u001b[39m \u001b[38;5;28;43mself\u001b[39;49m\u001b[38;5;241;43m.\u001b[39;49m\u001b[43momw_prov\u001b[49m\u001b[43m(\u001b[49m\u001b[43m)\u001b[49m\n\u001b[0;32m   1178\u001b[0m \u001b[38;5;66;03m# A cache to store the wordnet data of multiple languages\u001b[39;00m\n\u001b[0;32m   1179\u001b[0m \u001b[38;5;28mself\u001b[39m\u001b[38;5;241m.\u001b[39m_lang_data \u001b[38;5;241m=\u001b[39m defaultdict(\u001b[38;5;28mlist\u001b[39m)\n",
      "File \u001b[1;32m~\\anaconda3\\lib\\site-packages\\nltk\\corpus\\reader\\wordnet.py:1285\u001b[0m, in \u001b[0;36mWordNetCorpusReader.omw_prov\u001b[1;34m(self)\u001b[0m\n\u001b[0;32m   1283\u001b[0m provdict \u001b[38;5;241m=\u001b[39m {}\n\u001b[0;32m   1284\u001b[0m provdict[\u001b[38;5;124m\"\u001b[39m\u001b[38;5;124meng\u001b[39m\u001b[38;5;124m\"\u001b[39m] \u001b[38;5;241m=\u001b[39m \u001b[38;5;124m\"\u001b[39m\u001b[38;5;124m\"\u001b[39m\n\u001b[1;32m-> 1285\u001b[0m fileids \u001b[38;5;241m=\u001b[39m \u001b[38;5;28;43mself\u001b[39;49m\u001b[38;5;241;43m.\u001b[39;49m\u001b[43m_omw_reader\u001b[49m\u001b[38;5;241;43m.\u001b[39;49m\u001b[43mfileids\u001b[49m()\n\u001b[0;32m   1286\u001b[0m \u001b[38;5;28;01mfor\u001b[39;00m fileid \u001b[38;5;129;01min\u001b[39;00m fileids:\n\u001b[0;32m   1287\u001b[0m     prov, langfile \u001b[38;5;241m=\u001b[39m os\u001b[38;5;241m.\u001b[39mpath\u001b[38;5;241m.\u001b[39msplit(fileid)\n",
      "File \u001b[1;32m~\\anaconda3\\lib\\site-packages\\nltk\\corpus\\util.py:121\u001b[0m, in \u001b[0;36mLazyCorpusLoader.__getattr__\u001b[1;34m(self, attr)\u001b[0m\n\u001b[0;32m    118\u001b[0m \u001b[38;5;28;01mif\u001b[39;00m attr \u001b[38;5;241m==\u001b[39m \u001b[38;5;124m\"\u001b[39m\u001b[38;5;124m__bases__\u001b[39m\u001b[38;5;124m\"\u001b[39m:\n\u001b[0;32m    119\u001b[0m     \u001b[38;5;28;01mraise\u001b[39;00m \u001b[38;5;167;01mAttributeError\u001b[39;00m(\u001b[38;5;124m\"\u001b[39m\u001b[38;5;124mLazyCorpusLoader object has no attribute \u001b[39m\u001b[38;5;124m'\u001b[39m\u001b[38;5;124m__bases__\u001b[39m\u001b[38;5;124m'\u001b[39m\u001b[38;5;124m\"\u001b[39m)\n\u001b[1;32m--> 121\u001b[0m \u001b[38;5;28;43mself\u001b[39;49m\u001b[38;5;241;43m.\u001b[39;49m\u001b[43m__load\u001b[49m\u001b[43m(\u001b[49m\u001b[43m)\u001b[49m\n\u001b[0;32m    122\u001b[0m \u001b[38;5;66;03m# This looks circular, but its not, since __load() changes our\u001b[39;00m\n\u001b[0;32m    123\u001b[0m \u001b[38;5;66;03m# __class__ to something new:\u001b[39;00m\n\u001b[0;32m    124\u001b[0m \u001b[38;5;28;01mreturn\u001b[39;00m \u001b[38;5;28mgetattr\u001b[39m(\u001b[38;5;28mself\u001b[39m, attr)\n",
      "File \u001b[1;32m~\\anaconda3\\lib\\site-packages\\nltk\\corpus\\util.py:86\u001b[0m, in \u001b[0;36mLazyCorpusLoader.__load\u001b[1;34m(self)\u001b[0m\n\u001b[0;32m     84\u001b[0m             root \u001b[38;5;241m=\u001b[39m nltk\u001b[38;5;241m.\u001b[39mdata\u001b[38;5;241m.\u001b[39mfind(\u001b[38;5;124mf\u001b[39m\u001b[38;5;124m\"\u001b[39m\u001b[38;5;132;01m{\u001b[39;00m\u001b[38;5;28mself\u001b[39m\u001b[38;5;241m.\u001b[39msubdir\u001b[38;5;132;01m}\u001b[39;00m\u001b[38;5;124m/\u001b[39m\u001b[38;5;132;01m{\u001b[39;00mzip_name\u001b[38;5;132;01m}\u001b[39;00m\u001b[38;5;124m\"\u001b[39m)\n\u001b[0;32m     85\u001b[0m         \u001b[38;5;28;01mexcept\u001b[39;00m \u001b[38;5;167;01mLookupError\u001b[39;00m:\n\u001b[1;32m---> 86\u001b[0m             \u001b[38;5;28;01mraise\u001b[39;00m e\n\u001b[0;32m     88\u001b[0m \u001b[38;5;66;03m# Load the corpus.\u001b[39;00m\n\u001b[0;32m     89\u001b[0m corpus \u001b[38;5;241m=\u001b[39m \u001b[38;5;28mself\u001b[39m\u001b[38;5;241m.\u001b[39m__reader_cls(root, \u001b[38;5;241m*\u001b[39m\u001b[38;5;28mself\u001b[39m\u001b[38;5;241m.\u001b[39m__args, \u001b[38;5;241m*\u001b[39m\u001b[38;5;241m*\u001b[39m\u001b[38;5;28mself\u001b[39m\u001b[38;5;241m.\u001b[39m__kwargs)\n",
      "File \u001b[1;32m~\\anaconda3\\lib\\site-packages\\nltk\\corpus\\util.py:81\u001b[0m, in \u001b[0;36mLazyCorpusLoader.__load\u001b[1;34m(self)\u001b[0m\n\u001b[0;32m     79\u001b[0m \u001b[38;5;28;01melse\u001b[39;00m:\n\u001b[0;32m     80\u001b[0m     \u001b[38;5;28;01mtry\u001b[39;00m:\n\u001b[1;32m---> 81\u001b[0m         root \u001b[38;5;241m=\u001b[39m \u001b[43mnltk\u001b[49m\u001b[38;5;241;43m.\u001b[39;49m\u001b[43mdata\u001b[49m\u001b[38;5;241;43m.\u001b[39;49m\u001b[43mfind\u001b[49m\u001b[43m(\u001b[49m\u001b[38;5;124;43mf\u001b[39;49m\u001b[38;5;124;43m\"\u001b[39;49m\u001b[38;5;132;43;01m{\u001b[39;49;00m\u001b[38;5;28;43mself\u001b[39;49m\u001b[38;5;241;43m.\u001b[39;49m\u001b[43msubdir\u001b[49m\u001b[38;5;132;43;01m}\u001b[39;49;00m\u001b[38;5;124;43m/\u001b[39;49m\u001b[38;5;132;43;01m{\u001b[39;49;00m\u001b[38;5;28;43mself\u001b[39;49m\u001b[38;5;241;43m.\u001b[39;49m\u001b[43m__name\u001b[49m\u001b[38;5;132;43;01m}\u001b[39;49;00m\u001b[38;5;124;43m\"\u001b[39;49m\u001b[43m)\u001b[49m\n\u001b[0;32m     82\u001b[0m     \u001b[38;5;28;01mexcept\u001b[39;00m \u001b[38;5;167;01mLookupError\u001b[39;00m \u001b[38;5;28;01mas\u001b[39;00m e:\n\u001b[0;32m     83\u001b[0m         \u001b[38;5;28;01mtry\u001b[39;00m:\n",
      "File \u001b[1;32m~\\anaconda3\\lib\\site-packages\\nltk\\data.py:583\u001b[0m, in \u001b[0;36mfind\u001b[1;34m(resource_name, paths)\u001b[0m\n\u001b[0;32m    581\u001b[0m sep \u001b[38;5;241m=\u001b[39m \u001b[38;5;124m\"\u001b[39m\u001b[38;5;124m*\u001b[39m\u001b[38;5;124m\"\u001b[39m \u001b[38;5;241m*\u001b[39m \u001b[38;5;241m70\u001b[39m\n\u001b[0;32m    582\u001b[0m resource_not_found \u001b[38;5;241m=\u001b[39m \u001b[38;5;124mf\u001b[39m\u001b[38;5;124m\"\u001b[39m\u001b[38;5;130;01m\\n\u001b[39;00m\u001b[38;5;132;01m{\u001b[39;00msep\u001b[38;5;132;01m}\u001b[39;00m\u001b[38;5;130;01m\\n\u001b[39;00m\u001b[38;5;132;01m{\u001b[39;00mmsg\u001b[38;5;132;01m}\u001b[39;00m\u001b[38;5;130;01m\\n\u001b[39;00m\u001b[38;5;132;01m{\u001b[39;00msep\u001b[38;5;132;01m}\u001b[39;00m\u001b[38;5;130;01m\\n\u001b[39;00m\u001b[38;5;124m\"\u001b[39m\n\u001b[1;32m--> 583\u001b[0m \u001b[38;5;28;01mraise\u001b[39;00m \u001b[38;5;167;01mLookupError\u001b[39;00m(resource_not_found)\n",
      "\u001b[1;31mLookupError\u001b[0m: \n**********************************************************************\n  Resource \u001b[93momw-1.4\u001b[0m not found.\n  Please use the NLTK Downloader to obtain the resource:\n\n  \u001b[31m>>> import nltk\n  >>> nltk.download('omw-1.4')\n  \u001b[0m\n  For more information see: https://www.nltk.org/data.html\n\n  Attempted to load \u001b[93mcorpora/omw-1.4\u001b[0m\n\n  Searched in:\n    - 'C:\\\\Users\\\\TEJA/nltk_data'\n    - 'C:\\\\Users\\\\TEJA\\\\anaconda3\\\\nltk_data'\n    - 'C:\\\\Users\\\\TEJA\\\\anaconda3\\\\share\\\\nltk_data'\n    - 'C:\\\\Users\\\\TEJA\\\\anaconda3\\\\lib\\\\nltk_data'\n    - 'C:\\\\Users\\\\TEJA\\\\AppData\\\\Roaming\\\\nltk_data'\n    - 'C:\\\\nltk_data'\n    - 'D:\\\\nltk_data'\n    - 'E:\\\\nltk_data'\n**********************************************************************\n"
     ]
    }
   ],
   "source": [
    "book_new_music_map = {} # Creating a dictionary of te mapping\n",
    "def find_relation(str):\n",
    "    value=str\n",
    "    str = str.replace('-', ' ')\n",
    "    if(len(str.split())==1):\n",
    "        a = wn.synsets(str)\n",
    "        if len(a) == 0:\n",
    "            return 'Null'\n",
    "        else:\n",
    "            x = []\n",
    "            for genre in tag_book:\n",
    "                m = wn.synsets(genre)\n",
    "                if len(m)>0:\n",
    "                   x.append(a[0].path_similarity(m[0]))\n",
    "            x = np.array(x, dtype = float)\n",
    "            max_idx = x.argmax()\n",
    "            return tag_book[max_idx]\n",
    "    else:\n",
    "        a = wn.synsets(str.split()[0])\n",
    "        b = wn.synsets(str.split()[1])\n",
    "        if len(a) == 0 and len(b) == 0:\n",
    "            return 'Null'\n",
    "        elif (len(a) != 0 and len(b) == 0) or (len(a) == 0 and len(b) != 0):\n",
    "            if len(a) != 0 and len(b) == 0:\n",
    "                a = wn.synsets(str.split()[0])\n",
    "            else:\n",
    "                 a = wn.synsets(str.split()[1])\n",
    "            if len(a) == 0:\n",
    "                return 'Null'\n",
    "            else:\n",
    "                x = []\n",
    "                for genre in tag_book:\n",
    "                    m = wn.synsets(genre)\n",
    "                    if len(m)>0:\n",
    "                       x.append(a[0].path_similarity(m[0]))\n",
    "                x = np.array(x, dtype = float)\n",
    "                max_idx = x.argmax()\n",
    "                return tag_book[max_idx]\n",
    "        else:\n",
    "            x = []\n",
    "            y = []\n",
    "            for genre in tag_book:\n",
    "                m = wn.synsets(genre)\n",
    "                if len(m)>0:\n",
    "                   x.append(a[0].path_similarity(m[0]))\n",
    "                   y.append(b[0].path_similarity(m[0]))\n",
    "            x = np.array(x, dtype = float)\n",
    "            y = np.array(y, dtype = float)\n",
    "            if (x.max() > y.max()):\n",
    "                max_idx = x.argmax()\n",
    "            else:\n",
    "                max_idx = y.argmax()\n",
    "                return tag_book[max_idx]\n",
    "    \n",
    "tag_table_new_music['relation'] = tag_table_new_music['Tag'].apply(find_relation)"
   ]
  },
  {
   "cell_type": "code",
   "execution_count": null,
   "id": "d47b4bee-ce8d-4b75-a1c1-e5eade965ac8",
   "metadata": {},
   "outputs": [],
   "source": [
    "tag_table_new_music"
   ]
  },
  {
   "cell_type": "code",
   "execution_count": null,
   "id": "9922dd85-49fa-4402-ab5f-ef92a5e38798",
   "metadata": {},
   "outputs": [],
   "source": [
    "import random as rd"
   ]
  },
  {
   "cell_type": "code",
   "execution_count": null,
   "id": "d0efa5c1-0251-4533-be66-37f9ee00264f",
   "metadata": {},
   "outputs": [],
   "source": [
    "for i in range(len(tag_table_new_music)):\n",
    "        if tag_table_new_music.iloc[i][\"relation\"]==\"Null\" :\n",
    "            tag_table_new_music.at[i,\"relation\"]=rd.choice(tag_book)\n",
    "            print(\"upadated value\" ,tag_table_new_music.iloc[i][\"relation\"])"
   ]
  },
  {
   "cell_type": "code",
   "execution_count": null,
   "id": "6f827b61-ab94-494c-8adf-8a26d3c5ddda",
   "metadata": {},
   "outputs": [],
   "source": [
    "tag_table_new_music"
   ]
  },
  {
   "cell_type": "code",
   "execution_count": null,
   "id": "d9d87a86-4d5e-47eb-9bff-c3c4ef9133a1",
   "metadata": {},
   "outputs": [],
   "source": [
    "tag_table_new_music.fillna(method ='bfill', inplace = True)"
   ]
  },
  {
   "cell_type": "code",
   "execution_count": null,
   "id": "e626945f-b1c3-44f9-bf3a-e48bfb58a63b",
   "metadata": {},
   "outputs": [],
   "source": [
    "new_music=new_music[['spotify_id', 'name', 'artist','tags']]"
   ]
  },
  {
   "cell_type": "code",
   "execution_count": null,
   "id": "3afb9b9d-fc5a-4cf3-bb2f-b9734e911379",
   "metadata": {},
   "outputs": [],
   "source": [
    "new_music.head()"
   ]
  },
  {
   "cell_type": "code",
   "execution_count": null,
   "id": "4f35d19b-9db4-4982-b826-518b4bad358d",
   "metadata": {},
   "outputs": [],
   "source": [
    "new_music_col = list(new_music.columns)\n",
    "new_music_tags = new_music['tags']\n",
    "tag_table_music=[[token, idx] for idx, token in enumerate(set(itertools.chain.from_iterable(new_music_tags)))]\n",
    "tag_table_music = pd.DataFrame(tag_table_music)\n",
    "tag_table_music.columns = ['Tag', 'Index']"
   ]
  },
  {
   "cell_type": "code",
   "execution_count": null,
   "id": "d15ca723-64af-46f3-b62a-92dfde4f175f",
   "metadata": {},
   "outputs": [],
   "source": [
    "tag_table_music"
   ]
  },
  {
   "cell_type": "code",
   "execution_count": null,
   "id": "abbda075-fbba-4140-8152-c5725267722c",
   "metadata": {},
   "outputs": [],
   "source": [
    "new_tag_dummy_music = np.zeros([len(new_music), len(tag_table_music)])"
   ]
  },
  {
   "cell_type": "code",
   "execution_count": null,
   "id": "0a9bb2b9-c46e-44af-8006-3ea620e84462",
   "metadata": {},
   "outputs": [],
   "source": [
    "for i in range(len(new_music)):\n",
    "    for j in range(len(tag_table_music)):\n",
    "        if tag_table_music['Tag'][j] in  new_music.iloc[i][\"tags\"]:\n",
    "            new_tag_dummy_music[i, j] = 1\n",
    "            \n",
    "new_hot_encoded_music = pd.concat([new_music, pd.DataFrame(new_tag_dummy_music)],axis = 1)\n",
    "new_music_col.extend([string for string in tag_table_music['Tag']])\n",
    "new_hot_encoded_music.columns = new_music_col\n",
    "new_hot_encoded_music.head()"
   ]
  },
  {
   "cell_type": "code",
   "execution_count": null,
   "id": "ff550a24-a8cc-4d19-b796-0a199a8104ab",
   "metadata": {},
   "outputs": [],
   "source": [
    "def lower_case(tag_selected_book):\n",
    "    list=[]\n",
    "    for i in tag_selected_book:\n",
    "        list.append(i.lower())\n",
    "    return list  "
   ]
  },
  {
   "cell_type": "code",
   "execution_count": null,
   "id": "39806176-7264-479e-8b3d-8ffb2818c1fc",
   "metadata": {},
   "outputs": [],
   "source": [
    "def recommend(book_name):\n",
    "    book_id=[]\n",
    "    index = new_book_df[new_book_df['title'] == book_name].index[0]\n",
    "    distances = sorted(list(enumerate(similarity[index])),reverse=True,key = lambda x: x[1])\n",
    "    for i in distances[1:6]:\n",
    "        book_id.append(new_book_df.iloc[i[0]].book_id)\n",
    "    filtered_dataset = pd.DataFrame([ final_book[final_book.book_id == i].values[0] for i in book_id], columns = ['book_id', 'title','genre',\"description\"])\n",
    "    selected_book_tags = filtered_dataset['genre']\n",
    "    tag_selected_book = [ token for idx, token in enumerate(set(itertools.chain.from_iterable(selected_book_tags)))]\n",
    "    tag_selected_book=lower_case(tag_selected_book)\n",
    "    new_tag_selected_music = [tag_table_new_music[tag_table_new_music.relation == i].Tag.values for i in tag_selected_book]\n",
    "    new_tag_selected_music = [ token for idx, token in enumerate(set(itertools.chain.from_iterable(new_tag_selected_music)))]\n",
    "    recommended_new_music = []\n",
    "    counts = np.zeros((new_hot_encoded_music.shape[0]))\n",
    "    for i in new_tag_selected_music:\n",
    "        indices = new_hot_encoded_music[new_hot_encoded_music[i] == 1.0].index.tolist()\n",
    "        for j in indices:\n",
    "            counts[j] += 1.0\n",
    "    for i in range(40):\n",
    "        max_idx = counts.argmax()\n",
    "        recommended_new_music.append(max_idx)\n",
    "        counts[max_idx] = 0\n",
    "    recommended_new_music = new_hot_encoded_music.iloc[recommended_new_music].name.values\n",
    "    recommended_new_music = np.array(recommended_new_music)\n",
    "    recommended_new_music = recommended_new_music.ravel()\n",
    "    return  recommended_new_music"
   ]
  },
  {
   "cell_type": "code",
   "execution_count": null,
   "id": "3a4b9857-4cfd-425b-a1e4-cd164d6d440d",
   "metadata": {},
   "outputs": [],
   "source": [
    "recommend(\"Sharp Objects\")"
   ]
  },
  {
   "cell_type": "code",
   "execution_count": null,
   "id": "0a56eff9-9fde-464c-a5db-0fbced88d59f",
   "metadata": {},
   "outputs": [],
   "source": [
    "recommend(\"Blue Bloods Blue Bloods 1\")"
   ]
  },
  {
   "cell_type": "code",
   "execution_count": null,
   "id": "230ff380-c20f-486b-832e-aa6458ab62c8",
   "metadata": {},
   "outputs": [],
   "source": [
    "recommend(\"Me Before You Me Before You 1\")"
   ]
  },
  {
   "cell_type": "code",
   "execution_count": null,
   "id": "394b7312-1d70-4c5e-b23b-e8745d5d569d",
   "metadata": {},
   "outputs": [],
   "source": [
    "import pickle"
   ]
  },
  {
   "cell_type": "code",
   "execution_count": null,
   "id": "3926df9e-59f5-41a6-8dee-f4020c245fd9",
   "metadata": {},
   "outputs": [],
   "source": [
    "pickle.dump(new_book_df,open('artifacts/book_df.pkl','wb'))\n",
    "pickle.dump(similarity,open('artifacts/similarity.pkl','wb'))\n",
    "pickle.dump(final_book,open('artifacts/final_book.pkl','wb'))\n",
    "pickle.dump(tag_table_new_music,open('artifacts/tag_table_new_music.pkl','wb'))\n",
    "pickle.dump(new_hot_encoded_music,open('artifacts/new_hot_encoded_music.pkl','wb'))"
   ]
  },
  {
   "cell_type": "code",
   "execution_count": null,
   "id": "eedc521d-20ce-474a-b28b-22da8f851e40",
   "metadata": {},
   "outputs": [],
   "source": [
    "book_titles=book.title.unique().tolist()"
   ]
  },
  {
   "cell_type": "code",
   "execution_count": null,
   "id": "1c54d5b2-6756-45e7-bbc5-d78f4dbf2c00",
   "metadata": {},
   "outputs": [],
   "source": [
    "book_titles=pd.DataFrame(book_titles)\n",
    "book_titles.columns=[\"titles\"]\n",
    "book_titles.to_json(\"book_titles_new.json\")"
   ]
  },
  {
   "cell_type": "code",
   "execution_count": null,
   "id": "eb246251-cd6a-4ddf-8dc2-5c6669cd55d5",
   "metadata": {},
   "outputs": [],
   "source": [
    "bk=book.title.unique().tolist()"
   ]
  },
  {
   "cell_type": "code",
   "execution_count": null,
   "id": "87819b8c-d2f0-4b6f-8f27-a8ec415d96b1",
   "metadata": {
    "scrolled": true
   },
   "outputs": [],
   "source": [
    "results = [{'title': song} for song in bk]\n",
    "results"
   ]
  },
  {
   "cell_type": "code",
   "execution_count": null,
   "id": "af1b0117-4b72-4811-a8fa-73ef5b345a84",
   "metadata": {},
   "outputs": [],
   "source": [
    "recommend2(\"Pretty Little Liars Pretty Little Liars 1\")"
   ]
  },
  {
   "cell_type": "code",
   "execution_count": null,
   "id": "7db6ee7b-efcd-4cc8-8d25-c7088401f24a",
   "metadata": {},
   "outputs": [],
   "source": [
    "recommend2(\"Clockwork Princess The Infernal Devices 3\")"
   ]
  },
  {
   "cell_type": "code",
   "execution_count": null,
   "id": "c7076251-d1aa-4466-80a6-7d1c270a619f",
   "metadata": {},
   "outputs": [],
   "source": [
    "recommend2(\"From Dead to Worse Sookie Stackhouse 8\")"
   ]
  },
  {
   "cell_type": "code",
   "execution_count": null,
   "id": "2a48a25e-0281-4bfe-8437-dd01ac0fb2d8",
   "metadata": {},
   "outputs": [],
   "source": [
    "recommend2(\"The Secret The Secret 1\")"
   ]
  },
  {
   "cell_type": "code",
   "execution_count": null,
   "id": "df484eb7-54c2-4c28-b89f-35cf0cd7a851",
   "metadata": {},
   "outputs": [],
   "source": [
    "recommend2(\"Dead as a Doornail Sookie Stackhouse 5\")"
   ]
  },
  {
   "cell_type": "code",
   "execution_count": null,
   "id": "dc9a60be-b9ea-43e7-9e9b-3be4365f8473",
   "metadata": {},
   "outputs": [],
   "source": []
  }
 ],
 "metadata": {
  "kernelspec": {
   "display_name": "Python 3 (ipykernel)",
   "language": "python",
   "name": "python3"
  },
  "language_info": {
   "codemirror_mode": {
    "name": "ipython",
    "version": 3
   },
   "file_extension": ".py",
   "mimetype": "text/x-python",
   "name": "python",
   "nbconvert_exporter": "python",
   "pygments_lexer": "ipython3",
   "version": "3.10.9"
  }
 },
 "nbformat": 4,
 "nbformat_minor": 5
}
