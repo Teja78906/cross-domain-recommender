{
 "cells": [
  {
   "cell_type": "code",
   "execution_count": 1,
   "id": "79ebddd6-30ef-46b1-8275-153a67e3df22",
   "metadata": {},
   "outputs": [],
   "source": [
    "import pandas as pd\n",
    "import numpy as np\n",
    "import itertools\n",
    "import nltk\n",
    "from nltk.stem import PorterStemmer"
   ]
  },
  {
   "cell_type": "code",
   "execution_count": 2,
   "id": "f66ed644-1969-40a3-be0c-74cbc1f4261a",
   "metadata": {},
   "outputs": [],
   "source": [
    "book_df=pd.read_csv(\"collaborative_book_metadata.csv\")"
   ]
  },
  {
   "cell_type": "code",
   "execution_count": 3,
   "id": "20cb4ed9-1674-4cda-999f-2389b85e8891",
   "metadata": {},
   "outputs": [
    {
     "data": {
      "text/html": [
       "<div>\n",
       "<style scoped>\n",
       "    .dataframe tbody tr th:only-of-type {\n",
       "        vertical-align: middle;\n",
       "    }\n",
       "\n",
       "    .dataframe tbody tr th {\n",
       "        vertical-align: top;\n",
       "    }\n",
       "\n",
       "    .dataframe thead th {\n",
       "        text-align: right;\n",
       "    }\n",
       "</style>\n",
       "<table border=\"1\" class=\"dataframe\">\n",
       "  <thead>\n",
       "    <tr style=\"text-align: right;\">\n",
       "      <th></th>\n",
       "      <th>Unnamed: 0</th>\n",
       "      <th>book_id</th>\n",
       "      <th>title</th>\n",
       "      <th>image_url</th>\n",
       "      <th>url</th>\n",
       "      <th>num_pages</th>\n",
       "      <th>ratings_count</th>\n",
       "      <th>description</th>\n",
       "      <th>genre</th>\n",
       "      <th>name</th>\n",
       "      <th>book_id_mapping</th>\n",
       "    </tr>\n",
       "  </thead>\n",
       "  <tbody>\n",
       "    <tr>\n",
       "      <th>0</th>\n",
       "      <td>0</td>\n",
       "      <td>5899779</td>\n",
       "      <td>Pride and Prejudice and Zombies Pride and Prej...</td>\n",
       "      <td>https://images.gr-assets.com/books/1320449653m...</td>\n",
       "      <td>https://www.goodreads.com/book/show/5899779-pr...</td>\n",
       "      <td>320</td>\n",
       "      <td>105537</td>\n",
       "      <td>The New York Times Best Seller is now a major ...</td>\n",
       "      <td>['fantasy, paranormal', 'romance', 'fiction', ...</td>\n",
       "      <td>Jane Austen</td>\n",
       "      <td>808</td>\n",
       "    </tr>\n",
       "    <tr>\n",
       "      <th>1</th>\n",
       "      <td>1</td>\n",
       "      <td>872333</td>\n",
       "      <td>Blue Bloods Blue Bloods 1</td>\n",
       "      <td>https://images.gr-assets.com/books/1322281515m...</td>\n",
       "      <td>https://www.goodreads.com/book/show/872333.Blu...</td>\n",
       "      <td>302</td>\n",
       "      <td>117633</td>\n",
       "      <td>When the Mayflower set sail in 1620, it carrie...</td>\n",
       "      <td>['young-adult', 'fantasy, paranormal', 'romanc...</td>\n",
       "      <td>Melissa de la Cruz</td>\n",
       "      <td>217</td>\n",
       "    </tr>\n",
       "    <tr>\n",
       "      <th>2</th>\n",
       "      <td>2</td>\n",
       "      <td>15507958</td>\n",
       "      <td>Me Before You Me Before You 1</td>\n",
       "      <td>https://images.gr-assets.com/books/1357108762m...</td>\n",
       "      <td>https://www.goodreads.com/book/show/15507958-m...</td>\n",
       "      <td>369</td>\n",
       "      <td>609327</td>\n",
       "      <td>Louisa Clark is an ordinary young woman living...</td>\n",
       "      <td>['romance', 'fiction']</td>\n",
       "      <td>Jojo Moyes</td>\n",
       "      <td>385</td>\n",
       "    </tr>\n",
       "    <tr>\n",
       "      <th>3</th>\n",
       "      <td>3</td>\n",
       "      <td>66559</td>\n",
       "      <td>Sharp Objects</td>\n",
       "      <td>https://images.gr-assets.com/books/1423241485m...</td>\n",
       "      <td>https://www.goodreads.com/book/show/66559.Shar...</td>\n",
       "      <td>254</td>\n",
       "      <td>208394</td>\n",
       "      <td>Fresh from a brief stay at a psych hospital, r...</td>\n",
       "      <td>['mystery, thriller, crime', 'fiction']</td>\n",
       "      <td>Gillian Flynn</td>\n",
       "      <td>192</td>\n",
       "    </tr>\n",
       "    <tr>\n",
       "      <th>4</th>\n",
       "      <td>4</td>\n",
       "      <td>7235533</td>\n",
       "      <td>The Way of Kings The Stormlight Archive 1</td>\n",
       "      <td>https://images.gr-assets.com/books/1507307887m...</td>\n",
       "      <td>https://www.goodreads.com/book/show/7235533-th...</td>\n",
       "      <td>1007</td>\n",
       "      <td>151473</td>\n",
       "      <td>Speak again the ancient oaths,\\nLife before de...</td>\n",
       "      <td>['fantasy, paranormal', 'fiction']</td>\n",
       "      <td>Brandon Sanderson</td>\n",
       "      <td>873</td>\n",
       "    </tr>\n",
       "  </tbody>\n",
       "</table>\n",
       "</div>"
      ],
      "text/plain": [
       "   Unnamed: 0   book_id                                              title  \\\n",
       "0           0   5899779  Pride and Prejudice and Zombies Pride and Prej...   \n",
       "1           1    872333                          Blue Bloods Blue Bloods 1   \n",
       "2           2  15507958                      Me Before You Me Before You 1   \n",
       "3           3     66559                                      Sharp Objects   \n",
       "4           4   7235533          The Way of Kings The Stormlight Archive 1   \n",
       "\n",
       "                                           image_url  \\\n",
       "0  https://images.gr-assets.com/books/1320449653m...   \n",
       "1  https://images.gr-assets.com/books/1322281515m...   \n",
       "2  https://images.gr-assets.com/books/1357108762m...   \n",
       "3  https://images.gr-assets.com/books/1423241485m...   \n",
       "4  https://images.gr-assets.com/books/1507307887m...   \n",
       "\n",
       "                                                 url  num_pages  \\\n",
       "0  https://www.goodreads.com/book/show/5899779-pr...        320   \n",
       "1  https://www.goodreads.com/book/show/872333.Blu...        302   \n",
       "2  https://www.goodreads.com/book/show/15507958-m...        369   \n",
       "3  https://www.goodreads.com/book/show/66559.Shar...        254   \n",
       "4  https://www.goodreads.com/book/show/7235533-th...       1007   \n",
       "\n",
       "   ratings_count                                        description  \\\n",
       "0         105537  The New York Times Best Seller is now a major ...   \n",
       "1         117633  When the Mayflower set sail in 1620, it carrie...   \n",
       "2         609327  Louisa Clark is an ordinary young woman living...   \n",
       "3         208394  Fresh from a brief stay at a psych hospital, r...   \n",
       "4         151473  Speak again the ancient oaths,\\nLife before de...   \n",
       "\n",
       "                                               genre                name  \\\n",
       "0  ['fantasy, paranormal', 'romance', 'fiction', ...         Jane Austen   \n",
       "1  ['young-adult', 'fantasy, paranormal', 'romanc...  Melissa de la Cruz   \n",
       "2                             ['romance', 'fiction']          Jojo Moyes   \n",
       "3            ['mystery, thriller, crime', 'fiction']       Gillian Flynn   \n",
       "4                 ['fantasy, paranormal', 'fiction']   Brandon Sanderson   \n",
       "\n",
       "   book_id_mapping  \n",
       "0              808  \n",
       "1              217  \n",
       "2              385  \n",
       "3              192  \n",
       "4              873  "
      ]
     },
     "execution_count": 3,
     "metadata": {},
     "output_type": "execute_result"
    }
   ],
   "source": [
    "book_df.head()"
   ]
  },
  {
   "cell_type": "code",
   "execution_count": 4,
   "id": "ea678e9b-d6f8-4f73-9de0-adf8fa3cbd2f",
   "metadata": {},
   "outputs": [
    {
     "data": {
      "text/plain": [
       "0"
      ]
     },
     "execution_count": 4,
     "metadata": {},
     "output_type": "execute_result"
    }
   ],
   "source": [
    "book_df.duplicated().sum()"
   ]
  },
  {
   "cell_type": "code",
   "execution_count": 5,
   "id": "e8725b9e-012c-48c1-b55a-c59984cc6dc7",
   "metadata": {},
   "outputs": [],
   "source": [
    "book=book_df[[\"book_id\",\"title\",\"genre\",\"description\"]]"
   ]
  },
  {
   "cell_type": "code",
   "execution_count": 6,
   "id": "2df8c577-c409-48e7-8555-cf42f57975f6",
   "metadata": {},
   "outputs": [
    {
     "data": {
      "text/plain": [
       "\"['fantasy, paranormal', 'romance', 'fiction', 'history, historical fiction, biography', 'young-adult', 'mystery, thriller, crime']\""
      ]
     },
     "execution_count": 6,
     "metadata": {},
     "output_type": "execute_result"
    }
   ],
   "source": [
    "book.iloc[0][\"genre\"]"
   ]
  },
  {
   "cell_type": "code",
   "execution_count": 7,
   "id": "ee64f07b-ecc4-4571-bd05-dba65c597f75",
   "metadata": {},
   "outputs": [],
   "source": [
    "import ast #for converting str to list\n",
    "\n",
    "def convert(text):\n",
    "    L = []\n",
    "    for i in ast.literal_eval(text):\n",
    "        L.append(i) \n",
    "    return L"
   ]
  },
  {
   "cell_type": "code",
   "execution_count": 8,
   "id": "14418ce0-3b50-4951-bbd7-4854fc041ba3",
   "metadata": {},
   "outputs": [
    {
     "name": "stderr",
     "output_type": "stream",
     "text": [
      "C:\\Users\\Mahesh\\AppData\\Local\\Temp\\ipykernel_23448\\2443777982.py:1: SettingWithCopyWarning: \n",
      "A value is trying to be set on a copy of a slice from a DataFrame.\n",
      "Try using .loc[row_indexer,col_indexer] = value instead\n",
      "\n",
      "See the caveats in the documentation: https://pandas.pydata.org/pandas-docs/stable/user_guide/indexing.html#returning-a-view-versus-a-copy\n",
      "  book['genre'] = book['genre'].apply(convert)\n"
     ]
    }
   ],
   "source": [
    "book['genre'] = book['genre'].apply(convert)"
   ]
  },
  {
   "cell_type": "code",
   "execution_count": 9,
   "id": "8912db94-fbb7-4e42-b391-14690b3f58f5",
   "metadata": {},
   "outputs": [
    {
     "data": {
      "text/plain": [
       "['fantasy, paranormal',\n",
       " 'romance',\n",
       " 'fiction',\n",
       " 'history, historical fiction, biography',\n",
       " 'young-adult',\n",
       " 'mystery, thriller, crime']"
      ]
     },
     "execution_count": 9,
     "metadata": {},
     "output_type": "execute_result"
    }
   ],
   "source": [
    "book.iloc[0][\"genre\"]"
   ]
  },
  {
   "cell_type": "code",
   "execution_count": 10,
   "id": "1587163d-0a2b-42df-9805-7e0f06c110ba",
   "metadata": {},
   "outputs": [],
   "source": [
    "def remove_space(L):\n",
    "    L1 = []\n",
    "    for i in L:\n",
    "        L1.append(i.replace(\" \",\"\"))\n",
    "    return L1"
   ]
  },
  {
   "cell_type": "code",
   "execution_count": 11,
   "id": "ba2fd8ee-6bfc-42bf-8078-726332fcf66b",
   "metadata": {},
   "outputs": [
    {
     "name": "stderr",
     "output_type": "stream",
     "text": [
      "C:\\Users\\Mahesh\\AppData\\Local\\Temp\\ipykernel_23448\\207363691.py:1: SettingWithCopyWarning: \n",
      "A value is trying to be set on a copy of a slice from a DataFrame.\n",
      "Try using .loc[row_indexer,col_indexer] = value instead\n",
      "\n",
      "See the caveats in the documentation: https://pandas.pydata.org/pandas-docs/stable/user_guide/indexing.html#returning-a-view-versus-a-copy\n",
      "  book['genre'] = book['genre'].apply(remove_space)\n"
     ]
    }
   ],
   "source": [
    "book['genre'] = book['genre'].apply(remove_space)"
   ]
  },
  {
   "cell_type": "code",
   "execution_count": 12,
   "id": "f6b0e9d4-974d-4cec-aa05-34dd547d9774",
   "metadata": {},
   "outputs": [
    {
     "name": "stderr",
     "output_type": "stream",
     "text": [
      "C:\\Users\\Mahesh\\AppData\\Local\\Temp\\ipykernel_23448\\3015881702.py:1: SettingWithCopyWarning: \n",
      "A value is trying to be set on a copy of a slice from a DataFrame.\n",
      "Try using .loc[row_indexer,col_indexer] = value instead\n",
      "\n",
      "See the caveats in the documentation: https://pandas.pydata.org/pandas-docs/stable/user_guide/indexing.html#returning-a-view-versus-a-copy\n",
      "  book[\"description\"]=book[\"description\"].apply(lambda x:x.split())\n"
     ]
    }
   ],
   "source": [
    "book[\"description\"]=book[\"description\"].apply(lambda x:x.split())"
   ]
  },
  {
   "cell_type": "code",
   "execution_count": 13,
   "id": "fb53844b-ff30-48c3-b20a-4b821fa9b46a",
   "metadata": {},
   "outputs": [
    {
     "name": "stderr",
     "output_type": "stream",
     "text": [
      "C:\\Users\\Mahesh\\AppData\\Local\\Temp\\ipykernel_23448\\2701985202.py:1: SettingWithCopyWarning: \n",
      "A value is trying to be set on a copy of a slice from a DataFrame.\n",
      "Try using .loc[row_indexer,col_indexer] = value instead\n",
      "\n",
      "See the caveats in the documentation: https://pandas.pydata.org/pandas-docs/stable/user_guide/indexing.html#returning-a-view-versus-a-copy\n",
      "  book[\"Tags\"]=book[\"genre\"]+book[\"description\"]\n"
     ]
    }
   ],
   "source": [
    "book[\"Tags\"]=book[\"genre\"]+book[\"description\"]"
   ]
  },
  {
   "cell_type": "code",
   "execution_count": 14,
   "id": "df2861c3-f241-4767-aac5-512a48173595",
   "metadata": {},
   "outputs": [
    {
     "data": {
      "text/html": [
       "<div>\n",
       "<style scoped>\n",
       "    .dataframe tbody tr th:only-of-type {\n",
       "        vertical-align: middle;\n",
       "    }\n",
       "\n",
       "    .dataframe tbody tr th {\n",
       "        vertical-align: top;\n",
       "    }\n",
       "\n",
       "    .dataframe thead th {\n",
       "        text-align: right;\n",
       "    }\n",
       "</style>\n",
       "<table border=\"1\" class=\"dataframe\">\n",
       "  <thead>\n",
       "    <tr style=\"text-align: right;\">\n",
       "      <th></th>\n",
       "      <th>book_id</th>\n",
       "      <th>title</th>\n",
       "      <th>genre</th>\n",
       "      <th>description</th>\n",
       "      <th>Tags</th>\n",
       "    </tr>\n",
       "  </thead>\n",
       "  <tbody>\n",
       "    <tr>\n",
       "      <th>0</th>\n",
       "      <td>5899779</td>\n",
       "      <td>Pride and Prejudice and Zombies Pride and Prej...</td>\n",
       "      <td>[fantasy,paranormal, romance, fiction, history...</td>\n",
       "      <td>[The, New, York, Times, Best, Seller, is, now,...</td>\n",
       "      <td>[fantasy,paranormal, romance, fiction, history...</td>\n",
       "    </tr>\n",
       "    <tr>\n",
       "      <th>1</th>\n",
       "      <td>872333</td>\n",
       "      <td>Blue Bloods Blue Bloods 1</td>\n",
       "      <td>[young-adult, fantasy,paranormal, romance, fic...</td>\n",
       "      <td>[When, the, Mayflower, set, sail, in, 1620,, i...</td>\n",
       "      <td>[young-adult, fantasy,paranormal, romance, fic...</td>\n",
       "    </tr>\n",
       "    <tr>\n",
       "      <th>2</th>\n",
       "      <td>15507958</td>\n",
       "      <td>Me Before You Me Before You 1</td>\n",
       "      <td>[romance, fiction]</td>\n",
       "      <td>[Louisa, Clark, is, an, ordinary, young, woman...</td>\n",
       "      <td>[romance, fiction, Louisa, Clark, is, an, ordi...</td>\n",
       "    </tr>\n",
       "    <tr>\n",
       "      <th>3</th>\n",
       "      <td>66559</td>\n",
       "      <td>Sharp Objects</td>\n",
       "      <td>[mystery,thriller,crime, fiction]</td>\n",
       "      <td>[Fresh, from, a, brief, stay, at, a, psych, ho...</td>\n",
       "      <td>[mystery,thriller,crime, fiction, Fresh, from,...</td>\n",
       "    </tr>\n",
       "    <tr>\n",
       "      <th>4</th>\n",
       "      <td>7235533</td>\n",
       "      <td>The Way of Kings The Stormlight Archive 1</td>\n",
       "      <td>[fantasy,paranormal, fiction]</td>\n",
       "      <td>[Speak, again, the, ancient, oaths,, Life, bef...</td>\n",
       "      <td>[fantasy,paranormal, fiction, Speak, again, th...</td>\n",
       "    </tr>\n",
       "  </tbody>\n",
       "</table>\n",
       "</div>"
      ],
      "text/plain": [
       "    book_id                                              title  \\\n",
       "0   5899779  Pride and Prejudice and Zombies Pride and Prej...   \n",
       "1    872333                          Blue Bloods Blue Bloods 1   \n",
       "2  15507958                      Me Before You Me Before You 1   \n",
       "3     66559                                      Sharp Objects   \n",
       "4   7235533          The Way of Kings The Stormlight Archive 1   \n",
       "\n",
       "                                               genre  \\\n",
       "0  [fantasy,paranormal, romance, fiction, history...   \n",
       "1  [young-adult, fantasy,paranormal, romance, fic...   \n",
       "2                                 [romance, fiction]   \n",
       "3                  [mystery,thriller,crime, fiction]   \n",
       "4                      [fantasy,paranormal, fiction]   \n",
       "\n",
       "                                         description  \\\n",
       "0  [The, New, York, Times, Best, Seller, is, now,...   \n",
       "1  [When, the, Mayflower, set, sail, in, 1620,, i...   \n",
       "2  [Louisa, Clark, is, an, ordinary, young, woman...   \n",
       "3  [Fresh, from, a, brief, stay, at, a, psych, ho...   \n",
       "4  [Speak, again, the, ancient, oaths,, Life, bef...   \n",
       "\n",
       "                                                Tags  \n",
       "0  [fantasy,paranormal, romance, fiction, history...  \n",
       "1  [young-adult, fantasy,paranormal, romance, fic...  \n",
       "2  [romance, fiction, Louisa, Clark, is, an, ordi...  \n",
       "3  [mystery,thriller,crime, fiction, Fresh, from,...  \n",
       "4  [fantasy,paranormal, fiction, Speak, again, th...  "
      ]
     },
     "execution_count": 14,
     "metadata": {},
     "output_type": "execute_result"
    }
   ],
   "source": [
    "book.head()"
   ]
  },
  {
   "cell_type": "code",
   "execution_count": 15,
   "id": "ba81ea02-f269-4f76-a8ab-3cc2429e7c8e",
   "metadata": {},
   "outputs": [],
   "source": [
    "new_book_df = book[['book_id','title','Tags']]"
   ]
  },
  {
   "cell_type": "code",
   "execution_count": 16,
   "id": "06ae377c-65af-4136-ab2d-e8b682e8b77e",
   "metadata": {},
   "outputs": [
    {
     "name": "stderr",
     "output_type": "stream",
     "text": [
      "C:\\Users\\Mahesh\\AppData\\Local\\Temp\\ipykernel_23448\\1579840890.py:1: SettingWithCopyWarning: \n",
      "A value is trying to be set on a copy of a slice from a DataFrame.\n",
      "Try using .loc[row_indexer,col_indexer] = value instead\n",
      "\n",
      "See the caveats in the documentation: https://pandas.pydata.org/pandas-docs/stable/user_guide/indexing.html#returning-a-view-versus-a-copy\n",
      "  new_book_df['Tags'] = new_book_df['Tags'].apply(lambda x: \" \".join(x))\n"
     ]
    },
    {
     "data": {
      "text/html": [
       "<div>\n",
       "<style scoped>\n",
       "    .dataframe tbody tr th:only-of-type {\n",
       "        vertical-align: middle;\n",
       "    }\n",
       "\n",
       "    .dataframe tbody tr th {\n",
       "        vertical-align: top;\n",
       "    }\n",
       "\n",
       "    .dataframe thead th {\n",
       "        text-align: right;\n",
       "    }\n",
       "</style>\n",
       "<table border=\"1\" class=\"dataframe\">\n",
       "  <thead>\n",
       "    <tr style=\"text-align: right;\">\n",
       "      <th></th>\n",
       "      <th>book_id</th>\n",
       "      <th>title</th>\n",
       "      <th>Tags</th>\n",
       "    </tr>\n",
       "  </thead>\n",
       "  <tbody>\n",
       "    <tr>\n",
       "      <th>0</th>\n",
       "      <td>5899779</td>\n",
       "      <td>Pride and Prejudice and Zombies Pride and Prej...</td>\n",
       "      <td>fantasy,paranormal romance fiction history,his...</td>\n",
       "    </tr>\n",
       "    <tr>\n",
       "      <th>1</th>\n",
       "      <td>872333</td>\n",
       "      <td>Blue Bloods Blue Bloods 1</td>\n",
       "      <td>young-adult fantasy,paranormal romance fiction...</td>\n",
       "    </tr>\n",
       "    <tr>\n",
       "      <th>2</th>\n",
       "      <td>15507958</td>\n",
       "      <td>Me Before You Me Before You 1</td>\n",
       "      <td>romance fiction Louisa Clark is an ordinary yo...</td>\n",
       "    </tr>\n",
       "    <tr>\n",
       "      <th>3</th>\n",
       "      <td>66559</td>\n",
       "      <td>Sharp Objects</td>\n",
       "      <td>mystery,thriller,crime fiction Fresh from a br...</td>\n",
       "    </tr>\n",
       "    <tr>\n",
       "      <th>4</th>\n",
       "      <td>7235533</td>\n",
       "      <td>The Way of Kings The Stormlight Archive 1</td>\n",
       "      <td>fantasy,paranormal fiction Speak again the anc...</td>\n",
       "    </tr>\n",
       "  </tbody>\n",
       "</table>\n",
       "</div>"
      ],
      "text/plain": [
       "    book_id                                              title  \\\n",
       "0   5899779  Pride and Prejudice and Zombies Pride and Prej...   \n",
       "1    872333                          Blue Bloods Blue Bloods 1   \n",
       "2  15507958                      Me Before You Me Before You 1   \n",
       "3     66559                                      Sharp Objects   \n",
       "4   7235533          The Way of Kings The Stormlight Archive 1   \n",
       "\n",
       "                                                Tags  \n",
       "0  fantasy,paranormal romance fiction history,his...  \n",
       "1  young-adult fantasy,paranormal romance fiction...  \n",
       "2  romance fiction Louisa Clark is an ordinary yo...  \n",
       "3  mystery,thriller,crime fiction Fresh from a br...  \n",
       "4  fantasy,paranormal fiction Speak again the anc...  "
      ]
     },
     "execution_count": 16,
     "metadata": {},
     "output_type": "execute_result"
    }
   ],
   "source": [
    "new_book_df['Tags'] = new_book_df['Tags'].apply(lambda x: \" \".join(x))\n",
    "new_book_df.head()"
   ]
  },
  {
   "cell_type": "code",
   "execution_count": 17,
   "id": "25b38146-7449-4ad1-bf3e-c557b2a1c9c0",
   "metadata": {},
   "outputs": [
    {
     "name": "stderr",
     "output_type": "stream",
     "text": [
      "C:\\Users\\Mahesh\\AppData\\Local\\Temp\\ipykernel_23448\\860502264.py:1: SettingWithCopyWarning: \n",
      "A value is trying to be set on a copy of a slice from a DataFrame.\n",
      "Try using .loc[row_indexer,col_indexer] = value instead\n",
      "\n",
      "See the caveats in the documentation: https://pandas.pydata.org/pandas-docs/stable/user_guide/indexing.html#returning-a-view-versus-a-copy\n",
      "  new_book_df['Tags'] = new_book_df['Tags'].apply(lambda x:x.lower())\n"
     ]
    }
   ],
   "source": [
    "new_book_df['Tags'] = new_book_df['Tags'].apply(lambda x:x.lower())"
   ]
  },
  {
   "cell_type": "code",
   "execution_count": 18,
   "id": "f95b4b48-f0ac-4e23-9b30-980b2e472dd4",
   "metadata": {},
   "outputs": [],
   "source": [
    "ps = PorterStemmer()"
   ]
  },
  {
   "cell_type": "code",
   "execution_count": 19,
   "id": "533ded9f-ce44-4224-b441-16575ba36ea4",
   "metadata": {},
   "outputs": [],
   "source": [
    "def stems(text):\n",
    "    T = []\n",
    "    \n",
    "    for i in text.split():\n",
    "        T.append(ps.stem(i))\n",
    "    \n",
    "    return \" \".join(T)"
   ]
  },
  {
   "cell_type": "code",
   "execution_count": 20,
   "id": "cb82ea3b-f7bd-40a2-bbe0-5025bcc65165",
   "metadata": {},
   "outputs": [
    {
     "name": "stderr",
     "output_type": "stream",
     "text": [
      "C:\\Users\\Mahesh\\AppData\\Local\\Temp\\ipykernel_23448\\1391816524.py:1: SettingWithCopyWarning: \n",
      "A value is trying to be set on a copy of a slice from a DataFrame.\n",
      "Try using .loc[row_indexer,col_indexer] = value instead\n",
      "\n",
      "See the caveats in the documentation: https://pandas.pydata.org/pandas-docs/stable/user_guide/indexing.html#returning-a-view-versus-a-copy\n",
      "  new_book_df['Tags'] = new_book_df['Tags'].apply(stems)\n"
     ]
    }
   ],
   "source": [
    "new_book_df['Tags'] = new_book_df['Tags'].apply(stems)"
   ]
  },
  {
   "cell_type": "code",
   "execution_count": 21,
   "id": "3898a680-8317-4724-96f2-32d3a703058a",
   "metadata": {},
   "outputs": [],
   "source": [
    "from sklearn.feature_extraction.text import CountVectorizer\n",
    "cv = CountVectorizer(max_features=5000,stop_words='english')"
   ]
  },
  {
   "cell_type": "code",
   "execution_count": 22,
   "id": "ec211bf7-9ebe-4ba9-9f09-c3ca7be80b3e",
   "metadata": {},
   "outputs": [],
   "source": [
    "vector = cv.fit_transform(new_book_df['Tags']).toarray()"
   ]
  },
  {
   "cell_type": "code",
   "execution_count": 23,
   "id": "621b0c36-33b3-4327-a036-5f61d1cd9ae0",
   "metadata": {},
   "outputs": [
    {
     "data": {
      "text/plain": [
       "(96, 3415)"
      ]
     },
     "execution_count": 23,
     "metadata": {},
     "output_type": "execute_result"
    }
   ],
   "source": [
    "vector.shape"
   ]
  },
  {
   "cell_type": "code",
   "execution_count": 24,
   "id": "e8460336-6864-4a52-80eb-c5bd7e7d1d49",
   "metadata": {},
   "outputs": [],
   "source": [
    "from sklearn.metrics.pairwise import cosine_similarity"
   ]
  },
  {
   "cell_type": "code",
   "execution_count": 25,
   "id": "e322ce88-3e85-4db8-a444-2a3bc094ce0d",
   "metadata": {},
   "outputs": [],
   "source": [
    "similarity = cosine_similarity(vector)"
   ]
  },
  {
   "cell_type": "code",
   "execution_count": 26,
   "id": "f552ad38-ef39-45ca-9729-6494af8d72a4",
   "metadata": {},
   "outputs": [
    {
     "data": {
      "text/plain": [
       "(96, 96)"
      ]
     },
     "execution_count": 26,
     "metadata": {},
     "output_type": "execute_result"
    }
   ],
   "source": [
    " similarity.shape"
   ]
  },
  {
   "cell_type": "code",
   "execution_count": 27,
   "id": "62c65da8-e3be-4165-be5e-47c378364cc4",
   "metadata": {},
   "outputs": [
    {
     "name": "stdout",
     "output_type": "stream",
     "text": [
      "Pretty Little Liars Pretty Little Liars 1\n",
      "Clockwork Princess The Infernal Devices 3\n",
      "From Dead to Worse Sookie Stackhouse 8\n",
      "The Secret The Secret 1\n",
      "Dead as a Doornail Sookie Stackhouse 5\n"
     ]
    }
   ],
   "source": [
    "def recommend2(book_name):\n",
    "    book_id=[]\n",
    "    index = new_book_df[new_book_df['title'] == book_name].index[0]\n",
    "    distances = sorted(list(enumerate(similarity[index])),reverse=True,key = lambda x: x[1])\n",
    "    for i in distances[1:6]:\n",
    "        print(new_book_df.iloc[i[0]].title)\n",
    "recommend2(\"Blue Bloods Blue Bloods 1\")"
   ]
  },
  {
   "cell_type": "code",
   "execution_count": 28,
   "id": "afcb0dc2-2f32-4891-93f2-72a6715a62d5",
   "metadata": {},
   "outputs": [
    {
     "name": "stdout",
     "output_type": "stream",
     "text": [
      "Doctor Sleep\n",
      "Harry Potter and the Cursed Child Parts One and Two Harry Potter 8\n",
      "A Child Called It Dave Pelzer 1\n",
      "The Nanny Diaries Nanny 1\n",
      "Angus Thongs and FullFrontal Snogging Confessions of Georgia Nicolson 1\n"
     ]
    }
   ],
   "source": [
    "recommend2(\"Sharp Objects\")"
   ]
  },
  {
   "cell_type": "code",
   "execution_count": 29,
   "id": "30594aec-78db-43ae-9f71-e37c0fa19330",
   "metadata": {},
   "outputs": [],
   "source": [
    "new_music=pd.read_csv(\"Music Info.csv\")"
   ]
  },
  {
   "cell_type": "code",
   "execution_count": 30,
   "id": "2267f654-5b73-4193-a91c-ef1fd9f1a6fa",
   "metadata": {},
   "outputs": [
    {
     "data": {
      "text/html": [
       "<div>\n",
       "<style scoped>\n",
       "    .dataframe tbody tr th:only-of-type {\n",
       "        vertical-align: middle;\n",
       "    }\n",
       "\n",
       "    .dataframe tbody tr th {\n",
       "        vertical-align: top;\n",
       "    }\n",
       "\n",
       "    .dataframe thead th {\n",
       "        text-align: right;\n",
       "    }\n",
       "</style>\n",
       "<table border=\"1\" class=\"dataframe\">\n",
       "  <thead>\n",
       "    <tr style=\"text-align: right;\">\n",
       "      <th></th>\n",
       "      <th>track_id</th>\n",
       "      <th>name</th>\n",
       "      <th>artist</th>\n",
       "      <th>spotify_preview_url</th>\n",
       "      <th>spotify_id</th>\n",
       "      <th>tags</th>\n",
       "      <th>genre</th>\n",
       "      <th>year</th>\n",
       "      <th>duration_ms</th>\n",
       "      <th>danceability</th>\n",
       "      <th>...</th>\n",
       "      <th>key</th>\n",
       "      <th>loudness</th>\n",
       "      <th>mode</th>\n",
       "      <th>speechiness</th>\n",
       "      <th>acousticness</th>\n",
       "      <th>instrumentalness</th>\n",
       "      <th>liveness</th>\n",
       "      <th>valence</th>\n",
       "      <th>tempo</th>\n",
       "      <th>time_signature</th>\n",
       "    </tr>\n",
       "  </thead>\n",
       "  <tbody>\n",
       "    <tr>\n",
       "      <th>0</th>\n",
       "      <td>TRIOREW128F424EAF0</td>\n",
       "      <td>Mr. Brightside</td>\n",
       "      <td>The Killers</td>\n",
       "      <td>https://p.scdn.co/mp3-preview/4d26180e6961fd46...</td>\n",
       "      <td>09ZQ5TmUG8TSL56n0knqrj</td>\n",
       "      <td>rock, alternative, indie, alternative_rock, in...</td>\n",
       "      <td>NaN</td>\n",
       "      <td>2004</td>\n",
       "      <td>222200</td>\n",
       "      <td>0.355</td>\n",
       "      <td>...</td>\n",
       "      <td>1</td>\n",
       "      <td>-4.360</td>\n",
       "      <td>1</td>\n",
       "      <td>0.0746</td>\n",
       "      <td>0.001190</td>\n",
       "      <td>0.000000</td>\n",
       "      <td>0.0971</td>\n",
       "      <td>0.240</td>\n",
       "      <td>148.114</td>\n",
       "      <td>4</td>\n",
       "    </tr>\n",
       "    <tr>\n",
       "      <th>1</th>\n",
       "      <td>TRRIVDJ128F429B0E8</td>\n",
       "      <td>Wonderwall</td>\n",
       "      <td>Oasis</td>\n",
       "      <td>https://p.scdn.co/mp3-preview/d012e536916c927b...</td>\n",
       "      <td>06UfBBDISthj1ZJAtX4xjj</td>\n",
       "      <td>rock, alternative, indie, pop, alternative_roc...</td>\n",
       "      <td>NaN</td>\n",
       "      <td>2006</td>\n",
       "      <td>258613</td>\n",
       "      <td>0.409</td>\n",
       "      <td>...</td>\n",
       "      <td>2</td>\n",
       "      <td>-4.373</td>\n",
       "      <td>1</td>\n",
       "      <td>0.0336</td>\n",
       "      <td>0.000807</td>\n",
       "      <td>0.000000</td>\n",
       "      <td>0.2070</td>\n",
       "      <td>0.651</td>\n",
       "      <td>174.426</td>\n",
       "      <td>4</td>\n",
       "    </tr>\n",
       "    <tr>\n",
       "      <th>2</th>\n",
       "      <td>TROUVHL128F426C441</td>\n",
       "      <td>Come as You Are</td>\n",
       "      <td>Nirvana</td>\n",
       "      <td>https://p.scdn.co/mp3-preview/a1c11bb1cb231031...</td>\n",
       "      <td>0keNu0t0tqsWtExGM3nT1D</td>\n",
       "      <td>rock, alternative, alternative_rock, 90s, grunge</td>\n",
       "      <td>RnB</td>\n",
       "      <td>1991</td>\n",
       "      <td>218920</td>\n",
       "      <td>0.508</td>\n",
       "      <td>...</td>\n",
       "      <td>4</td>\n",
       "      <td>-5.783</td>\n",
       "      <td>0</td>\n",
       "      <td>0.0400</td>\n",
       "      <td>0.000175</td>\n",
       "      <td>0.000459</td>\n",
       "      <td>0.0878</td>\n",
       "      <td>0.543</td>\n",
       "      <td>120.012</td>\n",
       "      <td>4</td>\n",
       "    </tr>\n",
       "    <tr>\n",
       "      <th>3</th>\n",
       "      <td>TRUEIND128F93038C4</td>\n",
       "      <td>Take Me Out</td>\n",
       "      <td>Franz Ferdinand</td>\n",
       "      <td>https://p.scdn.co/mp3-preview/399c401370438be4...</td>\n",
       "      <td>0ancVQ9wEcHVd0RrGICTE4</td>\n",
       "      <td>rock, alternative, indie, alternative_rock, in...</td>\n",
       "      <td>NaN</td>\n",
       "      <td>2004</td>\n",
       "      <td>237026</td>\n",
       "      <td>0.279</td>\n",
       "      <td>...</td>\n",
       "      <td>9</td>\n",
       "      <td>-8.851</td>\n",
       "      <td>1</td>\n",
       "      <td>0.0371</td>\n",
       "      <td>0.000389</td>\n",
       "      <td>0.000655</td>\n",
       "      <td>0.1330</td>\n",
       "      <td>0.490</td>\n",
       "      <td>104.560</td>\n",
       "      <td>4</td>\n",
       "    </tr>\n",
       "    <tr>\n",
       "      <th>4</th>\n",
       "      <td>TRLNZBD128F935E4D8</td>\n",
       "      <td>Creep</td>\n",
       "      <td>Radiohead</td>\n",
       "      <td>https://p.scdn.co/mp3-preview/e7eb60e9466bc3a2...</td>\n",
       "      <td>01QoK9DA7VTeTSE3MNzp4I</td>\n",
       "      <td>rock, alternative, indie, alternative_rock, in...</td>\n",
       "      <td>RnB</td>\n",
       "      <td>2008</td>\n",
       "      <td>238640</td>\n",
       "      <td>0.515</td>\n",
       "      <td>...</td>\n",
       "      <td>7</td>\n",
       "      <td>-9.935</td>\n",
       "      <td>1</td>\n",
       "      <td>0.0369</td>\n",
       "      <td>0.010200</td>\n",
       "      <td>0.000141</td>\n",
       "      <td>0.1290</td>\n",
       "      <td>0.104</td>\n",
       "      <td>91.841</td>\n",
       "      <td>4</td>\n",
       "    </tr>\n",
       "  </tbody>\n",
       "</table>\n",
       "<p>5 rows × 21 columns</p>\n",
       "</div>"
      ],
      "text/plain": [
       "             track_id             name           artist  \\\n",
       "0  TRIOREW128F424EAF0   Mr. Brightside      The Killers   \n",
       "1  TRRIVDJ128F429B0E8       Wonderwall            Oasis   \n",
       "2  TROUVHL128F426C441  Come as You Are          Nirvana   \n",
       "3  TRUEIND128F93038C4      Take Me Out  Franz Ferdinand   \n",
       "4  TRLNZBD128F935E4D8            Creep        Radiohead   \n",
       "\n",
       "                                 spotify_preview_url              spotify_id  \\\n",
       "0  https://p.scdn.co/mp3-preview/4d26180e6961fd46...  09ZQ5TmUG8TSL56n0knqrj   \n",
       "1  https://p.scdn.co/mp3-preview/d012e536916c927b...  06UfBBDISthj1ZJAtX4xjj   \n",
       "2  https://p.scdn.co/mp3-preview/a1c11bb1cb231031...  0keNu0t0tqsWtExGM3nT1D   \n",
       "3  https://p.scdn.co/mp3-preview/399c401370438be4...  0ancVQ9wEcHVd0RrGICTE4   \n",
       "4  https://p.scdn.co/mp3-preview/e7eb60e9466bc3a2...  01QoK9DA7VTeTSE3MNzp4I   \n",
       "\n",
       "                                                tags genre  year  duration_ms  \\\n",
       "0  rock, alternative, indie, alternative_rock, in...   NaN  2004       222200   \n",
       "1  rock, alternative, indie, pop, alternative_roc...   NaN  2006       258613   \n",
       "2   rock, alternative, alternative_rock, 90s, grunge   RnB  1991       218920   \n",
       "3  rock, alternative, indie, alternative_rock, in...   NaN  2004       237026   \n",
       "4  rock, alternative, indie, alternative_rock, in...   RnB  2008       238640   \n",
       "\n",
       "   danceability  ...  key  loudness  mode  speechiness  acousticness  \\\n",
       "0         0.355  ...    1    -4.360     1       0.0746      0.001190   \n",
       "1         0.409  ...    2    -4.373     1       0.0336      0.000807   \n",
       "2         0.508  ...    4    -5.783     0       0.0400      0.000175   \n",
       "3         0.279  ...    9    -8.851     1       0.0371      0.000389   \n",
       "4         0.515  ...    7    -9.935     1       0.0369      0.010200   \n",
       "\n",
       "   instrumentalness  liveness  valence    tempo  time_signature  \n",
       "0          0.000000    0.0971    0.240  148.114               4  \n",
       "1          0.000000    0.2070    0.651  174.426               4  \n",
       "2          0.000459    0.0878    0.543  120.012               4  \n",
       "3          0.000655    0.1330    0.490  104.560               4  \n",
       "4          0.000141    0.1290    0.104   91.841               4  \n",
       "\n",
       "[5 rows x 21 columns]"
      ]
     },
     "execution_count": 30,
     "metadata": {},
     "output_type": "execute_result"
    }
   ],
   "source": [
    "new_music.head()"
   ]
  },
  {
   "cell_type": "code",
   "execution_count": 31,
   "id": "307fb131-3d56-4bb1-add7-ac5190e04f90",
   "metadata": {},
   "outputs": [
    {
     "name": "stderr",
     "output_type": "stream",
     "text": [
      "C:\\Users\\Mahesh\\AppData\\Local\\Temp\\ipykernel_23448\\991213037.py:1: FutureWarning: Series.fillna with 'method' is deprecated and will raise in a future version. Use obj.ffill() or obj.bfill() instead.\n",
      "  new_music[\"tags\"].fillna(method ='ffill', inplace = True)\n"
     ]
    }
   ],
   "source": [
    "new_music[\"tags\"].fillna(method ='ffill', inplace = True)"
   ]
  },
  {
   "cell_type": "code",
   "execution_count": 32,
   "id": "79a342b7-6dac-466f-ada9-1da829626595",
   "metadata": {},
   "outputs": [],
   "source": [
    "new_music[\"tags\"]=new_music[\"tags\"].apply(lambda x:x.split(','))"
   ]
  },
  {
   "cell_type": "code",
   "execution_count": 33,
   "id": "334defb7-e4fa-406c-8976-118a22ff6434",
   "metadata": {},
   "outputs": [
    {
     "data": {
      "text/plain": [
       "0        [rock,  alternative,  indie,  alternative_rock...\n",
       "1        [rock,  alternative,  indie,  pop,  alternativ...\n",
       "2        [rock,  alternative,  alternative_rock,  90s, ...\n",
       "3        [rock,  alternative,  indie,  alternative_rock...\n",
       "4        [rock,  alternative,  indie,  alternative_rock...\n",
       "                               ...                        \n",
       "50678                       [alternative_rock,  punk_rock]\n",
       "50679         [rock,  alternative_rock,  japanese,  cover]\n",
       "50680                  [metal,  metalcore,  post_hardcore]\n",
       "50681                  [metal,  metalcore,  post_hardcore]\n",
       "50682                                    [rock,  japanese]\n",
       "Name: tags, Length: 50683, dtype: object"
      ]
     },
     "execution_count": 33,
     "metadata": {},
     "output_type": "execute_result"
    }
   ],
   "source": [
    "new_music[\"tags\"]"
   ]
  },
  {
   "cell_type": "code",
   "execution_count": 34,
   "id": "1849d193-aa6f-428a-a596-300c96a47523",
   "metadata": {},
   "outputs": [],
   "source": [
    "final_book=book_df[[\"book_id\",\"title\",\"genre\",\"description\"]]"
   ]
  },
  {
   "cell_type": "code",
   "execution_count": 35,
   "id": "d0c88713-e94b-45f1-a5b7-9dba4b64aa34",
   "metadata": {},
   "outputs": [
    {
     "name": "stderr",
     "output_type": "stream",
     "text": [
      "C:\\Users\\Mahesh\\AppData\\Local\\Temp\\ipykernel_23448\\1379630675.py:1: SettingWithCopyWarning: \n",
      "A value is trying to be set on a copy of a slice from a DataFrame.\n",
      "Try using .loc[row_indexer,col_indexer] = value instead\n",
      "\n",
      "See the caveats in the documentation: https://pandas.pydata.org/pandas-docs/stable/user_guide/indexing.html#returning-a-view-versus-a-copy\n",
      "  final_book[\"genre\"]=final_book['genre'].apply(convert)\n"
     ]
    }
   ],
   "source": [
    "final_book[\"genre\"]=final_book['genre'].apply(convert)"
   ]
  },
  {
   "cell_type": "code",
   "execution_count": 36,
   "id": "1c67fdf6-9a4f-4a8e-83cf-a5b755d98786",
   "metadata": {},
   "outputs": [],
   "source": [
    "tag_table_books = [ token for idx, token in enumerate(set(itertools.chain.from_iterable(final_book[\"genre\"])))]\n",
    "tag_table_books = pd.DataFrame(tag_table_books)\n",
    "tag_table_books.columns = ['Tag']\n",
    "tag_table_books[\"Tag\"]=tag_table_books[\"Tag\"].apply(lambda x:x.lower())\n"
   ]
  },
  {
   "cell_type": "code",
   "execution_count": 37,
   "id": "5c3f2c3c-9936-434b-bdd3-a3eccdb1e176",
   "metadata": {},
   "outputs": [
    {
     "data": {
      "text/plain": [
       "array(['children', 'fantasy, paranormal', 'mystery, thriller, crime',\n",
       "       'poetry', 'fiction', 'romance', 'comics, graphic',\n",
       "       'history, historical fiction, biography', 'young-adult',\n",
       "       'non-fiction'], dtype=object)"
      ]
     },
     "execution_count": 37,
     "metadata": {},
     "output_type": "execute_result"
    }
   ],
   "source": [
    "tag_book = tag_table_books['Tag'].values.ravel()\n",
    "tag_book\n"
   ]
  },
  {
   "cell_type": "code",
   "execution_count": 38,
   "id": "d9be4fa6-6d6f-43df-87a6-9d18fc747856",
   "metadata": {},
   "outputs": [
    {
     "data": {
      "text/html": [
       "<div>\n",
       "<style scoped>\n",
       "    .dataframe tbody tr th:only-of-type {\n",
       "        vertical-align: middle;\n",
       "    }\n",
       "\n",
       "    .dataframe tbody tr th {\n",
       "        vertical-align: top;\n",
       "    }\n",
       "\n",
       "    .dataframe thead th {\n",
       "        text-align: right;\n",
       "    }\n",
       "</style>\n",
       "<table border=\"1\" class=\"dataframe\">\n",
       "  <thead>\n",
       "    <tr style=\"text-align: right;\">\n",
       "      <th></th>\n",
       "      <th>Tag</th>\n",
       "    </tr>\n",
       "  </thead>\n",
       "  <tbody>\n",
       "    <tr>\n",
       "      <th>0</th>\n",
       "      <td>children</td>\n",
       "    </tr>\n",
       "    <tr>\n",
       "      <th>1</th>\n",
       "      <td>fantasy, paranormal</td>\n",
       "    </tr>\n",
       "    <tr>\n",
       "      <th>2</th>\n",
       "      <td>mystery, thriller, crime</td>\n",
       "    </tr>\n",
       "    <tr>\n",
       "      <th>3</th>\n",
       "      <td>poetry</td>\n",
       "    </tr>\n",
       "    <tr>\n",
       "      <th>4</th>\n",
       "      <td>fiction</td>\n",
       "    </tr>\n",
       "    <tr>\n",
       "      <th>5</th>\n",
       "      <td>romance</td>\n",
       "    </tr>\n",
       "    <tr>\n",
       "      <th>6</th>\n",
       "      <td>comics, graphic</td>\n",
       "    </tr>\n",
       "    <tr>\n",
       "      <th>7</th>\n",
       "      <td>history, historical fiction, biography</td>\n",
       "    </tr>\n",
       "    <tr>\n",
       "      <th>8</th>\n",
       "      <td>young-adult</td>\n",
       "    </tr>\n",
       "    <tr>\n",
       "      <th>9</th>\n",
       "      <td>non-fiction</td>\n",
       "    </tr>\n",
       "  </tbody>\n",
       "</table>\n",
       "</div>"
      ],
      "text/plain": [
       "                                      Tag\n",
       "0                                children\n",
       "1                     fantasy, paranormal\n",
       "2                mystery, thriller, crime\n",
       "3                                  poetry\n",
       "4                                 fiction\n",
       "5                                 romance\n",
       "6                         comics, graphic\n",
       "7  history, historical fiction, biography\n",
       "8                             young-adult\n",
       "9                             non-fiction"
      ]
     },
     "execution_count": 38,
     "metadata": {},
     "output_type": "execute_result"
    }
   ],
   "source": [
    "tag_table_books"
   ]
  },
  {
   "cell_type": "code",
   "execution_count": 39,
   "id": "4c8b845a-44ea-49da-8b64-777644272b16",
   "metadata": {},
   "outputs": [
    {
     "data": {
      "text/plain": [
       "array(['post_rock', ' house', 'noise', 'beautiful', ' soul',\n",
       "       ' dark_ambient', ' electronic', ' rnb', 'grindcore', 'british',\n",
       "       'doom_metal', 'oldies', ' female_vocalists', 'house',\n",
       "       ' classic_rock', 'male_vocalists', ' metal', ' thrash_metal',\n",
       "       'indie', 'trip_hop', 'guitar', ' folk', ' nu_metal', 'alternative',\n",
       "       'soul', 'hip_hop', ' new_wave', ' oldies', 'classical',\n",
       "       'gothic_metal', 'gothic', ' black_metal', 'pop', 'synthpop', '60s',\n",
       "       'ska', 'instrumental', ' 60s', ' acoustic', 'progressive_metal',\n",
       "       ' 90s', '70s', ' trance', 'rap', ' post_rock', 'electronic',\n",
       "       'polish', ' electro', 'piano', ' dance', 'black_metal',\n",
       "       ' symphonic_metal', 'experimental', ' russian', ' funk', 'german',\n",
       "       'rnb', 'idm', ' alternative_rock', ' country', 'new_wave', '00s',\n",
       "       ' synthpop', 'acoustic', 'nu_metal', ' classical', 'french',\n",
       "       ' 70s', ' blues', 'swedish', ' techno', 'techno', ' chill',\n",
       "       ' grunge', ' progressive_rock', ' drum_and_bass', ' emo', 'punk',\n",
       "       'chillout', ' gothic', ' indie', 'britpop', ' german',\n",
       "       ' indie_pop', 'heavy_metal', 'progressive_rock', 'psychedelic',\n",
       "       'american', ' death_metal', ' guitar', ' french', ' british',\n",
       "       ' gothic_metal', 'thrash_metal', 'grunge', 'japanese', 'hardcore',\n",
       "       'trance', ' love', ' idm', 'power_metal', ' instrumental', 'dance',\n",
       "       ' industrial', 'funk', ' rap', ' psychedelic', ' post_punk',\n",
       "       'punk_rock', ' power_metal', ' pop_rock', 'alternative_rock',\n",
       "       'emo', ' soundtrack', ' jazz', 'melodic_death_metal', 'love',\n",
       "       ' hard_rock', 'soundtrack', ' pop', 'post_hardcore', 'avant_garde',\n",
       "       'post_punk', ' alternative', ' noise', ' indie_rock', 'hard_rock',\n",
       "       ' ska', ' swedish', ' heavy_metal', 'cover', 'psychedelic_rock',\n",
       "       'russian', ' lounge', ' melodic_death_metal', ' psychedelic_rock',\n",
       "       '80s', ' avant_garde', 'mellow', 'chill', ' j_pop', ' ambient',\n",
       "       ' progressive_metal', 'jazz', 'drum_and_bass', ' grindcore',\n",
       "       'indie_rock', ' punk_rock', ' experimental', ' 00s', 'metal',\n",
       "       'symphonic_metal', ' post_hardcore', ' american', 'folk', 'j_pop',\n",
       "       ' japanese', ' punk', 'female_vocalists', ' doom_metal',\n",
       "       'metalcore', 'electro', ' hardcore', ' downtempo', 'industrial',\n",
       "       ' metalcore', 'death_metal', 'blues', 'rock', 'screamo', ' piano',\n",
       "       ' trip_hop', 'country', ' beautiful', ' 80s', ' blues_rock',\n",
       "       'reggae', 'classic_rock', ' mellow', 'lounge', ' male_vocalists',\n",
       "       ' polish', 'indie_pop', ' cover', '90s', ' chillout', 'blues_rock',\n",
       "       ' reggae', 'new_age', ' screamo', ' britpop', 'pop_rock',\n",
       "       'singer_songwriter', 'ambient', 'dark_ambient', ' hip_hop',\n",
       "       ' singer_songwriter', ' new_age', 'downtempo'], dtype=object)"
      ]
     },
     "execution_count": 39,
     "metadata": {},
     "output_type": "execute_result"
    }
   ],
   "source": [
    "music_tags=new_music[\"tags\"]\n",
    "tag_table_new_music = [ token for idx, token in enumerate(set(itertools.chain.from_iterable(music_tags)))]\n",
    "tag_table_new_music = pd.DataFrame(tag_table_new_music)\n",
    "tag_table_new_music.columns = ['Tag']\n",
    "\n",
    "tag_new_music = tag_table_new_music.values.ravel()\n",
    "tag_new_music"
   ]
  },
  {
   "cell_type": "code",
   "execution_count": 40,
   "id": "e97b700d-6359-452d-8f34-b80ff3ee1fbc",
   "metadata": {},
   "outputs": [],
   "source": [
    "import nltk\n",
    "from nltk.corpus import wordnet as wn"
   ]
  },
  {
   "cell_type": "code",
   "execution_count": 41,
   "id": "a82934a8-9216-4203-bf71-5b453e514be9",
   "metadata": {},
   "outputs": [],
   "source": [
    "book_new_music_map = {} # Creating a dictionary of te mapping\n",
    "def find_relation(str):\n",
    "    value=str\n",
    "    str = str.replace('-', ' ')\n",
    "    if(len(str.split())==1):\n",
    "        a = wn.synsets(str)\n",
    "        if len(a) == 0:\n",
    "            return 'Null'\n",
    "        else:\n",
    "            x = []\n",
    "            for genre in tag_book:\n",
    "                m = wn.synsets(genre)\n",
    "                if len(m)>0:\n",
    "                   x.append(a[0].path_similarity(m[0]))\n",
    "            x = np.array(x, dtype = float)\n",
    "            max_idx = x.argmax()\n",
    "            return tag_book[max_idx]\n",
    "    else:\n",
    "        a = wn.synsets(str.split()[0])\n",
    "        b = wn.synsets(str.split()[1])\n",
    "        if len(a) == 0 and len(b) == 0:\n",
    "            return 'Null'\n",
    "        elif (len(a) != 0 and len(b) == 0) or (len(a) == 0 and len(b) != 0):\n",
    "            if len(a) != 0 and len(b) == 0:\n",
    "                a = wn.synsets(str.split()[0])\n",
    "            else:\n",
    "                 a = wn.synsets(str.split()[1])\n",
    "            if len(a) == 0:\n",
    "                return 'Null'\n",
    "            else:\n",
    "                x = []\n",
    "                for genre in tag_book:\n",
    "                    m = wn.synsets(genre)\n",
    "                    if len(m)>0:\n",
    "                       x.append(a[0].path_similarity(m[0]))\n",
    "                x = np.array(x, dtype = float)\n",
    "                max_idx = x.argmax()\n",
    "                return tag_book[max_idx]\n",
    "        else:\n",
    "            x = []\n",
    "            y = []\n",
    "            for genre in tag_book:\n",
    "                m = wn.synsets(genre)\n",
    "                if len(m)>0:\n",
    "                   x.append(a[0].path_similarity(m[0]))\n",
    "                   y.append(b[0].path_similarity(m[0]))\n",
    "            x = np.array(x, dtype = float)\n",
    "            y = np.array(y, dtype = float)\n",
    "            if (x.max() > y.max()):\n",
    "                max_idx = x.argmax()\n",
    "            else:\n",
    "                max_idx = y.argmax()\n",
    "                return tag_book[max_idx]\n",
    "    \n",
    "tag_table_new_music['relation'] = tag_table_new_music['Tag'].apply(find_relation)"
   ]
  },
  {
   "cell_type": "code",
   "execution_count": 42,
   "id": "d47b4bee-ce8d-4b75-a1c1-e5eade965ac8",
   "metadata": {},
   "outputs": [
    {
     "data": {
      "text/html": [
       "<div>\n",
       "<style scoped>\n",
       "    .dataframe tbody tr th:only-of-type {\n",
       "        vertical-align: middle;\n",
       "    }\n",
       "\n",
       "    .dataframe tbody tr th {\n",
       "        vertical-align: top;\n",
       "    }\n",
       "\n",
       "    .dataframe thead th {\n",
       "        text-align: right;\n",
       "    }\n",
       "</style>\n",
       "<table border=\"1\" class=\"dataframe\">\n",
       "  <thead>\n",
       "    <tr style=\"text-align: right;\">\n",
       "      <th></th>\n",
       "      <th>Tag</th>\n",
       "      <th>relation</th>\n",
       "    </tr>\n",
       "  </thead>\n",
       "  <tbody>\n",
       "    <tr>\n",
       "      <th>0</th>\n",
       "      <td>post_rock</td>\n",
       "      <td>Null</td>\n",
       "    </tr>\n",
       "    <tr>\n",
       "      <th>1</th>\n",
       "      <td>house</td>\n",
       "      <td>Null</td>\n",
       "    </tr>\n",
       "    <tr>\n",
       "      <th>2</th>\n",
       "      <td>noise</td>\n",
       "      <td>fantasy, paranormal</td>\n",
       "    </tr>\n",
       "    <tr>\n",
       "      <th>3</th>\n",
       "      <td>beautiful</td>\n",
       "      <td>fantasy, paranormal</td>\n",
       "    </tr>\n",
       "    <tr>\n",
       "      <th>4</th>\n",
       "      <td>soul</td>\n",
       "      <td>Null</td>\n",
       "    </tr>\n",
       "    <tr>\n",
       "      <th>...</th>\n",
       "      <td>...</td>\n",
       "      <td>...</td>\n",
       "    </tr>\n",
       "    <tr>\n",
       "      <th>194</th>\n",
       "      <td>dark_ambient</td>\n",
       "      <td>Null</td>\n",
       "    </tr>\n",
       "    <tr>\n",
       "      <th>195</th>\n",
       "      <td>hip_hop</td>\n",
       "      <td>Null</td>\n",
       "    </tr>\n",
       "    <tr>\n",
       "      <th>196</th>\n",
       "      <td>singer_songwriter</td>\n",
       "      <td>Null</td>\n",
       "    </tr>\n",
       "    <tr>\n",
       "      <th>197</th>\n",
       "      <td>new_age</td>\n",
       "      <td>Null</td>\n",
       "    </tr>\n",
       "    <tr>\n",
       "      <th>198</th>\n",
       "      <td>downtempo</td>\n",
       "      <td>Null</td>\n",
       "    </tr>\n",
       "  </tbody>\n",
       "</table>\n",
       "<p>199 rows × 2 columns</p>\n",
       "</div>"
      ],
      "text/plain": [
       "                    Tag             relation\n",
       "0             post_rock                 Null\n",
       "1                 house                 Null\n",
       "2                 noise  fantasy, paranormal\n",
       "3             beautiful  fantasy, paranormal\n",
       "4                  soul                 Null\n",
       "..                  ...                  ...\n",
       "194        dark_ambient                 Null\n",
       "195             hip_hop                 Null\n",
       "196   singer_songwriter                 Null\n",
       "197             new_age                 Null\n",
       "198           downtempo                 Null\n",
       "\n",
       "[199 rows x 2 columns]"
      ]
     },
     "execution_count": 42,
     "metadata": {},
     "output_type": "execute_result"
    }
   ],
   "source": [
    "tag_table_new_music"
   ]
  },
  {
   "cell_type": "code",
   "execution_count": 43,
   "id": "9922dd85-49fa-4402-ab5f-ef92a5e38798",
   "metadata": {},
   "outputs": [],
   "source": [
    "import random as rd"
   ]
  },
  {
   "cell_type": "code",
   "execution_count": 44,
   "id": "d0efa5c1-0251-4533-be66-37f9ee00264f",
   "metadata": {},
   "outputs": [
    {
     "name": "stdout",
     "output_type": "stream",
     "text": [
      "upadated value fantasy, paranormal\n",
      "upadated value children\n",
      "upadated value poetry\n",
      "upadated value history, historical fiction, biography\n",
      "upadated value fantasy, paranormal\n",
      "upadated value young-adult\n",
      "upadated value non-fiction\n",
      "upadated value romance\n",
      "upadated value mystery, thriller, crime\n",
      "upadated value history, historical fiction, biography\n",
      "upadated value mystery, thriller, crime\n",
      "upadated value fiction\n",
      "upadated value poetry\n",
      "upadated value comics, graphic\n",
      "upadated value non-fiction\n",
      "upadated value romance\n",
      "upadated value non-fiction\n",
      "upadated value children\n",
      "upadated value poetry\n",
      "upadated value romance\n",
      "upadated value mystery, thriller, crime\n",
      "upadated value young-adult\n",
      "upadated value young-adult\n",
      "upadated value non-fiction\n",
      "upadated value mystery, thriller, crime\n",
      "upadated value romance\n",
      "upadated value non-fiction\n",
      "upadated value non-fiction\n",
      "upadated value young-adult\n",
      "upadated value non-fiction\n",
      "upadated value mystery, thriller, crime\n",
      "upadated value history, historical fiction, biography\n",
      "upadated value young-adult\n",
      "upadated value history, historical fiction, biography\n",
      "upadated value fantasy, paranormal\n",
      "upadated value mystery, thriller, crime\n",
      "upadated value young-adult\n",
      "upadated value history, historical fiction, biography\n",
      "upadated value young-adult\n",
      "upadated value comics, graphic\n",
      "upadated value young-adult\n",
      "upadated value mystery, thriller, crime\n",
      "upadated value romance\n",
      "upadated value fantasy, paranormal\n",
      "upadated value romance\n",
      "upadated value young-adult\n",
      "upadated value young-adult\n",
      "upadated value non-fiction\n",
      "upadated value children\n",
      "upadated value fiction\n",
      "upadated value comics, graphic\n",
      "upadated value young-adult\n",
      "upadated value young-adult\n",
      "upadated value romance\n",
      "upadated value children\n",
      "upadated value fantasy, paranormal\n",
      "upadated value non-fiction\n",
      "upadated value non-fiction\n",
      "upadated value fantasy, paranormal\n",
      "upadated value fiction\n",
      "upadated value non-fiction\n",
      "upadated value non-fiction\n",
      "upadated value mystery, thriller, crime\n",
      "upadated value young-adult\n",
      "upadated value non-fiction\n",
      "upadated value fantasy, paranormal\n",
      "upadated value poetry\n",
      "upadated value poetry\n",
      "upadated value poetry\n",
      "upadated value children\n",
      "upadated value young-adult\n",
      "upadated value history, historical fiction, biography\n",
      "upadated value non-fiction\n",
      "upadated value fiction\n",
      "upadated value children\n",
      "upadated value fiction\n",
      "upadated value history, historical fiction, biography\n",
      "upadated value young-adult\n",
      "upadated value fiction\n",
      "upadated value fiction\n",
      "upadated value comics, graphic\n",
      "upadated value poetry\n",
      "upadated value young-adult\n",
      "upadated value young-adult\n",
      "upadated value young-adult\n",
      "upadated value comics, graphic\n",
      "upadated value poetry\n",
      "upadated value comics, graphic\n",
      "upadated value non-fiction\n",
      "upadated value children\n",
      "upadated value fantasy, paranormal\n",
      "upadated value fantasy, paranormal\n",
      "upadated value children\n",
      "upadated value romance\n",
      "upadated value mystery, thriller, crime\n",
      "upadated value poetry\n",
      "upadated value fiction\n",
      "upadated value mystery, thriller, crime\n",
      "upadated value fiction\n",
      "upadated value young-adult\n",
      "upadated value romance\n",
      "upadated value history, historical fiction, biography\n",
      "upadated value comics, graphic\n",
      "upadated value non-fiction\n",
      "upadated value poetry\n",
      "upadated value poetry\n",
      "upadated value young-adult\n",
      "upadated value fantasy, paranormal\n",
      "upadated value romance\n",
      "upadated value children\n",
      "upadated value mystery, thriller, crime\n",
      "upadated value poetry\n",
      "upadated value fantasy, paranormal\n",
      "upadated value young-adult\n",
      "upadated value comics, graphic\n",
      "upadated value comics, graphic\n",
      "upadated value fantasy, paranormal\n",
      "upadated value children\n",
      "upadated value romance\n",
      "upadated value young-adult\n",
      "upadated value fantasy, paranormal\n",
      "upadated value children\n",
      "upadated value comics, graphic\n",
      "upadated value non-fiction\n",
      "upadated value comics, graphic\n",
      "upadated value history, historical fiction, biography\n",
      "upadated value fantasy, paranormal\n",
      "upadated value fantasy, paranormal\n",
      "upadated value romance\n",
      "upadated value fantasy, paranormal\n",
      "upadated value fantasy, paranormal\n",
      "upadated value non-fiction\n",
      "upadated value fantasy, paranormal\n",
      "upadated value fiction\n",
      "upadated value young-adult\n",
      "upadated value history, historical fiction, biography\n",
      "upadated value comics, graphic\n",
      "upadated value romance\n",
      "upadated value young-adult\n",
      "upadated value fiction\n",
      "upadated value children\n",
      "upadated value comics, graphic\n"
     ]
    }
   ],
   "source": [
    "for i in range(len(tag_table_new_music)):\n",
    "        if tag_table_new_music.iloc[i][\"relation\"]==\"Null\" :\n",
    "            tag_table_new_music.at[i,\"relation\"]=rd.choice(tag_book)\n",
    "            print(\"upadated value\" ,tag_table_new_music.iloc[i][\"relation\"])"
   ]
  },
  {
   "cell_type": "code",
   "execution_count": 45,
   "id": "6f827b61-ab94-494c-8adf-8a26d3c5ddda",
   "metadata": {},
   "outputs": [
    {
     "data": {
      "text/html": [
       "<div>\n",
       "<style scoped>\n",
       "    .dataframe tbody tr th:only-of-type {\n",
       "        vertical-align: middle;\n",
       "    }\n",
       "\n",
       "    .dataframe tbody tr th {\n",
       "        vertical-align: top;\n",
       "    }\n",
       "\n",
       "    .dataframe thead th {\n",
       "        text-align: right;\n",
       "    }\n",
       "</style>\n",
       "<table border=\"1\" class=\"dataframe\">\n",
       "  <thead>\n",
       "    <tr style=\"text-align: right;\">\n",
       "      <th></th>\n",
       "      <th>Tag</th>\n",
       "      <th>relation</th>\n",
       "    </tr>\n",
       "  </thead>\n",
       "  <tbody>\n",
       "    <tr>\n",
       "      <th>0</th>\n",
       "      <td>post_rock</td>\n",
       "      <td>fantasy, paranormal</td>\n",
       "    </tr>\n",
       "    <tr>\n",
       "      <th>1</th>\n",
       "      <td>house</td>\n",
       "      <td>children</td>\n",
       "    </tr>\n",
       "    <tr>\n",
       "      <th>2</th>\n",
       "      <td>noise</td>\n",
       "      <td>fantasy, paranormal</td>\n",
       "    </tr>\n",
       "    <tr>\n",
       "      <th>3</th>\n",
       "      <td>beautiful</td>\n",
       "      <td>fantasy, paranormal</td>\n",
       "    </tr>\n",
       "    <tr>\n",
       "      <th>4</th>\n",
       "      <td>soul</td>\n",
       "      <td>poetry</td>\n",
       "    </tr>\n",
       "    <tr>\n",
       "      <th>...</th>\n",
       "      <td>...</td>\n",
       "      <td>...</td>\n",
       "    </tr>\n",
       "    <tr>\n",
       "      <th>194</th>\n",
       "      <td>dark_ambient</td>\n",
       "      <td>romance</td>\n",
       "    </tr>\n",
       "    <tr>\n",
       "      <th>195</th>\n",
       "      <td>hip_hop</td>\n",
       "      <td>young-adult</td>\n",
       "    </tr>\n",
       "    <tr>\n",
       "      <th>196</th>\n",
       "      <td>singer_songwriter</td>\n",
       "      <td>fiction</td>\n",
       "    </tr>\n",
       "    <tr>\n",
       "      <th>197</th>\n",
       "      <td>new_age</td>\n",
       "      <td>children</td>\n",
       "    </tr>\n",
       "    <tr>\n",
       "      <th>198</th>\n",
       "      <td>downtempo</td>\n",
       "      <td>comics, graphic</td>\n",
       "    </tr>\n",
       "  </tbody>\n",
       "</table>\n",
       "<p>199 rows × 2 columns</p>\n",
       "</div>"
      ],
      "text/plain": [
       "                    Tag             relation\n",
       "0             post_rock  fantasy, paranormal\n",
       "1                 house             children\n",
       "2                 noise  fantasy, paranormal\n",
       "3             beautiful  fantasy, paranormal\n",
       "4                  soul               poetry\n",
       "..                  ...                  ...\n",
       "194        dark_ambient              romance\n",
       "195             hip_hop          young-adult\n",
       "196   singer_songwriter              fiction\n",
       "197             new_age             children\n",
       "198           downtempo      comics, graphic\n",
       "\n",
       "[199 rows x 2 columns]"
      ]
     },
     "execution_count": 45,
     "metadata": {},
     "output_type": "execute_result"
    }
   ],
   "source": [
    "tag_table_new_music"
   ]
  },
  {
   "cell_type": "code",
   "execution_count": 46,
   "id": "d9d87a86-4d5e-47eb-9bff-c3c4ef9133a1",
   "metadata": {},
   "outputs": [
    {
     "name": "stderr",
     "output_type": "stream",
     "text": [
      "C:\\Users\\Mahesh\\AppData\\Local\\Temp\\ipykernel_23448\\4032516536.py:1: FutureWarning: DataFrame.fillna with 'method' is deprecated and will raise in a future version. Use obj.ffill() or obj.bfill() instead.\n",
      "  tag_table_new_music.fillna(method ='bfill', inplace = True)\n"
     ]
    }
   ],
   "source": [
    "tag_table_new_music.fillna(method ='bfill', inplace = True)"
   ]
  },
  {
   "cell_type": "code",
   "execution_count": 47,
   "id": "e626945f-b1c3-44f9-bf3a-e48bfb58a63b",
   "metadata": {},
   "outputs": [],
   "source": [
    "new_music=new_music[['spotify_id', 'name', 'artist','tags']]"
   ]
  },
  {
   "cell_type": "code",
   "execution_count": 48,
   "id": "3afb9b9d-fc5a-4cf3-bb2f-b9734e911379",
   "metadata": {},
   "outputs": [
    {
     "data": {
      "text/html": [
       "<div>\n",
       "<style scoped>\n",
       "    .dataframe tbody tr th:only-of-type {\n",
       "        vertical-align: middle;\n",
       "    }\n",
       "\n",
       "    .dataframe tbody tr th {\n",
       "        vertical-align: top;\n",
       "    }\n",
       "\n",
       "    .dataframe thead th {\n",
       "        text-align: right;\n",
       "    }\n",
       "</style>\n",
       "<table border=\"1\" class=\"dataframe\">\n",
       "  <thead>\n",
       "    <tr style=\"text-align: right;\">\n",
       "      <th></th>\n",
       "      <th>spotify_id</th>\n",
       "      <th>name</th>\n",
       "      <th>artist</th>\n",
       "      <th>tags</th>\n",
       "    </tr>\n",
       "  </thead>\n",
       "  <tbody>\n",
       "    <tr>\n",
       "      <th>0</th>\n",
       "      <td>09ZQ5TmUG8TSL56n0knqrj</td>\n",
       "      <td>Mr. Brightside</td>\n",
       "      <td>The Killers</td>\n",
       "      <td>[rock,  alternative,  indie,  alternative_rock...</td>\n",
       "    </tr>\n",
       "    <tr>\n",
       "      <th>1</th>\n",
       "      <td>06UfBBDISthj1ZJAtX4xjj</td>\n",
       "      <td>Wonderwall</td>\n",
       "      <td>Oasis</td>\n",
       "      <td>[rock,  alternative,  indie,  pop,  alternativ...</td>\n",
       "    </tr>\n",
       "    <tr>\n",
       "      <th>2</th>\n",
       "      <td>0keNu0t0tqsWtExGM3nT1D</td>\n",
       "      <td>Come as You Are</td>\n",
       "      <td>Nirvana</td>\n",
       "      <td>[rock,  alternative,  alternative_rock,  90s, ...</td>\n",
       "    </tr>\n",
       "    <tr>\n",
       "      <th>3</th>\n",
       "      <td>0ancVQ9wEcHVd0RrGICTE4</td>\n",
       "      <td>Take Me Out</td>\n",
       "      <td>Franz Ferdinand</td>\n",
       "      <td>[rock,  alternative,  indie,  alternative_rock...</td>\n",
       "    </tr>\n",
       "    <tr>\n",
       "      <th>4</th>\n",
       "      <td>01QoK9DA7VTeTSE3MNzp4I</td>\n",
       "      <td>Creep</td>\n",
       "      <td>Radiohead</td>\n",
       "      <td>[rock,  alternative,  indie,  alternative_rock...</td>\n",
       "    </tr>\n",
       "  </tbody>\n",
       "</table>\n",
       "</div>"
      ],
      "text/plain": [
       "               spotify_id             name           artist  \\\n",
       "0  09ZQ5TmUG8TSL56n0knqrj   Mr. Brightside      The Killers   \n",
       "1  06UfBBDISthj1ZJAtX4xjj       Wonderwall            Oasis   \n",
       "2  0keNu0t0tqsWtExGM3nT1D  Come as You Are          Nirvana   \n",
       "3  0ancVQ9wEcHVd0RrGICTE4      Take Me Out  Franz Ferdinand   \n",
       "4  01QoK9DA7VTeTSE3MNzp4I            Creep        Radiohead   \n",
       "\n",
       "                                                tags  \n",
       "0  [rock,  alternative,  indie,  alternative_rock...  \n",
       "1  [rock,  alternative,  indie,  pop,  alternativ...  \n",
       "2  [rock,  alternative,  alternative_rock,  90s, ...  \n",
       "3  [rock,  alternative,  indie,  alternative_rock...  \n",
       "4  [rock,  alternative,  indie,  alternative_rock...  "
      ]
     },
     "execution_count": 48,
     "metadata": {},
     "output_type": "execute_result"
    }
   ],
   "source": [
    "new_music.head()"
   ]
  },
  {
   "cell_type": "code",
   "execution_count": 49,
   "id": "4f35d19b-9db4-4982-b826-518b4bad358d",
   "metadata": {},
   "outputs": [],
   "source": [
    "new_music_col = list(new_music.columns)\n",
    "new_music_tags = new_music['tags']\n",
    "tag_table_music=[[token, idx] for idx, token in enumerate(set(itertools.chain.from_iterable(new_music_tags)))]\n",
    "tag_table_music = pd.DataFrame(tag_table_music)\n",
    "tag_table_music.columns = ['Tag', 'Index']"
   ]
  },
  {
   "cell_type": "code",
   "execution_count": 50,
   "id": "d15ca723-64af-46f3-b62a-92dfde4f175f",
   "metadata": {},
   "outputs": [
    {
     "data": {
      "text/html": [
       "<div>\n",
       "<style scoped>\n",
       "    .dataframe tbody tr th:only-of-type {\n",
       "        vertical-align: middle;\n",
       "    }\n",
       "\n",
       "    .dataframe tbody tr th {\n",
       "        vertical-align: top;\n",
       "    }\n",
       "\n",
       "    .dataframe thead th {\n",
       "        text-align: right;\n",
       "    }\n",
       "</style>\n",
       "<table border=\"1\" class=\"dataframe\">\n",
       "  <thead>\n",
       "    <tr style=\"text-align: right;\">\n",
       "      <th></th>\n",
       "      <th>Tag</th>\n",
       "      <th>Index</th>\n",
       "    </tr>\n",
       "  </thead>\n",
       "  <tbody>\n",
       "    <tr>\n",
       "      <th>0</th>\n",
       "      <td>post_rock</td>\n",
       "      <td>0</td>\n",
       "    </tr>\n",
       "    <tr>\n",
       "      <th>1</th>\n",
       "      <td>house</td>\n",
       "      <td>1</td>\n",
       "    </tr>\n",
       "    <tr>\n",
       "      <th>2</th>\n",
       "      <td>noise</td>\n",
       "      <td>2</td>\n",
       "    </tr>\n",
       "    <tr>\n",
       "      <th>3</th>\n",
       "      <td>beautiful</td>\n",
       "      <td>3</td>\n",
       "    </tr>\n",
       "    <tr>\n",
       "      <th>4</th>\n",
       "      <td>soul</td>\n",
       "      <td>4</td>\n",
       "    </tr>\n",
       "    <tr>\n",
       "      <th>...</th>\n",
       "      <td>...</td>\n",
       "      <td>...</td>\n",
       "    </tr>\n",
       "    <tr>\n",
       "      <th>194</th>\n",
       "      <td>dark_ambient</td>\n",
       "      <td>194</td>\n",
       "    </tr>\n",
       "    <tr>\n",
       "      <th>195</th>\n",
       "      <td>hip_hop</td>\n",
       "      <td>195</td>\n",
       "    </tr>\n",
       "    <tr>\n",
       "      <th>196</th>\n",
       "      <td>singer_songwriter</td>\n",
       "      <td>196</td>\n",
       "    </tr>\n",
       "    <tr>\n",
       "      <th>197</th>\n",
       "      <td>new_age</td>\n",
       "      <td>197</td>\n",
       "    </tr>\n",
       "    <tr>\n",
       "      <th>198</th>\n",
       "      <td>downtempo</td>\n",
       "      <td>198</td>\n",
       "    </tr>\n",
       "  </tbody>\n",
       "</table>\n",
       "<p>199 rows × 2 columns</p>\n",
       "</div>"
      ],
      "text/plain": [
       "                    Tag  Index\n",
       "0             post_rock      0\n",
       "1                 house      1\n",
       "2                 noise      2\n",
       "3             beautiful      3\n",
       "4                  soul      4\n",
       "..                  ...    ...\n",
       "194        dark_ambient    194\n",
       "195             hip_hop    195\n",
       "196   singer_songwriter    196\n",
       "197             new_age    197\n",
       "198           downtempo    198\n",
       "\n",
       "[199 rows x 2 columns]"
      ]
     },
     "execution_count": 50,
     "metadata": {},
     "output_type": "execute_result"
    }
   ],
   "source": [
    "tag_table_music"
   ]
  },
  {
   "cell_type": "code",
   "execution_count": 51,
   "id": "abbda075-fbba-4140-8152-c5725267722c",
   "metadata": {},
   "outputs": [],
   "source": [
    "new_tag_dummy_music = np.zeros([len(new_music), len(tag_table_music)])"
   ]
  },
  {
   "cell_type": "code",
   "execution_count": 52,
   "id": "0a9bb2b9-c46e-44af-8006-3ea620e84462",
   "metadata": {},
   "outputs": [
    {
     "data": {
      "text/html": [
       "<div>\n",
       "<style scoped>\n",
       "    .dataframe tbody tr th:only-of-type {\n",
       "        vertical-align: middle;\n",
       "    }\n",
       "\n",
       "    .dataframe tbody tr th {\n",
       "        vertical-align: top;\n",
       "    }\n",
       "\n",
       "    .dataframe thead th {\n",
       "        text-align: right;\n",
       "    }\n",
       "</style>\n",
       "<table border=\"1\" class=\"dataframe\">\n",
       "  <thead>\n",
       "    <tr style=\"text-align: right;\">\n",
       "      <th></th>\n",
       "      <th>spotify_id</th>\n",
       "      <th>name</th>\n",
       "      <th>artist</th>\n",
       "      <th>tags</th>\n",
       "      <th>post_rock</th>\n",
       "      <th>house</th>\n",
       "      <th>noise</th>\n",
       "      <th>beautiful</th>\n",
       "      <th>soul</th>\n",
       "      <th>dark_ambient</th>\n",
       "      <th>...</th>\n",
       "      <th>screamo</th>\n",
       "      <th>britpop</th>\n",
       "      <th>pop_rock</th>\n",
       "      <th>singer_songwriter</th>\n",
       "      <th>ambient</th>\n",
       "      <th>dark_ambient</th>\n",
       "      <th>hip_hop</th>\n",
       "      <th>singer_songwriter</th>\n",
       "      <th>new_age</th>\n",
       "      <th>downtempo</th>\n",
       "    </tr>\n",
       "  </thead>\n",
       "  <tbody>\n",
       "    <tr>\n",
       "      <th>0</th>\n",
       "      <td>09ZQ5TmUG8TSL56n0knqrj</td>\n",
       "      <td>Mr. Brightside</td>\n",
       "      <td>The Killers</td>\n",
       "      <td>[rock,  alternative,  indie,  alternative_rock...</td>\n",
       "      <td>0.0</td>\n",
       "      <td>0.0</td>\n",
       "      <td>0.0</td>\n",
       "      <td>0.0</td>\n",
       "      <td>0.0</td>\n",
       "      <td>0.0</td>\n",
       "      <td>...</td>\n",
       "      <td>0.0</td>\n",
       "      <td>0.0</td>\n",
       "      <td>0.0</td>\n",
       "      <td>0.0</td>\n",
       "      <td>0.0</td>\n",
       "      <td>0.0</td>\n",
       "      <td>0.0</td>\n",
       "      <td>0.0</td>\n",
       "      <td>0.0</td>\n",
       "      <td>0.0</td>\n",
       "    </tr>\n",
       "    <tr>\n",
       "      <th>1</th>\n",
       "      <td>06UfBBDISthj1ZJAtX4xjj</td>\n",
       "      <td>Wonderwall</td>\n",
       "      <td>Oasis</td>\n",
       "      <td>[rock,  alternative,  indie,  pop,  alternativ...</td>\n",
       "      <td>0.0</td>\n",
       "      <td>0.0</td>\n",
       "      <td>0.0</td>\n",
       "      <td>0.0</td>\n",
       "      <td>0.0</td>\n",
       "      <td>0.0</td>\n",
       "      <td>...</td>\n",
       "      <td>0.0</td>\n",
       "      <td>1.0</td>\n",
       "      <td>0.0</td>\n",
       "      <td>0.0</td>\n",
       "      <td>0.0</td>\n",
       "      <td>0.0</td>\n",
       "      <td>0.0</td>\n",
       "      <td>0.0</td>\n",
       "      <td>0.0</td>\n",
       "      <td>0.0</td>\n",
       "    </tr>\n",
       "    <tr>\n",
       "      <th>2</th>\n",
       "      <td>0keNu0t0tqsWtExGM3nT1D</td>\n",
       "      <td>Come as You Are</td>\n",
       "      <td>Nirvana</td>\n",
       "      <td>[rock,  alternative,  alternative_rock,  90s, ...</td>\n",
       "      <td>0.0</td>\n",
       "      <td>0.0</td>\n",
       "      <td>0.0</td>\n",
       "      <td>0.0</td>\n",
       "      <td>0.0</td>\n",
       "      <td>0.0</td>\n",
       "      <td>...</td>\n",
       "      <td>0.0</td>\n",
       "      <td>0.0</td>\n",
       "      <td>0.0</td>\n",
       "      <td>0.0</td>\n",
       "      <td>0.0</td>\n",
       "      <td>0.0</td>\n",
       "      <td>0.0</td>\n",
       "      <td>0.0</td>\n",
       "      <td>0.0</td>\n",
       "      <td>0.0</td>\n",
       "    </tr>\n",
       "    <tr>\n",
       "      <th>3</th>\n",
       "      <td>0ancVQ9wEcHVd0RrGICTE4</td>\n",
       "      <td>Take Me Out</td>\n",
       "      <td>Franz Ferdinand</td>\n",
       "      <td>[rock,  alternative,  indie,  alternative_rock...</td>\n",
       "      <td>0.0</td>\n",
       "      <td>0.0</td>\n",
       "      <td>0.0</td>\n",
       "      <td>0.0</td>\n",
       "      <td>0.0</td>\n",
       "      <td>0.0</td>\n",
       "      <td>...</td>\n",
       "      <td>0.0</td>\n",
       "      <td>1.0</td>\n",
       "      <td>0.0</td>\n",
       "      <td>0.0</td>\n",
       "      <td>0.0</td>\n",
       "      <td>0.0</td>\n",
       "      <td>0.0</td>\n",
       "      <td>0.0</td>\n",
       "      <td>0.0</td>\n",
       "      <td>0.0</td>\n",
       "    </tr>\n",
       "    <tr>\n",
       "      <th>4</th>\n",
       "      <td>01QoK9DA7VTeTSE3MNzp4I</td>\n",
       "      <td>Creep</td>\n",
       "      <td>Radiohead</td>\n",
       "      <td>[rock,  alternative,  indie,  alternative_rock...</td>\n",
       "      <td>0.0</td>\n",
       "      <td>0.0</td>\n",
       "      <td>0.0</td>\n",
       "      <td>0.0</td>\n",
       "      <td>0.0</td>\n",
       "      <td>0.0</td>\n",
       "      <td>...</td>\n",
       "      <td>0.0</td>\n",
       "      <td>1.0</td>\n",
       "      <td>0.0</td>\n",
       "      <td>0.0</td>\n",
       "      <td>0.0</td>\n",
       "      <td>0.0</td>\n",
       "      <td>0.0</td>\n",
       "      <td>0.0</td>\n",
       "      <td>0.0</td>\n",
       "      <td>0.0</td>\n",
       "    </tr>\n",
       "  </tbody>\n",
       "</table>\n",
       "<p>5 rows × 203 columns</p>\n",
       "</div>"
      ],
      "text/plain": [
       "               spotify_id             name           artist  \\\n",
       "0  09ZQ5TmUG8TSL56n0knqrj   Mr. Brightside      The Killers   \n",
       "1  06UfBBDISthj1ZJAtX4xjj       Wonderwall            Oasis   \n",
       "2  0keNu0t0tqsWtExGM3nT1D  Come as You Are          Nirvana   \n",
       "3  0ancVQ9wEcHVd0RrGICTE4      Take Me Out  Franz Ferdinand   \n",
       "4  01QoK9DA7VTeTSE3MNzp4I            Creep        Radiohead   \n",
       "\n",
       "                                                tags  post_rock   house  \\\n",
       "0  [rock,  alternative,  indie,  alternative_rock...        0.0     0.0   \n",
       "1  [rock,  alternative,  indie,  pop,  alternativ...        0.0     0.0   \n",
       "2  [rock,  alternative,  alternative_rock,  90s, ...        0.0     0.0   \n",
       "3  [rock,  alternative,  indie,  alternative_rock...        0.0     0.0   \n",
       "4  [rock,  alternative,  indie,  alternative_rock...        0.0     0.0   \n",
       "\n",
       "   noise  beautiful   soul   dark_ambient  ...   screamo   britpop  pop_rock  \\\n",
       "0    0.0        0.0    0.0            0.0  ...       0.0       0.0       0.0   \n",
       "1    0.0        0.0    0.0            0.0  ...       0.0       1.0       0.0   \n",
       "2    0.0        0.0    0.0            0.0  ...       0.0       0.0       0.0   \n",
       "3    0.0        0.0    0.0            0.0  ...       0.0       1.0       0.0   \n",
       "4    0.0        0.0    0.0            0.0  ...       0.0       1.0       0.0   \n",
       "\n",
       "   singer_songwriter  ambient  dark_ambient   hip_hop   singer_songwriter  \\\n",
       "0                0.0      0.0           0.0       0.0                 0.0   \n",
       "1                0.0      0.0           0.0       0.0                 0.0   \n",
       "2                0.0      0.0           0.0       0.0                 0.0   \n",
       "3                0.0      0.0           0.0       0.0                 0.0   \n",
       "4                0.0      0.0           0.0       0.0                 0.0   \n",
       "\n",
       "    new_age  downtempo  \n",
       "0       0.0        0.0  \n",
       "1       0.0        0.0  \n",
       "2       0.0        0.0  \n",
       "3       0.0        0.0  \n",
       "4       0.0        0.0  \n",
       "\n",
       "[5 rows x 203 columns]"
      ]
     },
     "execution_count": 52,
     "metadata": {},
     "output_type": "execute_result"
    }
   ],
   "source": [
    "for i in range(len(new_music)):\n",
    "    for j in range(len(tag_table_music)):\n",
    "        if tag_table_music['Tag'][j] in  new_music.iloc[i][\"tags\"]:\n",
    "            new_tag_dummy_music[i, j] = 1\n",
    "            \n",
    "new_hot_encoded_music = pd.concat([new_music, pd.DataFrame(new_tag_dummy_music)],axis = 1)\n",
    "new_music_col.extend([string for string in tag_table_music['Tag']])\n",
    "new_hot_encoded_music.columns = new_music_col\n",
    "new_hot_encoded_music.head()"
   ]
  },
  {
   "cell_type": "code",
   "execution_count": 53,
   "id": "ff550a24-a8cc-4d19-b796-0a199a8104ab",
   "metadata": {},
   "outputs": [],
   "source": [
    "def lower_case(tag_selected_book):\n",
    "    list=[]\n",
    "    for i in tag_selected_book:\n",
    "        list.append(i.lower())\n",
    "    return list  "
   ]
  },
  {
   "cell_type": "code",
   "execution_count": 54,
   "id": "39806176-7264-479e-8b3d-8ffb2818c1fc",
   "metadata": {},
   "outputs": [],
   "source": [
    "def recommend(book_name):\n",
    "    book_id=[]\n",
    "    index = new_book_df[new_book_df['title'] == book_name].index[0]\n",
    "    distances = sorted(list(enumerate(similarity[index])),reverse=True,key = lambda x: x[1])\n",
    "    for i in distances[1:6]:\n",
    "        book_id.append(new_book_df.iloc[i[0]].book_id)\n",
    "    filtered_dataset = pd.DataFrame([ final_book[final_book.book_id == i].values[0] for i in book_id], columns = ['book_id', 'title','genre',\"description\"])\n",
    "    selected_book_tags = filtered_dataset['genre']\n",
    "    tag_selected_book = [ token for idx, token in enumerate(set(itertools.chain.from_iterable(selected_book_tags)))]\n",
    "    tag_selected_book=lower_case(tag_selected_book)\n",
    "    new_tag_selected_music = [tag_table_new_music[tag_table_new_music.relation == i].Tag.values for i in tag_selected_book]\n",
    "    new_tag_selected_music = [ token for idx, token in enumerate(set(itertools.chain.from_iterable(new_tag_selected_music)))]\n",
    "    recommended_new_music = []\n",
    "    counts = np.zeros((new_hot_encoded_music.shape[0]))\n",
    "    for i in new_tag_selected_music:\n",
    "        indices = new_hot_encoded_music[new_hot_encoded_music[i] == 1.0].index.tolist()\n",
    "        for j in indices:\n",
    "            counts[j] += 1.0\n",
    "    for i in range(40):\n",
    "        max_idx = counts.argmax()\n",
    "        recommended_new_music.append(max_idx)\n",
    "        counts[max_idx] = 0\n",
    "    recommended_new_music = new_hot_encoded_music.iloc[recommended_new_music].name.values\n",
    "    recommended_new_music = np.array(recommended_new_music)\n",
    "    recommended_new_music = recommended_new_music.ravel()\n",
    "    return  recommended_new_music"
   ]
  },
  {
   "cell_type": "code",
   "execution_count": 55,
   "id": "3a4b9857-4cfd-425b-a1e4-cd164d6d440d",
   "metadata": {},
   "outputs": [
    {
     "data": {
      "text/plain": [
       "array(['Benjamin', 'Now or Never', 'Lush Life', 'Hotter Than Hell',\n",
       "       'Grey Days', 'The Abyss', 'Spun', 'Strain', 'Offering', 'Scrape',\n",
       "       'Welt', 'The Warden', 'Flatlands', 'Lowlife', 'In The Woods',\n",
       "       'Simple Death', 'Altar', 'Junction', 'Witness', 'Moses',\n",
       "       'The Wasteland', 'More And More', 'Point of No Return',\n",
       "       \"I Can't Help You\", 'Kill Fix Demo', \"Shinin' On\",\n",
       "       \"Won't Drag Me Down\", 'Candy Andy Jane', 'In Mourning',\n",
       "       'Het Is Over', 'Shadows/Light', 'Survive', 'Jukebox', 'Suitcases',\n",
       "       'Blameless', 'Bottomless Pit', 'Vex', 'Brian Boru',\n",
       "       'Yours Forever', 'That Other Girl'], dtype=object)"
      ]
     },
     "execution_count": 55,
     "metadata": {},
     "output_type": "execute_result"
    }
   ],
   "source": [
    "recommend(\"Sharp Objects\")"
   ]
  },
  {
   "cell_type": "code",
   "execution_count": 56,
   "id": "0a56eff9-9fde-464c-a5db-0fbced88d59f",
   "metadata": {},
   "outputs": [
    {
     "data": {
      "text/plain": [
       "array(['Now or Never', 'Benjamin', 'Lush Life', 'Hotter Than Hell',\n",
       "       'Grey Days', 'The Abyss', 'Spun', 'Strain', 'Offering',\n",
       "       'The Warden', 'Scrape', 'Welt', 'Flatlands', 'Lowlife',\n",
       "       'In The Woods', 'Simple Death', 'Altar', 'Witness',\n",
       "       'The Wasteland', 'Junction', 'Moses', 'Point of No Return',\n",
       "       \"I Can't Help You\", 'Kill Fix Demo', \"Shinin' On\",\n",
       "       \"Won't Drag Me Down\", 'Candy Andy Jane', 'In Mourning',\n",
       "       'Het Is Over', 'Shadows/Light', 'More And More', 'Survive',\n",
       "       'Brian Boru', 'Vex', 'That Other Girl', 'Hilferuf', 'Der Brief',\n",
       "       'Jukebox', 'Suitcases', 'Blameless'], dtype=object)"
      ]
     },
     "execution_count": 56,
     "metadata": {},
     "output_type": "execute_result"
    }
   ],
   "source": [
    "recommend(\"Blue Bloods Blue Bloods 1\")"
   ]
  },
  {
   "cell_type": "code",
   "execution_count": 57,
   "id": "230ff380-c20f-486b-832e-aa6458ab62c8",
   "metadata": {},
   "outputs": [
    {
     "data": {
      "text/plain": [
       "array(['Now or Never', 'Benjamin', 'Lush Life', 'Hotter Than Hell',\n",
       "       'Grey Days', 'The Abyss', 'Spun', 'Strain', 'Offering',\n",
       "       'The Warden', 'Scrape', 'Welt', 'Flatlands', 'Lowlife',\n",
       "       'In The Woods', 'Simple Death', 'Moses', 'The Wasteland', 'Altar',\n",
       "       'Junction', 'Witness', 'Point of No Return', \"I Can't Help You\",\n",
       "       'Kill Fix Demo', \"Shinin' On\", \"Won't Drag Me Down\",\n",
       "       'Candy Andy Jane', 'In Mourning', 'Het Is Over', 'Shadows/Light',\n",
       "       'More And More', 'Survive', 'Brian Boru', 'Suitcases', 'Blameless',\n",
       "       'Vex', 'Der Brief', 'Jukebox', 'Yours Forever', 'That Other Girl'],\n",
       "      dtype=object)"
      ]
     },
     "execution_count": 57,
     "metadata": {},
     "output_type": "execute_result"
    }
   ],
   "source": [
    "recommend(\"Me Before You Me Before You 1\")"
   ]
  },
  {
   "cell_type": "code",
   "execution_count": 58,
   "id": "394b7312-1d70-4c5e-b23b-e8745d5d569d",
   "metadata": {},
   "outputs": [],
   "source": [
    "import pickle"
   ]
  },
  {
   "cell_type": "code",
   "execution_count": 59,
   "id": "3926df9e-59f5-41a6-8dee-f4020c245fd9",
   "metadata": {},
   "outputs": [],
   "source": [
    "pickle.dump(new_book_df,open('artifacts/book_df.pkl','wb'))\n",
    "pickle.dump(similarity,open('artifacts/similarity.pkl','wb'))\n",
    "pickle.dump(final_book,open('artifacts/final_book.pkl','wb'))\n",
    "pickle.dump(tag_table_new_music,open('artifacts/tag_table_new_music.pkl','wb'))\n",
    "pickle.dump(new_hot_encoded_music,open('artifacts/new_hot_encoded_music.pkl','wb'))"
   ]
  },
  {
   "cell_type": "code",
   "execution_count": 60,
   "id": "eedc521d-20ce-474a-b28b-22da8f851e40",
   "metadata": {},
   "outputs": [],
   "source": [
    "book_titles=book.title.unique().tolist()"
   ]
  },
  {
   "cell_type": "code",
   "execution_count": 61,
   "id": "1c54d5b2-6756-45e7-bbc5-d78f4dbf2c00",
   "metadata": {},
   "outputs": [],
   "source": [
    "book_titles=pd.DataFrame(book_titles)\n",
    "book_titles.columns=[\"titles\"]\n",
    "book_titles.to_json(\"book_titles_new.json\")"
   ]
  },
  {
   "cell_type": "code",
   "execution_count": 62,
   "id": "eb246251-cd6a-4ddf-8dc2-5c6669cd55d5",
   "metadata": {},
   "outputs": [],
   "source": [
    "bk=book.title.unique().tolist()"
   ]
  },
  {
   "cell_type": "code",
   "execution_count": 63,
   "id": "87819b8c-d2f0-4b6f-8f27-a8ec415d96b1",
   "metadata": {
    "scrolled": true
   },
   "outputs": [
    {
     "data": {
      "text/plain": [
       "[{'title': 'Pride and Prejudice and Zombies Pride and Prejudice and Zombies 1'},\n",
       " {'title': 'Blue Bloods Blue Bloods 1'},\n",
       " {'title': 'Me Before You Me Before You 1'},\n",
       " {'title': 'Sharp Objects'},\n",
       " {'title': 'The Way of Kings The Stormlight Archive 1'},\n",
       " {'title': 'The Andromeda Strain'},\n",
       " {'title': 'A Dance with Dragons A Song of Ice and Fire 5'},\n",
       " {'title': 'A Clash of Kings A Song of Ice and Fire 2'},\n",
       " {'title': 'The Eye of the World Wheel of Time 1'},\n",
       " {'title': 'The Great Hunt Wheel of Time 2'},\n",
       " {'title': 'Eleven Minutes'},\n",
       " {'title': 'The Ultimate Hitchhikers Guide to the Galaxy'},\n",
       " {'title': 'Hamlet Screenplay Introduction And Film Diary'},\n",
       " {'title': 'From Dead to Worse Sookie Stackhouse 8'},\n",
       " {'title': 'Dead as a Doornail Sookie Stackhouse 5'},\n",
       " {'title': 'Living Dead in Dallas Sookie Stackhouse 2'},\n",
       " {'title': 'The Girl Who Loved Tom Gordon'},\n",
       " {'title': 'Doctor Sleep'},\n",
       " {'title': 'Harry Potter Boxset Harry Potter 17'},\n",
       " {'title': 'Harry Potter and the Cursed Child Parts One and Two Harry Potter 8'},\n",
       " {'title': 'I Am the Messenger'},\n",
       " {'title': 'I Robot Robot 01'},\n",
       " {'title': 'The Name of the Wind The Kingkiller Chronicle 1'},\n",
       " {'title': 'The Son of Neptune The Heroes of Olympus 2'},\n",
       " {'title': 'Anna and the French Kiss Anna and the French Kiss 1'},\n",
       " {'title': 'The Short Second Life of Bree Tanner Twilight 35'},\n",
       " {'title': 'Midnight Sun Twilight 15'},\n",
       " {'title': 'Fallen Too Far Rosemary Beach 1 Too Far 1'},\n",
       " {'title': 'The TellTale Heart and Other Writings'},\n",
       " {'title': 'A Wizard of Earthsea Earthsea Cycle 1'},\n",
       " {'title': 'The Devil Wears Prada The Devil Wears Prada 1'},\n",
       " {'title': 'Freakonomics A Rogue Economist Explores the Hidden Side of Everything Freakonomics 1'},\n",
       " {'title': 'Angelfall Penryn the End of Days 1'},\n",
       " {'title': 'Bridget Joness Diary Bridget Jones 1'},\n",
       " {'title': 'Watership Down Watership Down 1'},\n",
       " {'title': 'The Firm Penguin Readers Level 5'},\n",
       " {'title': 'Good Omens The Nice and Accurate Prophecies of Agnes Nutter Witch'},\n",
       " {'title': 'Where the Sidewalk Ends'},\n",
       " {'title': 'The Very Hungry Caterpillar'},\n",
       " {'title': 'We Should All Be Feminists'},\n",
       " {'title': 'The Five People You Meet in Heaven'},\n",
       " {'title': 'Mort Death 1 Discworld 4'},\n",
       " {'title': 'The Color of Magic Discworld 1 Rincewind 1'},\n",
       " {'title': 'Betrayed House of Night 2'},\n",
       " {'title': 'Poison Study Study 1'},\n",
       " {'title': 'Lover Mine Black Dagger Brotherhood 8'},\n",
       " {'title': 'Eldest The Inheritance Cycle 2'},\n",
       " {'title': 'Brisingr The Inheritance Cycle 3'},\n",
       " {'title': 'Eragon The Inheritance Cycle 1'},\n",
       " {'title': 'Pretty Little Liars Pretty Little Liars 1'},\n",
       " {'title': 'The Chronicles of Narnia Chronicles of Narnia 17'},\n",
       " {'title': 'The Paris Wife'},\n",
       " {'title': 'I Am Malala The Story of the Girl Who Stood Up for Education and Was Shot by the Taliban'},\n",
       " {'title': 'Clockwork Princess The Infernal Devices 3'},\n",
       " {'title': 'Mrs Frisby and the Rats of NIMH Rats of NIMH 1'},\n",
       " {'title': 'Free Four Tobias Tells the Divergent KnifeThrowing Scene Divergent 15'},\n",
       " {'title': 'Wonder Wonder 1'},\n",
       " {'title': 'Finale Hush Hush 4'},\n",
       " {'title': 'The Hunt for Red October Jack Ryan Universe 4'},\n",
       " {'title': 'Saga Vol 1 Saga 1'},\n",
       " {'title': 'Saga Vol 2 Saga 2'},\n",
       " {'title': 'Saga Vol 3 Saga 3'},\n",
       " {'title': 'The Namesake'},\n",
       " {'title': 'Not That Kind of Girl A Young Woman Tells You What Shes Learned'},\n",
       " {'title': 'The Walking Dead Vol 01 Days Gone Bye'},\n",
       " {'title': 'Something Borrowed Darcy Rachel 1'},\n",
       " {'title': 'Frostbite Vampire Academy 2'},\n",
       " {'title': 'This Lullaby'},\n",
       " {'title': 'Forever The Wolves of Mercy Falls 3'},\n",
       " {'title': 'Catch22 Catch22 1'},\n",
       " {'title': 'WinniethePooh WinniethePooh 1'},\n",
       " {'title': 'The Coincidence of Callie Kayden The Coincidence 1'},\n",
       " {'title': 'Faefever Fever 3'},\n",
       " {'title': 'Wicked Lovely Wicked Lovely 1'},\n",
       " {'title': 'The Amber Spyglass His Dark Materials 3'},\n",
       " {'title': 'Watchmen'},\n",
       " {'title': 'Slammed Slammed 1'},\n",
       " {'title': 'Confess'},\n",
       " {'title': 'The Summer I Turned Pretty Summer 1'},\n",
       " {'title': 'Lean In Women Work and the Will to Lead'},\n",
       " {'title': 'Shutter Island'},\n",
       " {'title': 'Unravel Me Shatter Me 2'},\n",
       " {'title': 'Angus Thongs and FullFrontal Snogging Confessions of Georgia Nicolson 1'},\n",
       " {'title': 'The Secret The Secret 1'},\n",
       " {'title': 'Beastly Beastly 1 Kendra Chronicles 1'},\n",
       " {'title': 'Marley and Me Life and Love With the Worlds Worst Dog'},\n",
       " {'title': 'The Polar Express'},\n",
       " {'title': 'A Child Called It Dave Pelzer 1'},\n",
       " {'title': 'Oedipus Rex The Theban Plays 1'},\n",
       " {'title': 'The Nanny Diaries Nanny 1'},\n",
       " {'title': 'Maus I A Survivors Tale My Father Bleeds History Maus 1'},\n",
       " {'title': 'How to Be a Woman'},\n",
       " {'title': 'Persepolis The Story of a Childhood Persepolis 1'},\n",
       " {'title': 'The City of Ember Book of Ember 1'},\n",
       " {'title': 'Wicked The Life and Times of the Wicked Witch of the West The Wicked Years 1'},\n",
       " {'title': 'Harry Potter and the Cursed Child Parts 1 2 Harry Potter 8'}]"
      ]
     },
     "execution_count": 63,
     "metadata": {},
     "output_type": "execute_result"
    }
   ],
   "source": [
    "results = [{'title': song} for song in bk]\n",
    "results"
   ]
  },
  {
   "cell_type": "code",
   "execution_count": 64,
   "id": "af1b0117-4b72-4811-a8fa-73ef5b345a84",
   "metadata": {},
   "outputs": [
    {
     "name": "stdout",
     "output_type": "stream",
     "text": [
      "Blue Bloods Blue Bloods 1\n",
      "Clockwork Princess The Infernal Devices 3\n",
      "The Secret The Secret 1\n",
      "A Wizard of Earthsea Earthsea Cycle 1\n",
      "The City of Ember Book of Ember 1\n"
     ]
    }
   ],
   "source": [
    "recommend2(\"Pretty Little Liars Pretty Little Liars 1\")"
   ]
  },
  {
   "cell_type": "code",
   "execution_count": 65,
   "id": "7db6ee7b-efcd-4cc8-8d25-c7088401f24a",
   "metadata": {},
   "outputs": [
    {
     "name": "stdout",
     "output_type": "stream",
     "text": [
      "The TellTale Heart and Other Writings\n",
      "I Am the Messenger\n",
      "The Son of Neptune The Heroes of Olympus 2\n",
      "Free Four Tobias Tells the Divergent KnifeThrowing Scene Divergent 15\n",
      "Maus I A Survivors Tale My Father Bleeds History Maus 1\n"
     ]
    }
   ],
   "source": [
    "recommend2(\"Clockwork Princess The Infernal Devices 3\")"
   ]
  },
  {
   "cell_type": "code",
   "execution_count": 66,
   "id": "c7076251-d1aa-4466-80a6-7d1c270a619f",
   "metadata": {},
   "outputs": [
    {
     "name": "stdout",
     "output_type": "stream",
     "text": [
      "Dead as a Doornail Sookie Stackhouse 5\n",
      "Living Dead in Dallas Sookie Stackhouse 2\n",
      "The Walking Dead Vol 01 Days Gone Bye\n",
      "Betrayed House of Night 2\n",
      "Blue Bloods Blue Bloods 1\n"
     ]
    }
   ],
   "source": [
    "recommend2(\"From Dead to Worse Sookie Stackhouse 8\")"
   ]
  },
  {
   "cell_type": "code",
   "execution_count": 67,
   "id": "2a48a25e-0281-4bfe-8437-dd01ac0fb2d8",
   "metadata": {},
   "outputs": [
    {
     "name": "stdout",
     "output_type": "stream",
     "text": [
      "Pretty Little Liars Pretty Little Liars 1\n",
      "Blue Bloods Blue Bloods 1\n",
      "Slammed Slammed 1\n",
      "Persepolis The Story of a Childhood Persepolis 1\n",
      "The Five People You Meet in Heaven\n"
     ]
    }
   ],
   "source": [
    "recommend2(\"The Secret The Secret 1\")"
   ]
  },
  {
   "cell_type": "code",
   "execution_count": 68,
   "id": "df484eb7-54c2-4c28-b89f-35cf0cd7a851",
   "metadata": {},
   "outputs": [
    {
     "name": "stdout",
     "output_type": "stream",
     "text": [
      "From Dead to Worse Sookie Stackhouse 8\n",
      "Living Dead in Dallas Sookie Stackhouse 2\n",
      "Fallen Too Far Rosemary Beach 1 Too Far 1\n",
      "The Walking Dead Vol 01 Days Gone Bye\n",
      "I Am the Messenger\n"
     ]
    }
   ],
   "source": [
    "recommend2(\"Dead as a Doornail Sookie Stackhouse 5\")"
   ]
  },
  {
   "cell_type": "code",
   "execution_count": null,
   "id": "dc9a60be-b9ea-43e7-9e9b-3be4365f8473",
   "metadata": {},
   "outputs": [],
   "source": []
  }
 ],
 "metadata": {
  "kernelspec": {
   "display_name": "Python 3 (ipykernel)",
   "language": "python",
   "name": "python3"
  },
  "language_info": {
   "codemirror_mode": {
    "name": "ipython",
    "version": 3
   },
   "file_extension": ".py",
   "mimetype": "text/x-python",
   "name": "python",
   "nbconvert_exporter": "python",
   "pygments_lexer": "ipython3",
   "version": "3.10.9"
  }
 },
 "nbformat": 4,
 "nbformat_minor": 5
}
